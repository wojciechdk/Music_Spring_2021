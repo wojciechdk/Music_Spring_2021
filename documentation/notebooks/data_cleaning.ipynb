{
 "cells": [
  {
   "cell_type": "markdown",
   "metadata": {},
   "source": [
    "<hr style=\"border:2px solid black\"></hr>\n",
    "\n",
    "# Initialization"
   ]
  },
  {
   "cell_type": "markdown",
   "metadata": {},
   "source": [
    "Imports:"
   ]
  },
  {
   "cell_type": "code",
   "execution_count": 2,
   "metadata": {
    "pycharm": {
     "name": "#%% Imports\n"
    }
   },
   "outputs": [],
   "source": [
    "from toolbox.config import Config\n",
    "from toolbox.imports import *"
   ]
  },
  {
   "cell_type": "markdown",
   "metadata": {},
   "source": [
    "Create a Spark Session:"
   ]
  },
  {
   "cell_type": "code",
   "execution_count": 3,
   "metadata": {
    "pycharm": {
     "name": "#%% Initialize a Spark session\n"
    },
    "scrolled": true
   },
   "outputs": [
    {
     "name": "stdout",
     "output_type": "stream",
     "text": [
      "Creating a Spark session.\n",
      "\tExecution time: 68.34380 s.\n"
     ]
    }
   ],
   "source": [
    "spark = t.spark.create_session('Music_Activity_Jupyter')"
   ]
  },
  {
   "cell_type": "markdown",
   "metadata": {},
   "source": [
    "Get the paths of data files and folders:"
   ]
  },
  {
   "cell_type": "code",
   "execution_count": 4,
   "metadata": {},
   "outputs": [
    {
     "name": "stdout",
     "output_type": "stream",
     "text": [
      "Getting the data paths.\n",
      "\tNumber of folders: 62\n",
      "\tNumber of files: 275621\n"
     ]
    }
   ],
   "source": [
    "data_root, data_subfolders, data_files = t.get_data_paths()"
   ]
  },
  {
   "cell_type": "markdown",
   "metadata": {},
   "source": [
    "Load two sample dataframes: one containing 1e5 records, the second one containing 1e6 records:"
   ]
  },
  {
   "cell_type": "code",
   "execution_count": 5,
   "metadata": {
    "pycharm": {
     "name": "#%% Load sample dataframe\n"
    }
   },
   "outputs": [
    {
     "name": "stdout",
     "output_type": "stream",
     "text": [
      "Loading dataframe from \"/data/work/shared/s001284/Music_Project/resources/data/df_sample_1E5.parquet\".\n",
      "\tExecution time: 2.81771 s.\n",
      "Loading dataframe from \"/data/work/shared/s001284/Music_Project/resources/data/df_sample_1E6.parquet\".\n",
      "\tExecution time: 0.81694 s.\n"
     ]
    }
   ],
   "source": [
    "path_df_1E5 = Config.Path.project_data_root / 'df_sample_1E5.parquet'\n",
    "path_df_1E6 = Config.Path.project_data_root / 'df_sample_1E6.parquet'\n",
    "\n",
    "df_1E5 = t.spark.load_dataframe_from_parquet(path_df_1E5, spark)\n",
    "df_1E6 = t.spark.load_dataframe_from_parquet(path_df_1E6, spark)"
   ]
  },
  {
   "cell_type": "markdown",
   "metadata": {},
   "source": [
    "Cache the dataframes:"
   ]
  },
  {
   "cell_type": "code",
   "execution_count": 6,
   "metadata": {
    "pycharm": {
     "name": "#%% Cache\n"
    },
    "scrolled": false
   },
   "outputs": [],
   "source": [
    "# df_1E5.cache()\n",
    "# df_1E6.cache()\n",
    "\n",
    "# number_of_rows_df_1E5 = t.spark.count_rows(df_1E5)\n",
    "# number_of_rows_df_1E6 = t.spark.count_rows(df_1E6)"
   ]
  },
  {
   "cell_type": "markdown",
   "metadata": {},
   "source": [
    "<hr style=\"border:2px solid black\"></hr>\n",
    "\n",
    "# Removing irrelevant columns"
   ]
  },
  {
   "cell_type": "markdown",
   "metadata": {},
   "source": [
    "Take the first 100 rows of the small database and transform it to Pandas for the comfort of viewing."
   ]
  },
  {
   "cell_type": "code",
   "execution_count": 7,
   "metadata": {
    "pycharm": {
     "name": "#%% Convert to pandas\n"
    }
   },
   "outputs": [],
   "source": [
    "df_sample_pd = df_1E5.limit(100).toPandas()"
   ]
  },
  {
   "cell_type": "markdown",
   "metadata": {},
   "source": [
    "Get the description of the the columns from the writer schema in the avro files:"
   ]
  },
  {
   "cell_type": "code",
   "execution_count": 8,
   "metadata": {},
   "outputs": [
    {
     "data": {
      "text/markdown": [
       "**id**: *Activity UUID*"
      ],
      "text/plain": [
       "<IPython.core.display.Markdown object>"
      ]
     },
     "metadata": {},
     "output_type": "display_data"
    },
    {
     "data": {
      "text/markdown": [
       "**deleted_time**: *If this activity has been deleted, this is the timestamp when it occurred*"
      ],
      "text/plain": [
       "<IPython.core.display.Markdown object>"
      ]
     },
     "metadata": {},
     "output_type": "display_data"
    },
    {
     "data": {
      "text/markdown": [
       "**useruuid**: *User UUID*"
      ],
      "text/plain": [
       "<IPython.core.display.Markdown object>"
      ]
     },
     "metadata": {},
     "output_type": "display_data"
    },
    {
     "data": {
      "text/markdown": [
       "**start_time**: *Start time*"
      ],
      "text/plain": [
       "<IPython.core.display.Markdown object>"
      ]
     },
     "metadata": {},
     "output_type": "display_data"
    },
    {
     "data": {
      "text/markdown": [
       "**end_time**: *End time*"
      ],
      "text/plain": [
       "<IPython.core.display.Markdown object>"
      ]
     },
     "metadata": {},
     "output_type": "display_data"
    },
    {
     "data": {
      "text/markdown": [
       "**devices**: *Devices used during this activity*"
      ],
      "text/plain": [
       "<IPython.core.display.Markdown object>"
      ]
     },
     "metadata": {},
     "output_type": "display_data"
    },
    {
     "data": {
      "text/markdown": [
       "**devices_name**: *Name of the device*"
      ],
      "text/plain": [
       "<IPython.core.display.Markdown object>"
      ]
     },
     "metadata": {},
     "output_type": "display_data"
    },
    {
     "data": {
      "text/markdown": [
       "**devices_type**: *Device type (PHONE, SMARTBAND, SMARTCAMERA, UNKNOWN, ...)*"
      ],
      "text/plain": [
       "<IPython.core.display.Markdown object>"
      ]
     },
     "metadata": {},
     "output_type": "display_data"
    },
    {
     "data": {
      "text/markdown": [
       "**devices_id**: *Unique identifier of the device*"
      ],
      "text/plain": [
       "<IPython.core.display.Markdown object>"
      ]
     },
     "metadata": {},
     "output_type": "display_data"
    },
    {
     "data": {
      "text/markdown": [
       "**tracks**: *-*"
      ],
      "text/plain": [
       "<IPython.core.display.Markdown object>"
      ]
     },
     "metadata": {},
     "output_type": "display_data"
    },
    {
     "data": {
      "text/markdown": [
       "**tracks_start_time**: *-*"
      ],
      "text/plain": [
       "<IPython.core.display.Markdown object>"
      ]
     },
     "metadata": {},
     "output_type": "display_data"
    },
    {
     "data": {
      "text/markdown": [
       "**tracks_end_time**: *-*"
      ],
      "text/plain": [
       "<IPython.core.display.Markdown object>"
      ]
     },
     "metadata": {},
     "output_type": "display_data"
    },
    {
     "data": {
      "text/markdown": [
       "**tracks_artist**: *-*"
      ],
      "text/plain": [
       "<IPython.core.display.Markdown object>"
      ]
     },
     "metadata": {},
     "output_type": "display_data"
    },
    {
     "data": {
      "text/markdown": [
       "**tracks_album**: *-*"
      ],
      "text/plain": [
       "<IPython.core.display.Markdown object>"
      ]
     },
     "metadata": {},
     "output_type": "display_data"
    },
    {
     "data": {
      "text/markdown": [
       "**tracks_title**: *-*"
      ],
      "text/plain": [
       "<IPython.core.display.Markdown object>"
      ]
     },
     "metadata": {},
     "output_type": "display_data"
    },
    {
     "data": {
      "text/markdown": [
       "**tracks_uri**: *-*"
      ],
      "text/plain": [
       "<IPython.core.display.Markdown object>"
      ]
     },
     "metadata": {},
     "output_type": "display_data"
    },
    {
     "data": {
      "text/markdown": [
       "**tracks_player**: *-*"
      ],
      "text/plain": [
       "<IPython.core.display.Markdown object>"
      ]
     },
     "metadata": {},
     "output_type": "display_data"
    },
    {
     "data": {
      "text/markdown": [
       "**tracks_id**: *-*"
      ],
      "text/plain": [
       "<IPython.core.display.Markdown object>"
      ]
     },
     "metadata": {},
     "output_type": "display_data"
    }
   ],
   "source": [
    "column_docs = t.get_avro_docs(data_files[0])\n",
    "for column in column_docs:\n",
    "    if len(column[1]) > 0:\n",
    "        w.printmd(f'**{column[0]}**: *{column[1]}*')\n",
    "    else:\n",
    "        w.printmd(f'**{column[0]}**: *-*')            "
   ]
  },
  {
   "cell_type": "markdown",
   "metadata": {},
   "source": [
    "Show the the top 5 rows:"
   ]
  },
  {
   "cell_type": "code",
   "execution_count": 9,
   "metadata": {},
   "outputs": [
    {
     "data": {
      "text/html": [
       "<div>\n",
       "<style scoped>\n",
       "    .dataframe tbody tr th:only-of-type {\n",
       "        vertical-align: middle;\n",
       "    }\n",
       "\n",
       "    .dataframe tbody tr th {\n",
       "        vertical-align: top;\n",
       "    }\n",
       "\n",
       "    .dataframe thead th {\n",
       "        text-align: right;\n",
       "    }\n",
       "</style>\n",
       "<table border=\"1\" class=\"dataframe\">\n",
       "  <thead>\n",
       "    <tr style=\"text-align: right;\">\n",
       "      <th></th>\n",
       "      <th>id</th>\n",
       "      <th>deleted_time</th>\n",
       "      <th>useruuid</th>\n",
       "      <th>start_time</th>\n",
       "      <th>end_time</th>\n",
       "      <th>devices_name</th>\n",
       "      <th>devices_type</th>\n",
       "      <th>devices_id</th>\n",
       "      <th>tracks_start_time</th>\n",
       "      <th>tracks_end_time</th>\n",
       "      <th>tracks_artist</th>\n",
       "      <th>tracks_album</th>\n",
       "      <th>tracks_title</th>\n",
       "      <th>tracks_uri</th>\n",
       "      <th>tracks_player</th>\n",
       "      <th>tracks_id</th>\n",
       "      <th>yearmonth</th>\n",
       "    </tr>\n",
       "  </thead>\n",
       "  <tbody>\n",
       "    <tr>\n",
       "      <th>0</th>\n",
       "      <td>98a18948-40f8-4aa0-8f88-b1b0cef08d0f-2015-08-17</td>\n",
       "      <td>2015-08-18T04:10:52.168Z</td>\n",
       "      <td>c43b75c6-6390-4331-a997-5b8008d50e77</td>\n",
       "      <td>2015-08-17T21:48:05.419+02:00</td>\n",
       "      <td>2015-08-18T05:05:38.077+02:00</td>\n",
       "      <td>D6603</td>\n",
       "      <td>PHONE</td>\n",
       "      <td>fa07eea4645b4be3</td>\n",
       "      <td>2015-08-18T03:53:55.138+02:00</td>\n",
       "      <td>2015-08-18T03:58:29.741+02:00</td>\n",
       "      <td>Anima Mia</td>\n",
       "      <td>ClearMusicDownloader</td>\n",
       "      <td>Anima Mia-I Cugini Di Campagna-Balla Italia - ...</td>\n",
       "      <td>content://media/external/audio/media/7373</td>\n",
       "      <td>Walkman</td>\n",
       "      <td></td>\n",
       "      <td>201508</td>\n",
       "    </tr>\n",
       "    <tr>\n",
       "      <th>1</th>\n",
       "      <td>61cc3be9-45bb-4081-afbe-9bcc97e029e8-2015-08-17</td>\n",
       "      <td>2015-08-18T04:11:01.192Z</td>\n",
       "      <td>a9043d17-0ef9-4ea4-84b6-5be303ceca98</td>\n",
       "      <td>2015-08-18T01:27:20.543+08:00</td>\n",
       "      <td>2015-08-18T11:09:06.673+08:00</td>\n",
       "      <td>D5833</td>\n",
       "      <td>PHONE</td>\n",
       "      <td>5b49f4072ac55033</td>\n",
       "      <td>2015-08-18T04:11:06.517+08:00</td>\n",
       "      <td>2015-08-18T04:16:08.392+08:00</td>\n",
       "      <td>&lt;unknown&gt;</td>\n",
       "      <td>Android</td>\n",
       "      <td>���������[hd]������������������ - ������������...</td>\n",
       "      <td>content://media/external/audio/media/10437</td>\n",
       "      <td>Walkman</td>\n",
       "      <td></td>\n",
       "      <td>201508</td>\n",
       "    </tr>\n",
       "    <tr>\n",
       "      <th>2</th>\n",
       "      <td>63c184bb-45e8-479c-991a-b2f6d83e9023-2015-10-30</td>\n",
       "      <td></td>\n",
       "      <td>408a1a32-32cc-47a8-8e99-4a9b9b679007</td>\n",
       "      <td>2015-10-30T13:55:39.218-06:00</td>\n",
       "      <td>2015-10-30T13:58:36.668-06:00</td>\n",
       "      <td>D5803</td>\n",
       "      <td>PHONE</td>\n",
       "      <td>c3a31b5e9ba8244</td>\n",
       "      <td>2015-10-30T13:55:39.218-06:00</td>\n",
       "      <td>2015-10-30T13:58:36.668-06:00</td>\n",
       "      <td>&lt;unknown&gt;</td>\n",
       "      <td>Unknown album</td>\n",
       "      <td>Drake - Energy</td>\n",
       "      <td>content://media/external/audio/media/16147</td>\n",
       "      <td>Walkman</td>\n",
       "      <td></td>\n",
       "      <td>201510</td>\n",
       "    </tr>\n",
       "    <tr>\n",
       "      <th>3</th>\n",
       "      <td>52c04991-7a7c-48f4-965f-0727596fc6f1-2016-11-17</td>\n",
       "      <td></td>\n",
       "      <td>40e1310c-81a9-4589-b2bb-6562c35282e8</td>\n",
       "      <td>2016-11-17T20:14:03.535+09:00</td>\n",
       "      <td>2016-11-17T21:08:41.226+09:00</td>\n",
       "      <td>SO-03H</td>\n",
       "      <td>PHONE</td>\n",
       "      <td>e0a17178d44f7077</td>\n",
       "      <td>2016-11-17T21:04:56.520+09:00</td>\n",
       "      <td>2016-11-17T21:08:41.226+09:00</td>\n",
       "      <td>ももいろクローバーＺ</td>\n",
       "      <td>白金の夜明け MOMOIRO CLOVER Z DOME TRECK 2016 DAY2 L...</td>\n",
       "      <td>MOON PRIDE</td>\n",
       "      <td>content://media/external/audio/media/52759</td>\n",
       "      <td>Walkman</td>\n",
       "      <td></td>\n",
       "      <td>201611</td>\n",
       "    </tr>\n",
       "    <tr>\n",
       "      <th>4</th>\n",
       "      <td>c806f877-0628-4848-8a3b-33e0741bda09-2016-11-01</td>\n",
       "      <td></td>\n",
       "      <td>f81f5012-56f2-4fbd-ae97-242e3ebdb88d</td>\n",
       "      <td>2016-11-01T18:05:56.191+04:00</td>\n",
       "      <td>2016-11-01T18:06:50.327+04:00</td>\n",
       "      <td>D6503</td>\n",
       "      <td>PHONE</td>\n",
       "      <td>23b839a2bafb76a4</td>\n",
       "      <td>2016-11-01T18:05:56.191+04:00</td>\n",
       "      <td>2016-11-01T18:06:50.327+04:00</td>\n",
       "      <td>Rahat Fateh Ali Khan</td>\n",
       "      <td>Sultan (2016)</td>\n",
       "      <td>Jag Ghoomeya - Songspk.LIVE</td>\n",
       "      <td>content://media/external/audio/media/151650</td>\n",
       "      <td>Walkman</td>\n",
       "      <td></td>\n",
       "      <td>201611</td>\n",
       "    </tr>\n",
       "    <tr>\n",
       "      <th>...</th>\n",
       "      <td>...</td>\n",
       "      <td>...</td>\n",
       "      <td>...</td>\n",
       "      <td>...</td>\n",
       "      <td>...</td>\n",
       "      <td>...</td>\n",
       "      <td>...</td>\n",
       "      <td>...</td>\n",
       "      <td>...</td>\n",
       "      <td>...</td>\n",
       "      <td>...</td>\n",
       "      <td>...</td>\n",
       "      <td>...</td>\n",
       "      <td>...</td>\n",
       "      <td>...</td>\n",
       "      <td>...</td>\n",
       "      <td>...</td>\n",
       "    </tr>\n",
       "    <tr>\n",
       "      <th>95</th>\n",
       "      <td>a2c785b4-45e5-4210-8764-597319616dfd-2016-09-06</td>\n",
       "      <td></td>\n",
       "      <td>e59f7b77-567a-4c1e-8c77-1a2c4153d877</td>\n",
       "      <td>2016-09-06T23:38:55.033+02:00</td>\n",
       "      <td>2016-09-07T02:03:35.104+02:00</td>\n",
       "      <td>D6603</td>\n",
       "      <td>PHONE</td>\n",
       "      <td>d6d3405db458a079</td>\n",
       "      <td>2016-09-07T00:17:00.880+02:00</td>\n",
       "      <td>2016-09-07T00:19:54.866+02:00</td>\n",
       "      <td>Drake</td>\n",
       "      <td>Views</td>\n",
       "      <td>One Dance</td>\n",
       "      <td></td>\n",
       "      <td>Spotify</td>\n",
       "      <td>spotify:track:1xznGGDReH1oQq0xzbwXa3</td>\n",
       "      <td>201609</td>\n",
       "    </tr>\n",
       "    <tr>\n",
       "      <th>96</th>\n",
       "      <td>ef585d05-b5e0-485f-beb7-7b403d0dc374-2016-11-22</td>\n",
       "      <td></td>\n",
       "      <td>6ebeccd0-1aa0-4f49-ae11-102bd7af021e</td>\n",
       "      <td>2016-11-22T10:25:23.520+01:00</td>\n",
       "      <td>2016-11-22T13:33:41.925+01:00</td>\n",
       "      <td>C6903</td>\n",
       "      <td>PHONE</td>\n",
       "      <td>1ec0aa2e17d5312a</td>\n",
       "      <td>2016-11-22T10:29:46.876+01:00</td>\n",
       "      <td>2016-11-22T10:30:17.414+01:00</td>\n",
       "      <td>Prison Break</td>\n",
       "      <td>Zik</td>\n",
       "      <td>Opening Theme</td>\n",
       "      <td>content://media/external/audio/media/11301</td>\n",
       "      <td>Walkman</td>\n",
       "      <td></td>\n",
       "      <td>201611</td>\n",
       "    </tr>\n",
       "    <tr>\n",
       "      <th>97</th>\n",
       "      <td>ac6a2cf7-b5b3-4c53-8b18-6a06f2e6ceed-2016-10-08</td>\n",
       "      <td></td>\n",
       "      <td>ab0fd133-7b51-4718-84ab-c7507f3948f9</td>\n",
       "      <td>2016-10-08T14:23:24.458+02:00</td>\n",
       "      <td>2016-10-08T17:38:50.116+02:00</td>\n",
       "      <td>D6603</td>\n",
       "      <td>PHONE</td>\n",
       "      <td>7bf20912c13a1fc8</td>\n",
       "      <td>2016-10-08T15:52:06.826+02:00</td>\n",
       "      <td>2016-10-08T15:58:33.042+02:00</td>\n",
       "      <td>&lt;unknown&gt;</td>\n",
       "      <td>Download</td>\n",
       "      <td>Athom's &amp; Nadège : Adonai</td>\n",
       "      <td>content://media/external/audio/media/51054</td>\n",
       "      <td>Walkman</td>\n",
       "      <td></td>\n",
       "      <td>201610</td>\n",
       "    </tr>\n",
       "    <tr>\n",
       "      <th>98</th>\n",
       "      <td>e144173b-626d-4e9f-9e12-4b5d4f55be5f-2016-10-09</td>\n",
       "      <td></td>\n",
       "      <td>4dd99265-f840-4ef8-aa14-88921bdb4184</td>\n",
       "      <td>2016-10-09T14:10:47.266+02:00</td>\n",
       "      <td>2016-10-09T14:12:10.722+02:00</td>\n",
       "      <td>E5823</td>\n",
       "      <td>PHONE</td>\n",
       "      <td>7d1c651f413b4eb6</td>\n",
       "      <td>2016-10-09T14:10:47.266+02:00</td>\n",
       "      <td>2016-10-09T14:12:10.722+02:00</td>\n",
       "      <td>State Of Shock</td>\n",
       "      <td>Life, Love &amp; Lies</td>\n",
       "      <td>Best I Ever Had</td>\n",
       "      <td></td>\n",
       "      <td>Spotify</td>\n",
       "      <td>spotify:track:4iRqXAa6ICmxC67JWR5z0e</td>\n",
       "      <td>201610</td>\n",
       "    </tr>\n",
       "    <tr>\n",
       "      <th>99</th>\n",
       "      <td>6bacdc50-5b5a-4220-af1b-d6bf7d57a529-2016-10-09</td>\n",
       "      <td></td>\n",
       "      <td>d4a5ece3-9d69-44de-9201-04cdf998f7d2</td>\n",
       "      <td>2016-10-09T15:17:01.426+03:00</td>\n",
       "      <td>2016-10-09T15:48:08.997+03:00</td>\n",
       "      <td>E6833</td>\n",
       "      <td>PHONE</td>\n",
       "      <td>b17b5207134a6dcd</td>\n",
       "      <td>2016-10-09T15:32:12.676+03:00</td>\n",
       "      <td>2016-10-09T15:45:05.516+03:00</td>\n",
       "      <td>&lt;unknown&gt;</td>\n",
       "      <td>com.songs.music.mp3.download.free</td>\n",
       "      <td>Hatim Ammor feat Fahad AlKubaissi  Tarti 3alle...</td>\n",
       "      <td>content://media/external/audio/media/3317</td>\n",
       "      <td>Walkman</td>\n",
       "      <td></td>\n",
       "      <td>201610</td>\n",
       "    </tr>\n",
       "  </tbody>\n",
       "</table>\n",
       "<p>100 rows × 17 columns</p>\n",
       "</div>"
      ],
      "text/plain": [
       "                                                 id              deleted_time  \\\n",
       "0   98a18948-40f8-4aa0-8f88-b1b0cef08d0f-2015-08-17  2015-08-18T04:10:52.168Z   \n",
       "1   61cc3be9-45bb-4081-afbe-9bcc97e029e8-2015-08-17  2015-08-18T04:11:01.192Z   \n",
       "2   63c184bb-45e8-479c-991a-b2f6d83e9023-2015-10-30                             \n",
       "3   52c04991-7a7c-48f4-965f-0727596fc6f1-2016-11-17                             \n",
       "4   c806f877-0628-4848-8a3b-33e0741bda09-2016-11-01                             \n",
       "..                                              ...                       ...   \n",
       "95  a2c785b4-45e5-4210-8764-597319616dfd-2016-09-06                             \n",
       "96  ef585d05-b5e0-485f-beb7-7b403d0dc374-2016-11-22                             \n",
       "97  ac6a2cf7-b5b3-4c53-8b18-6a06f2e6ceed-2016-10-08                             \n",
       "98  e144173b-626d-4e9f-9e12-4b5d4f55be5f-2016-10-09                             \n",
       "99  6bacdc50-5b5a-4220-af1b-d6bf7d57a529-2016-10-09                             \n",
       "\n",
       "                                useruuid                     start_time  \\\n",
       "0   c43b75c6-6390-4331-a997-5b8008d50e77  2015-08-17T21:48:05.419+02:00   \n",
       "1   a9043d17-0ef9-4ea4-84b6-5be303ceca98  2015-08-18T01:27:20.543+08:00   \n",
       "2   408a1a32-32cc-47a8-8e99-4a9b9b679007  2015-10-30T13:55:39.218-06:00   \n",
       "3   40e1310c-81a9-4589-b2bb-6562c35282e8  2016-11-17T20:14:03.535+09:00   \n",
       "4   f81f5012-56f2-4fbd-ae97-242e3ebdb88d  2016-11-01T18:05:56.191+04:00   \n",
       "..                                   ...                            ...   \n",
       "95  e59f7b77-567a-4c1e-8c77-1a2c4153d877  2016-09-06T23:38:55.033+02:00   \n",
       "96  6ebeccd0-1aa0-4f49-ae11-102bd7af021e  2016-11-22T10:25:23.520+01:00   \n",
       "97  ab0fd133-7b51-4718-84ab-c7507f3948f9  2016-10-08T14:23:24.458+02:00   \n",
       "98  4dd99265-f840-4ef8-aa14-88921bdb4184  2016-10-09T14:10:47.266+02:00   \n",
       "99  d4a5ece3-9d69-44de-9201-04cdf998f7d2  2016-10-09T15:17:01.426+03:00   \n",
       "\n",
       "                         end_time devices_name devices_type        devices_id  \\\n",
       "0   2015-08-18T05:05:38.077+02:00        D6603        PHONE  fa07eea4645b4be3   \n",
       "1   2015-08-18T11:09:06.673+08:00        D5833        PHONE  5b49f4072ac55033   \n",
       "2   2015-10-30T13:58:36.668-06:00        D5803        PHONE   c3a31b5e9ba8244   \n",
       "3   2016-11-17T21:08:41.226+09:00       SO-03H        PHONE  e0a17178d44f7077   \n",
       "4   2016-11-01T18:06:50.327+04:00        D6503        PHONE  23b839a2bafb76a4   \n",
       "..                            ...          ...          ...               ...   \n",
       "95  2016-09-07T02:03:35.104+02:00        D6603        PHONE  d6d3405db458a079   \n",
       "96  2016-11-22T13:33:41.925+01:00        C6903        PHONE  1ec0aa2e17d5312a   \n",
       "97  2016-10-08T17:38:50.116+02:00        D6603        PHONE  7bf20912c13a1fc8   \n",
       "98  2016-10-09T14:12:10.722+02:00        E5823        PHONE  7d1c651f413b4eb6   \n",
       "99  2016-10-09T15:48:08.997+03:00        E6833        PHONE  b17b5207134a6dcd   \n",
       "\n",
       "                tracks_start_time                tracks_end_time  \\\n",
       "0   2015-08-18T03:53:55.138+02:00  2015-08-18T03:58:29.741+02:00   \n",
       "1   2015-08-18T04:11:06.517+08:00  2015-08-18T04:16:08.392+08:00   \n",
       "2   2015-10-30T13:55:39.218-06:00  2015-10-30T13:58:36.668-06:00   \n",
       "3   2016-11-17T21:04:56.520+09:00  2016-11-17T21:08:41.226+09:00   \n",
       "4   2016-11-01T18:05:56.191+04:00  2016-11-01T18:06:50.327+04:00   \n",
       "..                            ...                            ...   \n",
       "95  2016-09-07T00:17:00.880+02:00  2016-09-07T00:19:54.866+02:00   \n",
       "96  2016-11-22T10:29:46.876+01:00  2016-11-22T10:30:17.414+01:00   \n",
       "97  2016-10-08T15:52:06.826+02:00  2016-10-08T15:58:33.042+02:00   \n",
       "98  2016-10-09T14:10:47.266+02:00  2016-10-09T14:12:10.722+02:00   \n",
       "99  2016-10-09T15:32:12.676+03:00  2016-10-09T15:45:05.516+03:00   \n",
       "\n",
       "           tracks_artist                                       tracks_album  \\\n",
       "0              Anima Mia                               ClearMusicDownloader   \n",
       "1              <unknown>                                            Android   \n",
       "2              <unknown>                                      Unknown album   \n",
       "3             ももいろクローバーＺ  白金の夜明け MOMOIRO CLOVER Z DOME TRECK 2016 DAY2 L...   \n",
       "4   Rahat Fateh Ali Khan                                      Sultan (2016)   \n",
       "..                   ...                                                ...   \n",
       "95                 Drake                                              Views   \n",
       "96          Prison Break                                                Zik   \n",
       "97             <unknown>                                           Download   \n",
       "98        State Of Shock                                  Life, Love & Lies   \n",
       "99             <unknown>                  com.songs.music.mp3.download.free   \n",
       "\n",
       "                                         tracks_title  \\\n",
       "0   Anima Mia-I Cugini Di Campagna-Balla Italia - ...   \n",
       "1   ���������[hd]������������������ - ������������...   \n",
       "2                                      Drake - Energy   \n",
       "3                                          MOON PRIDE   \n",
       "4                         Jag Ghoomeya - Songspk.LIVE   \n",
       "..                                                ...   \n",
       "95                                          One Dance   \n",
       "96                                      Opening Theme   \n",
       "97                          Athom's & Nadège : Adonai   \n",
       "98                                    Best I Ever Had   \n",
       "99  Hatim Ammor feat Fahad AlKubaissi  Tarti 3alle...   \n",
       "\n",
       "                                     tracks_uri tracks_player  \\\n",
       "0     content://media/external/audio/media/7373       Walkman   \n",
       "1    content://media/external/audio/media/10437       Walkman   \n",
       "2    content://media/external/audio/media/16147       Walkman   \n",
       "3    content://media/external/audio/media/52759       Walkman   \n",
       "4   content://media/external/audio/media/151650       Walkman   \n",
       "..                                          ...           ...   \n",
       "95                                                    Spotify   \n",
       "96   content://media/external/audio/media/11301       Walkman   \n",
       "97   content://media/external/audio/media/51054       Walkman   \n",
       "98                                                    Spotify   \n",
       "99    content://media/external/audio/media/3317       Walkman   \n",
       "\n",
       "                               tracks_id  yearmonth  \n",
       "0                                            201508  \n",
       "1                                            201508  \n",
       "2                                            201510  \n",
       "3                                            201611  \n",
       "4                                            201611  \n",
       "..                                   ...        ...  \n",
       "95  spotify:track:1xznGGDReH1oQq0xzbwXa3     201609  \n",
       "96                                           201611  \n",
       "97                                           201610  \n",
       "98  spotify:track:4iRqXAa6ICmxC67JWR5z0e     201610  \n",
       "99                                           201610  \n",
       "\n",
       "[100 rows x 17 columns]"
      ]
     },
     "execution_count": 9,
     "metadata": {},
     "output_type": "execute_result"
    }
   ],
   "source": [
    "df_sample_pd.head(100)"
   ]
  },
  {
   "cell_type": "markdown",
   "metadata": {},
   "source": [
    "### Activity Deleted"
   ]
  },
  {
   "cell_type": "code",
   "execution_count": 23,
   "metadata": {
    "scrolled": true
   },
   "outputs": [
    {
     "data": {
      "text/plain": [
       "121841"
      ]
     },
     "execution_count": 23,
     "metadata": {},
     "output_type": "execute_result"
    }
   ],
   "source": [
    "(df_1E6\n",
    " .where(\n",
    "     (f.col('deleted_time').isNotNull())\n",
    "     & (f.col('deleted_time') != '')\n",
    " )\n",
    " .count()\n",
    ")"
   ]
  },
  {
   "cell_type": "markdown",
   "metadata": {},
   "source": [
    "Around 12 % of all the activities have the \"Deleted time\" property set. What to do with them:\n",
    " * Nothing\n",
    " * Delete the column\n",
    " * Delete the rows where the property is set"
   ]
  },
  {
   "cell_type": "markdown",
   "metadata": {},
   "source": [
    "### Device types"
   ]
  },
  {
   "cell_type": "code",
   "execution_count": 10,
   "metadata": {
    "scrolled": true
   },
   "outputs": [
    {
     "name": "stdout",
     "output_type": "stream",
     "text": [
      "+------------+------+\n",
      "|devices_type| count|\n",
      "+------------+------+\n",
      "|       PHONE|996704|\n",
      "|        null|  2218|\n",
      "|     UNKNOWN|   587|\n",
      "+------------+------+\n",
      "\n"
     ]
    }
   ],
   "source": [
    "(df_1E6\n",
    " .groupBy(f.col('devices_type'))\n",
    " .count()\n",
    " .orderBy(f.desc('count'))                    \n",
    " .show()\n",
    ")"
   ]
  },
  {
   "cell_type": "markdown",
   "metadata": {},
   "source": [
    "Almost all the devices are phones. It could be reasonable remove the column."
   ]
  },
  {
   "cell_type": "markdown",
   "metadata": {},
   "source": [
    "### Track players"
   ]
  },
  {
   "cell_type": "code",
   "execution_count": 11,
   "metadata": {
    "scrolled": true
   },
   "outputs": [
    {
     "name": "stdout",
     "output_type": "stream",
     "text": [
      "+-------------+------+\n",
      "|tracks_player| count|\n",
      "+-------------+------+\n",
      "|      Walkman|679703|\n",
      "|      Spotify|198657|\n",
      "|             |121149|\n",
      "+-------------+------+\n",
      "\n"
     ]
    }
   ],
   "source": [
    "(df_1E6\n",
    " .groupBy(f.col('tracks_player'))\n",
    " .count()\n",
    " .orderBy(f.desc('count'))                    \n",
    " .show()\n",
    ")"
   ]
  },
  {
   "cell_type": "markdown",
   "metadata": {},
   "source": [
    "### Track ID's"
   ]
  },
  {
   "cell_type": "code",
   "execution_count": 12,
   "metadata": {
    "scrolled": false
   },
   "outputs": [
    {
     "name": "stdout",
     "output_type": "stream",
     "text": [
      "+--------------------+------+\n",
      "|           tracks_id| count|\n",
      "+--------------------+------+\n",
      "|                    |800955|\n",
      "|spotify:track:3CR...|   143|\n",
      "|spotify:track:1i1...|   142|\n",
      "|spotify:track:1br...|   141|\n",
      "|spotify:track:7BK...|   138|\n",
      "|spotify:track:27S...|   122|\n",
      "|spotify:track:1HN...|   116|\n",
      "|spotify:track:6JV...|   114|\n",
      "|spotify:track:0r4...|   107|\n",
      "|spotify:track:2CP...|   106|\n",
      "|spotify:track:7vf...|    98|\n",
      "|spotify:track:0az...|    98|\n",
      "|spotify:track:5kn...|    97|\n",
      "|spotify:track:34g...|    93|\n",
      "|spotify:track:4pd...|    93|\n",
      "|spotify:track:23L...|    92|\n",
      "|spotify:track:6i0...|    92|\n",
      "|spotify:track:2Z8...|    91|\n",
      "|spotify:track:0gb...|    89|\n",
      "|spotify:track:3hB...|    84|\n",
      "+--------------------+------+\n",
      "only showing top 20 rows\n",
      "\n"
     ]
    }
   ],
   "source": [
    "(df_1E6\n",
    " .groupBy(f.col('tracks_id'))\n",
    " .count()\n",
    " .orderBy(f.desc('count'))                    \n",
    " .show()\n",
    ")"
   ]
  },
  {
   "cell_type": "markdown",
   "metadata": {},
   "source": [
    "### Track ID vs Track URI"
   ]
  },
  {
   "cell_type": "code",
   "execution_count": 21,
   "metadata": {},
   "outputs": [
    {
     "data": {
      "text/plain": [
       "0"
      ]
     },
     "execution_count": 21,
     "metadata": {},
     "output_type": "execute_result"
    }
   ],
   "source": [
    "(df_1E6\n",
    " .where(\n",
    "     (f.col('tracks_uri') != '')\n",
    "     & (f.col('tracks_uri').isNotNull())\n",
    "     & (f.col('tracks_id') != '')\n",
    "     & (f.col('tracks_id').isNotNull())\n",
    " )\n",
    " .count()\n",
    ")"
   ]
  },
  {
   "cell_type": "markdown",
   "metadata": {},
   "source": [
    "The Track ID and Track URI are never full at the same time. Therefore, the columns could be merged into one column.\n",
    "\n",
    "Also, the information might be redundant. \n",
    "\n",
    "We could also split the dataset into a couple of databases. Does it make sense? Maybe not.\n",
    " "
   ]
  },
  {
   "cell_type": "code",
   "execution_count": 17,
   "metadata": {},
   "outputs": [
    {
     "name": "stdout",
     "output_type": "stream",
     "text": [
      "[('id', 'string'), ('deleted_time', 'string'), ('useruuid', 'string'), ('start_time', 'string'), ('end_time', 'string'), ('devices_name', 'string'), ('devices_type', 'string'), ('devices_id', 'string'), ('tracks_start_time', 'string'), ('tracks_end_time', 'string'), ('tracks_artist', 'string'), ('tracks_album', 'string'), ('tracks_title', 'string'), ('tracks_uri', 'string'), ('tracks_player', 'string'), ('tracks_id', 'string'), ('yearmonth', 'int')]\n"
     ]
    }
   ],
   "source": [
    "print(df_1E6.dtypes)"
   ]
  }
 ],
 "metadata": {
  "kernelspec": {
   "display_name": "Python 3",
   "language": "python",
   "name": "python3"
  },
  "language_info": {
   "codemirror_mode": {
    "name": "ipython",
    "version": 3
   },
   "file_extension": ".py",
   "mimetype": "text/x-python",
   "name": "python",
   "nbconvert_exporter": "python",
   "pygments_lexer": "ipython3",
   "version": "3.8.5"
  }
 },
 "nbformat": 4,
 "nbformat_minor": 1
}