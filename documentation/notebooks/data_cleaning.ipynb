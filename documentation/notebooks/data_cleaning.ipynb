{
 "cells": [
  {
   "cell_type": "markdown",
   "metadata": {},
   "source": [
    "<hr style=\"border:2px solid black\"></hr>\n",
    "\n",
    "# Initialization"
   ]
  },
  {
   "cell_type": "markdown",
   "metadata": {},
   "source": [
    "Imports:"
   ]
  },
  {
   "cell_type": "code",
   "execution_count": 8,
   "metadata": {
    "pycharm": {
     "name": "#%% Imports\n"
    }
   },
   "outputs": [],
   "source": [
    "from toolbox.config import Config\n",
    "from toolbox.imports import *"
   ]
  },
  {
   "cell_type": "markdown",
   "metadata": {},
   "source": [
    "Create a Spark Session:"
   ]
  },
  {
   "cell_type": "code",
   "execution_count": 2,
   "metadata": {
    "pycharm": {
     "name": "#%% Initialize a Spark session\n"
    },
    "scrolled": true
   },
   "outputs": [
    {
     "name": "stdout",
     "output_type": "stream",
     "text": [
      "Creating a Spark session.\n",
      "\tExecution time: 68.73452 s.\n"
     ]
    }
   ],
   "source": [
    "spark = t.spark.create_session('Music_Activity')"
   ]
  },
  {
   "cell_type": "markdown",
   "metadata": {},
   "source": [
    "Get the paths of data files and folders:"
   ]
  },
  {
   "cell_type": "code",
   "execution_count": 3,
   "metadata": {},
   "outputs": [
    {
     "name": "stdout",
     "output_type": "stream",
     "text": [
      "Getting the data paths.\n",
      "\tNumber of folders: 62\n",
      "\tNumber of files: 275621\n"
     ]
    }
   ],
   "source": [
    "data_root, data_subfolders, data_files = t.get_data_paths()"
   ]
  },
  {
   "cell_type": "markdown",
   "metadata": {},
   "source": [
    "Load two sample dataframes: one containing 1e5 records, the second one containing 1e6 records:"
   ]
  },
  {
   "cell_type": "code",
   "execution_count": 7,
   "metadata": {
    "pycharm": {
     "name": "#%% Load sample dataframe\n"
    }
   },
   "outputs": [
    {
     "name": "stdout",
     "output_type": "stream",
     "text": [
      "Loading dataframe from \"/data/work/shared/s001284/Music_Project/resources/data/df_sample_1E5.parquet\".\n",
      "\tExecution time: 19.43919 s.\n",
      "Loading dataframe from \"/data/work/shared/s001284/Music_Project/resources/data/df_sample_1E6.parquet\".\n",
      "\tExecution time: 1.31418 s.\n"
     ]
    }
   ],
   "source": [
    "path_df_1E5 = Config.Path.project_data_root / 'df_sample_1E5.parquet'\n",
    "path_df_1E6 = Config.Path.project_data_root / 'df_sample_1E6.parquet'\n",
    "\n",
    "df_1E5 = t.spark.load_dataframe_from_parquet(path_df_1E5, spark)\n",
    "df_1E6 = t.spark.load_dataframe_from_parquet(path_df_1E6, spark)"
   ]
  },
  {
   "cell_type": "markdown",
   "metadata": {},
   "source": [
    "Cache the dataframes:"
   ]
  },
  {
   "cell_type": "code",
   "execution_count": 9,
   "metadata": {
    "pycharm": {
     "name": "#%% Cache\n"
    },
    "scrolled": false
   },
   "outputs": [
    {
     "name": "stdout",
     "output_type": "stream",
     "text": [
      "Counting the rows.\n",
      "\tNumber of records: 100330.\n",
      "\tExecution time: 3.49187 s.\n",
      "Counting the rows.\n",
      "\tNumber of records: 999509.\n",
      "\tExecution time: 10.32756 s.\n"
     ]
    }
   ],
   "source": [
    "df_1E5.cache()\n",
    "df_1E6.cache()\n",
    "\n",
    "number_of_rows_df_1E5 = t.spark.count_rows(df_1E5)\n",
    "number_of_rows_df_1E6 = t.spark.count_rows(df_1E6)"
   ]
  },
  {
   "cell_type": "markdown",
   "metadata": {},
   "source": [
    "<hr style=\"border:2px solid black\"></hr>\n",
    "\n",
    "# Removing irrelevant columns"
   ]
  },
  {
   "cell_type": "markdown",
   "metadata": {},
   "source": [
    "Take the first 100 rows of the small database and transform it to Pandas for the comfort of viewing."
   ]
  },
  {
   "cell_type": "code",
   "execution_count": 12,
   "metadata": {
    "pycharm": {
     "name": "#%% Convert to pandas\n"
    }
   },
   "outputs": [],
   "source": [
    "df_sample_pd = df_1E5.limit(100).toPandas()"
   ]
  },
  {
   "cell_type": "markdown",
   "metadata": {},
   "source": [
    "Show the the top 5 rows:"
   ]
  },
  {
   "cell_type": "code",
   "execution_count": 11,
   "metadata": {
    "scrolled": true
   },
   "outputs": [
    {
     "data": {
      "text/html": [
       "<div>\n",
       "<style scoped>\n",
       "    .dataframe tbody tr th:only-of-type {\n",
       "        vertical-align: middle;\n",
       "    }\n",
       "\n",
       "    .dataframe tbody tr th {\n",
       "        vertical-align: top;\n",
       "    }\n",
       "\n",
       "    .dataframe thead th {\n",
       "        text-align: right;\n",
       "    }\n",
       "</style>\n",
       "<table border=\"1\" class=\"dataframe\">\n",
       "  <thead>\n",
       "    <tr style=\"text-align: right;\">\n",
       "      <th></th>\n",
       "      <th>id</th>\n",
       "      <th>deleted_time</th>\n",
       "      <th>useruuid</th>\n",
       "      <th>start_time</th>\n",
       "      <th>end_time</th>\n",
       "      <th>devices_name</th>\n",
       "      <th>devices_type</th>\n",
       "      <th>devices_id</th>\n",
       "      <th>tracks_start_time</th>\n",
       "      <th>tracks_end_time</th>\n",
       "      <th>tracks_artist</th>\n",
       "      <th>tracks_album</th>\n",
       "      <th>tracks_title</th>\n",
       "      <th>tracks_uri</th>\n",
       "      <th>tracks_player</th>\n",
       "      <th>tracks_id</th>\n",
       "      <th>yearmonth</th>\n",
       "    </tr>\n",
       "  </thead>\n",
       "  <tbody>\n",
       "    <tr>\n",
       "      <th>0</th>\n",
       "      <td>98a18948-40f8-4aa0-8f88-b1b0cef08d0f-2015-08-17</td>\n",
       "      <td>2015-08-18T04:10:52.168Z</td>\n",
       "      <td>c43b75c6-6390-4331-a997-5b8008d50e77</td>\n",
       "      <td>2015-08-17T21:48:05.419+02:00</td>\n",
       "      <td>2015-08-18T05:05:38.077+02:00</td>\n",
       "      <td>D6603</td>\n",
       "      <td>PHONE</td>\n",
       "      <td>fa07eea4645b4be3</td>\n",
       "      <td>2015-08-18T03:53:55.138+02:00</td>\n",
       "      <td>2015-08-18T03:58:29.741+02:00</td>\n",
       "      <td>Anima Mia</td>\n",
       "      <td>ClearMusicDownloader</td>\n",
       "      <td>Anima Mia-I Cugini Di Campagna-Balla Italia - ...</td>\n",
       "      <td>content://media/external/audio/media/7373</td>\n",
       "      <td>Walkman</td>\n",
       "      <td></td>\n",
       "      <td>201508</td>\n",
       "    </tr>\n",
       "    <tr>\n",
       "      <th>1</th>\n",
       "      <td>61cc3be9-45bb-4081-afbe-9bcc97e029e8-2015-08-17</td>\n",
       "      <td>2015-08-18T04:11:01.192Z</td>\n",
       "      <td>a9043d17-0ef9-4ea4-84b6-5be303ceca98</td>\n",
       "      <td>2015-08-18T01:27:20.543+08:00</td>\n",
       "      <td>2015-08-18T11:09:06.673+08:00</td>\n",
       "      <td>D5833</td>\n",
       "      <td>PHONE</td>\n",
       "      <td>5b49f4072ac55033</td>\n",
       "      <td>2015-08-18T04:11:06.517+08:00</td>\n",
       "      <td>2015-08-18T04:16:08.392+08:00</td>\n",
       "      <td>&lt;unknown&gt;</td>\n",
       "      <td>Android</td>\n",
       "      <td>���������[hd]������������������ - ������������...</td>\n",
       "      <td>content://media/external/audio/media/10437</td>\n",
       "      <td>Walkman</td>\n",
       "      <td></td>\n",
       "      <td>201508</td>\n",
       "    </tr>\n",
       "    <tr>\n",
       "      <th>2</th>\n",
       "      <td>63c184bb-45e8-479c-991a-b2f6d83e9023-2015-10-30</td>\n",
       "      <td></td>\n",
       "      <td>408a1a32-32cc-47a8-8e99-4a9b9b679007</td>\n",
       "      <td>2015-10-30T13:55:39.218-06:00</td>\n",
       "      <td>2015-10-30T13:58:36.668-06:00</td>\n",
       "      <td>D5803</td>\n",
       "      <td>PHONE</td>\n",
       "      <td>c3a31b5e9ba8244</td>\n",
       "      <td>2015-10-30T13:55:39.218-06:00</td>\n",
       "      <td>2015-10-30T13:58:36.668-06:00</td>\n",
       "      <td>&lt;unknown&gt;</td>\n",
       "      <td>Unknown album</td>\n",
       "      <td>Drake - Energy</td>\n",
       "      <td>content://media/external/audio/media/16147</td>\n",
       "      <td>Walkman</td>\n",
       "      <td></td>\n",
       "      <td>201510</td>\n",
       "    </tr>\n",
       "    <tr>\n",
       "      <th>3</th>\n",
       "      <td>52c04991-7a7c-48f4-965f-0727596fc6f1-2016-11-17</td>\n",
       "      <td></td>\n",
       "      <td>40e1310c-81a9-4589-b2bb-6562c35282e8</td>\n",
       "      <td>2016-11-17T20:14:03.535+09:00</td>\n",
       "      <td>2016-11-17T21:08:41.226+09:00</td>\n",
       "      <td>SO-03H</td>\n",
       "      <td>PHONE</td>\n",
       "      <td>e0a17178d44f7077</td>\n",
       "      <td>2016-11-17T21:04:56.520+09:00</td>\n",
       "      <td>2016-11-17T21:08:41.226+09:00</td>\n",
       "      <td>ももいろクローバーＺ</td>\n",
       "      <td>白金の夜明け MOMOIRO CLOVER Z DOME TRECK 2016 DAY2 L...</td>\n",
       "      <td>MOON PRIDE</td>\n",
       "      <td>content://media/external/audio/media/52759</td>\n",
       "      <td>Walkman</td>\n",
       "      <td></td>\n",
       "      <td>201611</td>\n",
       "    </tr>\n",
       "    <tr>\n",
       "      <th>4</th>\n",
       "      <td>c806f877-0628-4848-8a3b-33e0741bda09-2016-11-01</td>\n",
       "      <td></td>\n",
       "      <td>f81f5012-56f2-4fbd-ae97-242e3ebdb88d</td>\n",
       "      <td>2016-11-01T18:05:56.191+04:00</td>\n",
       "      <td>2016-11-01T18:06:50.327+04:00</td>\n",
       "      <td>D6503</td>\n",
       "      <td>PHONE</td>\n",
       "      <td>23b839a2bafb76a4</td>\n",
       "      <td>2016-11-01T18:05:56.191+04:00</td>\n",
       "      <td>2016-11-01T18:06:50.327+04:00</td>\n",
       "      <td>Rahat Fateh Ali Khan</td>\n",
       "      <td>Sultan (2016)</td>\n",
       "      <td>Jag Ghoomeya - Songspk.LIVE</td>\n",
       "      <td>content://media/external/audio/media/151650</td>\n",
       "      <td>Walkman</td>\n",
       "      <td></td>\n",
       "      <td>201611</td>\n",
       "    </tr>\n",
       "  </tbody>\n",
       "</table>\n",
       "</div>"
      ],
      "text/plain": [
       "                                                id              deleted_time  \\\n",
       "0  98a18948-40f8-4aa0-8f88-b1b0cef08d0f-2015-08-17  2015-08-18T04:10:52.168Z   \n",
       "1  61cc3be9-45bb-4081-afbe-9bcc97e029e8-2015-08-17  2015-08-18T04:11:01.192Z   \n",
       "2  63c184bb-45e8-479c-991a-b2f6d83e9023-2015-10-30                             \n",
       "3  52c04991-7a7c-48f4-965f-0727596fc6f1-2016-11-17                             \n",
       "4  c806f877-0628-4848-8a3b-33e0741bda09-2016-11-01                             \n",
       "\n",
       "                               useruuid                     start_time  \\\n",
       "0  c43b75c6-6390-4331-a997-5b8008d50e77  2015-08-17T21:48:05.419+02:00   \n",
       "1  a9043d17-0ef9-4ea4-84b6-5be303ceca98  2015-08-18T01:27:20.543+08:00   \n",
       "2  408a1a32-32cc-47a8-8e99-4a9b9b679007  2015-10-30T13:55:39.218-06:00   \n",
       "3  40e1310c-81a9-4589-b2bb-6562c35282e8  2016-11-17T20:14:03.535+09:00   \n",
       "4  f81f5012-56f2-4fbd-ae97-242e3ebdb88d  2016-11-01T18:05:56.191+04:00   \n",
       "\n",
       "                        end_time devices_name devices_type        devices_id  \\\n",
       "0  2015-08-18T05:05:38.077+02:00        D6603        PHONE  fa07eea4645b4be3   \n",
       "1  2015-08-18T11:09:06.673+08:00        D5833        PHONE  5b49f4072ac55033   \n",
       "2  2015-10-30T13:58:36.668-06:00        D5803        PHONE   c3a31b5e9ba8244   \n",
       "3  2016-11-17T21:08:41.226+09:00       SO-03H        PHONE  e0a17178d44f7077   \n",
       "4  2016-11-01T18:06:50.327+04:00        D6503        PHONE  23b839a2bafb76a4   \n",
       "\n",
       "               tracks_start_time                tracks_end_time  \\\n",
       "0  2015-08-18T03:53:55.138+02:00  2015-08-18T03:58:29.741+02:00   \n",
       "1  2015-08-18T04:11:06.517+08:00  2015-08-18T04:16:08.392+08:00   \n",
       "2  2015-10-30T13:55:39.218-06:00  2015-10-30T13:58:36.668-06:00   \n",
       "3  2016-11-17T21:04:56.520+09:00  2016-11-17T21:08:41.226+09:00   \n",
       "4  2016-11-01T18:05:56.191+04:00  2016-11-01T18:06:50.327+04:00   \n",
       "\n",
       "          tracks_artist                                       tracks_album  \\\n",
       "0             Anima Mia                               ClearMusicDownloader   \n",
       "1             <unknown>                                            Android   \n",
       "2             <unknown>                                      Unknown album   \n",
       "3            ももいろクローバーＺ  白金の夜明け MOMOIRO CLOVER Z DOME TRECK 2016 DAY2 L...   \n",
       "4  Rahat Fateh Ali Khan                                      Sultan (2016)   \n",
       "\n",
       "                                        tracks_title  \\\n",
       "0  Anima Mia-I Cugini Di Campagna-Balla Italia - ...   \n",
       "1  ���������[hd]������������������ - ������������...   \n",
       "2                                     Drake - Energy   \n",
       "3                                         MOON PRIDE   \n",
       "4                        Jag Ghoomeya - Songspk.LIVE   \n",
       "\n",
       "                                    tracks_uri tracks_player tracks_id  \\\n",
       "0    content://media/external/audio/media/7373       Walkman             \n",
       "1   content://media/external/audio/media/10437       Walkman             \n",
       "2   content://media/external/audio/media/16147       Walkman             \n",
       "3   content://media/external/audio/media/52759       Walkman             \n",
       "4  content://media/external/audio/media/151650       Walkman             \n",
       "\n",
       "   yearmonth  \n",
       "0     201508  \n",
       "1     201508  \n",
       "2     201510  \n",
       "3     201611  \n",
       "4     201611  "
      ]
     },
     "execution_count": 11,
     "metadata": {},
     "output_type": "execute_result"
    }
   ],
   "source": [
    "df_sample_pd.head(5)"
   ]
  },
  {
   "cell_type": "markdown",
   "metadata": {},
   "source": [
    "Get the the documentation of the data stored in the writer schema in the avro files:"
   ]
  },
  {
   "cell_type": "code",
   "execution_count": 10,
   "metadata": {
    "scrolled": true
   },
   "outputs": [
    {
     "ename": "NameError",
     "evalue": "name 'w' is not defined",
     "output_type": "error",
     "traceback": [
      "\u001B[0;31m---------------------------------------------------------------------------\u001B[0m",
      "\u001B[0;31mNameError\u001B[0m                                 Traceback (most recent call last)",
      "\u001B[0;32m<ipython-input-10-d42880c20bd2>\u001B[0m in \u001B[0;36m<module>\u001B[0;34m\u001B[0m\n\u001B[1;32m      1\u001B[0m \u001B[0mcolumn_docs\u001B[0m \u001B[0;34m=\u001B[0m \u001B[0mt\u001B[0m\u001B[0;34m.\u001B[0m\u001B[0mget_avro_docs\u001B[0m\u001B[0;34m(\u001B[0m\u001B[0mdata_files\u001B[0m\u001B[0;34m[\u001B[0m\u001B[0;36m0\u001B[0m\u001B[0;34m]\u001B[0m\u001B[0;34m)\u001B[0m\u001B[0;34m\u001B[0m\u001B[0;34m\u001B[0m\u001B[0m\n\u001B[1;32m      2\u001B[0m \u001B[0;32mfor\u001B[0m \u001B[0mcolumn\u001B[0m \u001B[0;32min\u001B[0m \u001B[0mcolumn_docs\u001B[0m\u001B[0;34m:\u001B[0m\u001B[0;34m\u001B[0m\u001B[0;34m\u001B[0m\u001B[0m\n\u001B[0;32m----> 3\u001B[0;31m     \u001B[0mw\u001B[0m\u001B[0;34m.\u001B[0m\u001B[0mprintmd\u001B[0m\u001B[0;34m(\u001B[0m\u001B[0;34mf'**{column[0]}**, *{column[1]}*'\u001B[0m\u001B[0;34m)\u001B[0m\u001B[0;34m\u001B[0m\u001B[0;34m\u001B[0m\u001B[0m\n\u001B[0m",
      "\u001B[0;31mNameError\u001B[0m: name 'w' is not defined"
     ]
    }
   ],
   "source": [
    "column_docs = t.get_avro_docs(data_files[0])\n",
    "for column in column_docs:\n",
    "    w.printmd(f'**{column[0]}**, *{column[1]}*')"
   ]
  },
  {
   "cell_type": "markdown",
   "metadata": {},
   "source": []
  }
 ],
 "metadata": {
  "kernelspec": {
   "display_name": "Python 3",
   "language": "python",
   "name": "python3"
  },
  "language_info": {
   "codemirror_mode": {
    "name": "ipython",
    "version": 3
   },
   "file_extension": ".py",
   "mimetype": "text/x-python",
   "name": "python",
   "nbconvert_exporter": "python",
   "pygments_lexer": "ipython3",
   "version": "3.8.5"
  }
 },
 "nbformat": 4,
 "nbformat_minor": 1
}