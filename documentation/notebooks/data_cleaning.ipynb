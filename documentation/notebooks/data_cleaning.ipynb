{
 "cells": [
  {
   "cell_type": "markdown",
   "metadata": {},
   "source": [
    "<hr style=\"border:2px solid black\"></hr>\n",
    "\n",
    "# Initialization"
   ]
  },
  {
   "cell_type": "markdown",
   "metadata": {},
   "source": [
    "Imports:"
   ]
  },
  {
   "cell_type": "code",
   "execution_count": 1,
   "metadata": {
    "pycharm": {
     "name": "#%% Imports\n"
    }
   },
   "outputs": [],
   "source": [
    "from IPython.core.interactiveshell import InteractiveShell\n",
    "from toolbox.config import Config\n",
    "from toolbox.imports import *"
   ]
  },
  {
   "cell_type": "markdown",
   "metadata": {},
   "source": [
    "Options:"
   ]
  },
  {
   "cell_type": "code",
   "execution_count": 2,
   "metadata": {},
   "outputs": [],
   "source": [
    "# Display all outputs in cells.\n",
    "InteractiveShell.ast_node_interactivity = 'all'\n",
    "\n",
    "# In Pandas tables, display no more than 100 rows.\n",
    "pd.set_option('display.max_rows', 100)"
   ]
  },
  {
   "cell_type": "markdown",
   "metadata": {},
   "source": [
    "Create a Spark Session:"
   ]
  },
  {
   "cell_type": "code",
   "execution_count": 3,
   "metadata": {
    "pycharm": {
     "name": "#%% Initialize a Spark session\n"
    },
    "scrolled": true
   },
   "outputs": [
    {
     "name": "stdout",
     "output_type": "stream",
     "text": [
      "Creating a Spark session.\n",
      "\tExecution time: 80.46912 s.\n"
     ]
    }
   ],
   "source": [
    "spark = t.spark.create_session('Music_Activity_Jupyter')"
   ]
  },
  {
   "cell_type": "markdown",
   "metadata": {},
   "source": [
    "Get the paths of data files and folders:"
   ]
  },
  {
   "cell_type": "code",
   "execution_count": 4,
   "metadata": {},
   "outputs": [
    {
     "name": "stdout",
     "output_type": "stream",
     "text": [
      "Getting the data paths.\n",
      "\tNumber of folders: 62\n",
      "\tNumber of files: 275621\n"
     ]
    }
   ],
   "source": [
    "data_root, data_subfolders, data_files = t.get_data_paths()"
   ]
  },
  {
   "cell_type": "markdown",
   "metadata": {},
   "source": [
    "Load the full data:"
   ]
  },
  {
   "cell_type": "code",
   "execution_count": 5,
   "metadata": {},
   "outputs": [
    {
     "name": "stdout",
     "output_type": "stream",
     "text": [
      "Loading data from path: \"/data/work/src/musicactivity\".\n",
      "\tExecution time: 8.11790 s.\n",
      "Formatting dataframe:\n",
      "\tExploding columns containing lists.\n",
      "\tFlattening the dataframe schema.\n",
      "\tExecution time: 0.22957\n"
     ]
    }
   ],
   "source": [
    "df_raw = t.load_data_from_files(data_root, spark, method='avro')\n",
    "df_full = t.format_dataframe(df_raw)"
   ]
  },
  {
   "cell_type": "markdown",
   "metadata": {},
   "source": [
    "Load a sample dataframe containing 1e6 records:"
   ]
  },
  {
   "cell_type": "code",
   "execution_count": 6,
   "metadata": {
    "pycharm": {
     "name": "#%% Load sample dataframe\n"
    }
   },
   "outputs": [
    {
     "name": "stdout",
     "output_type": "stream",
     "text": [
      "Loading data from path: \"/data/work/shared/s001284/Music_Project/resources/data/df_sample_1E6.parquet\".\n",
      "\tExecution time: 1.51409 s.\n"
     ]
    }
   ],
   "source": [
    "path_df_1E6 = Config.Path.project_data_root / 'df_sample_1E6.parquet'\n",
    "\n",
    "df_1E6 = t.load_data_from_files(path_df_1E6, spark)"
   ]
  },
  {
   "cell_type": "markdown",
   "metadata": {},
   "source": [
    "Cache the dataframes:"
   ]
  },
  {
   "cell_type": "code",
   "execution_count": 7,
   "metadata": {
    "pycharm": {
     "name": "#%% Cache\n"
    },
    "scrolled": false
   },
   "outputs": [],
   "source": [
    "# df_1E6.cache()\n",
    "# number_of_rows_df_1E6 = t.spark.count_rows(df_1E6)"
   ]
  },
  {
   "cell_type": "markdown",
   "metadata": {},
   "source": [
    "<hr style=\"border:2px solid black\"></hr>\n",
    "\n",
    "# Removing irrelevant columns"
   ]
  },
  {
   "cell_type": "markdown",
   "metadata": {},
   "source": [
    "Take the first 100 rows of the small database and transform it to Pandas for the comfort of viewing."
   ]
  },
  {
   "cell_type": "code",
   "execution_count": 8,
   "metadata": {
    "pycharm": {
     "name": "#%% Convert to pandas\n"
    }
   },
   "outputs": [],
   "source": [
    "df_sample_pd = df_1E6.limit(100).toPandas()"
   ]
  },
  {
   "cell_type": "markdown",
   "metadata": {},
   "source": [
    "Get the description of the the columns from the writer schema in the avro files:"
   ]
  },
  {
   "cell_type": "code",
   "execution_count": 12,
   "metadata": {
    "collapsed": true,
    "deletable": false,
    "editable": false,
    "run_control": {
     "frozen": true
    }
   },
   "outputs": [
    {
     "data": {
      "text/markdown": [
       "**id**: *Activity UUID*"
      ],
      "text/plain": [
       "<IPython.core.display.Markdown object>"
      ]
     },
     "metadata": {},
     "output_type": "display_data"
    },
    {
     "data": {
      "text/markdown": [
       "**deleted_time**: *If this activity has been deleted, this is the timestamp when it occurred*"
      ],
      "text/plain": [
       "<IPython.core.display.Markdown object>"
      ]
     },
     "metadata": {},
     "output_type": "display_data"
    },
    {
     "data": {
      "text/markdown": [
       "**useruuid**: *User UUID*"
      ],
      "text/plain": [
       "<IPython.core.display.Markdown object>"
      ]
     },
     "metadata": {},
     "output_type": "display_data"
    },
    {
     "data": {
      "text/markdown": [
       "**start_time**: *Start time*"
      ],
      "text/plain": [
       "<IPython.core.display.Markdown object>"
      ]
     },
     "metadata": {},
     "output_type": "display_data"
    },
    {
     "data": {
      "text/markdown": [
       "**end_time**: *End time*"
      ],
      "text/plain": [
       "<IPython.core.display.Markdown object>"
      ]
     },
     "metadata": {},
     "output_type": "display_data"
    },
    {
     "data": {
      "text/markdown": [
       "**devices**: *Devices used during this activity*"
      ],
      "text/plain": [
       "<IPython.core.display.Markdown object>"
      ]
     },
     "metadata": {},
     "output_type": "display_data"
    },
    {
     "data": {
      "text/markdown": [
       "**devices_name**: *Name of the device*"
      ],
      "text/plain": [
       "<IPython.core.display.Markdown object>"
      ]
     },
     "metadata": {},
     "output_type": "display_data"
    },
    {
     "data": {
      "text/markdown": [
       "**devices_type**: *Device type (PHONE, SMARTBAND, SMARTCAMERA, UNKNOWN, ...)*"
      ],
      "text/plain": [
       "<IPython.core.display.Markdown object>"
      ]
     },
     "metadata": {},
     "output_type": "display_data"
    },
    {
     "data": {
      "text/markdown": [
       "**devices_id**: *Unique identifier of the device*"
      ],
      "text/plain": [
       "<IPython.core.display.Markdown object>"
      ]
     },
     "metadata": {},
     "output_type": "display_data"
    },
    {
     "data": {
      "text/markdown": [
       "**tracks**: *-*"
      ],
      "text/plain": [
       "<IPython.core.display.Markdown object>"
      ]
     },
     "metadata": {},
     "output_type": "display_data"
    },
    {
     "data": {
      "text/markdown": [
       "**tracks_start_time**: *-*"
      ],
      "text/plain": [
       "<IPython.core.display.Markdown object>"
      ]
     },
     "metadata": {},
     "output_type": "display_data"
    },
    {
     "data": {
      "text/markdown": [
       "**tracks_end_time**: *-*"
      ],
      "text/plain": [
       "<IPython.core.display.Markdown object>"
      ]
     },
     "metadata": {},
     "output_type": "display_data"
    },
    {
     "data": {
      "text/markdown": [
       "**tracks_artist**: *-*"
      ],
      "text/plain": [
       "<IPython.core.display.Markdown object>"
      ]
     },
     "metadata": {},
     "output_type": "display_data"
    },
    {
     "data": {
      "text/markdown": [
       "**tracks_album**: *-*"
      ],
      "text/plain": [
       "<IPython.core.display.Markdown object>"
      ]
     },
     "metadata": {},
     "output_type": "display_data"
    },
    {
     "data": {
      "text/markdown": [
       "**tracks_title**: *-*"
      ],
      "text/plain": [
       "<IPython.core.display.Markdown object>"
      ]
     },
     "metadata": {},
     "output_type": "display_data"
    },
    {
     "data": {
      "text/markdown": [
       "**tracks_uri**: *-*"
      ],
      "text/plain": [
       "<IPython.core.display.Markdown object>"
      ]
     },
     "metadata": {},
     "output_type": "display_data"
    },
    {
     "data": {
      "text/markdown": [
       "**tracks_player**: *-*"
      ],
      "text/plain": [
       "<IPython.core.display.Markdown object>"
      ]
     },
     "metadata": {},
     "output_type": "display_data"
    },
    {
     "data": {
      "text/markdown": [
       "**tracks_id**: *-*"
      ],
      "text/plain": [
       "<IPython.core.display.Markdown object>"
      ]
     },
     "metadata": {},
     "output_type": "display_data"
    }
   ],
   "source": [
    "column_docs = t.get_avro_docs(data_files[0])\n",
    "for column in column_docs:\n",
    "    if len(column[1]) > 0:\n",
    "        w.printmd(f'**{column[0]}**: *{column[1]}*')\n",
    "    else:\n",
    "        w.printmd(f'**{column[0]}**: *-*')"
   ]
  },
  {
   "cell_type": "markdown",
   "metadata": {},
   "source": [
    "Show the top rows:"
   ]
  },
  {
   "cell_type": "code",
   "execution_count": 13,
   "metadata": {
    "deletable": false,
    "editable": false,
    "run_control": {
     "frozen": true
    }
   },
   "outputs": [
    {
     "data": {
      "text/html": [
       "<div>\n",
       "<style scoped>\n",
       "    .dataframe tbody tr th:only-of-type {\n",
       "        vertical-align: middle;\n",
       "    }\n",
       "\n",
       "    .dataframe tbody tr th {\n",
       "        vertical-align: top;\n",
       "    }\n",
       "\n",
       "    .dataframe thead th {\n",
       "        text-align: right;\n",
       "    }\n",
       "</style>\n",
       "<table border=\"1\" class=\"dataframe\">\n",
       "  <thead>\n",
       "    <tr style=\"text-align: right;\">\n",
       "      <th></th>\n",
       "      <th>id</th>\n",
       "      <th>deleted_time</th>\n",
       "      <th>useruuid</th>\n",
       "      <th>start_time</th>\n",
       "      <th>end_time</th>\n",
       "      <th>devices_name</th>\n",
       "      <th>devices_type</th>\n",
       "      <th>devices_id</th>\n",
       "      <th>tracks_start_time</th>\n",
       "      <th>tracks_end_time</th>\n",
       "      <th>tracks_artist</th>\n",
       "      <th>tracks_album</th>\n",
       "      <th>tracks_title</th>\n",
       "      <th>tracks_uri</th>\n",
       "      <th>tracks_player</th>\n",
       "      <th>tracks_id</th>\n",
       "      <th>yearmonth</th>\n",
       "    </tr>\n",
       "  </thead>\n",
       "  <tbody>\n",
       "    <tr>\n",
       "      <th>0</th>\n",
       "      <td>96c4958e-781b-477c-9823-6a6fc5cdfed0-2016-10-16</td>\n",
       "      <td></td>\n",
       "      <td>217abb4b-cf26-4b28-a1af-bfa0565f64d8</td>\n",
       "      <td>2016-10-16T11:14:24.281+02:00</td>\n",
       "      <td>2016-10-16T11:58:41.070+02:00</td>\n",
       "      <td>D6503</td>\n",
       "      <td>PHONE</td>\n",
       "      <td>30575b739121b7a7</td>\n",
       "      <td>2016-10-16T11:42:33.218+02:00</td>\n",
       "      <td>2016-10-16T11:45:42.689+02:00</td>\n",
       "      <td>&lt;unknown&gt;</td>\n",
       "      <td>mp3</td>\n",
       "      <td>Maroon 5 - Maps (Lyric Video)</td>\n",
       "      <td>content://media/external/audio/media/87943</td>\n",
       "      <td>Walkman</td>\n",
       "      <td></td>\n",
       "      <td>201610</td>\n",
       "    </tr>\n",
       "    <tr>\n",
       "      <th>1</th>\n",
       "      <td>a8eec483-caa5-4297-ab53-12dfae409b44-2016-10-16</td>\n",
       "      <td></td>\n",
       "      <td>d98eb3db-d1b5-47a3-a6cd-7f8b651913e0</td>\n",
       "      <td>2016-10-16T12:05:13.901+02:00</td>\n",
       "      <td>2016-10-16T12:15:11.685+02:00</td>\n",
       "      <td>D5503</td>\n",
       "      <td>PHONE</td>\n",
       "      <td>c9d2ad0a5e3b17a</td>\n",
       "      <td>2016-10-16T12:08:19.172+02:00</td>\n",
       "      <td>2016-10-16T12:09:07.304+02:00</td>\n",
       "      <td>ROMAIN VIRGO</td>\n",
       "      <td>CORNER SHOP RIDDIM [FULL PROMO] - 21ST HAPILOS...</td>\n",
       "      <td>BEAT YOU DOWN</td>\n",
       "      <td>content://media/external/audio/media/18753</td>\n",
       "      <td>Walkman</td>\n",
       "      <td></td>\n",
       "      <td>201610</td>\n",
       "    </tr>\n",
       "    <tr>\n",
       "      <th>2</th>\n",
       "      <td>741a6351-cd04-47ce-bfa0-c906848ca52f-2016-10-16</td>\n",
       "      <td></td>\n",
       "      <td>07b500bf-b975-4fc1-b203-d25973809a8a</td>\n",
       "      <td>2016-10-16T12:07:44.666+05:00</td>\n",
       "      <td>2016-10-16T14:45:58.478+05:00</td>\n",
       "      <td>E6633</td>\n",
       "      <td>PHONE</td>\n",
       "      <td>84b6ce0d67c6ab0c</td>\n",
       "      <td>2016-10-16T13:10:43.036+05:00</td>\n",
       "      <td>2016-10-16T13:14:48.150+05:00</td>\n",
       "      <td>Ma muzik</td>\n",
       "      <td>Music</td>\n",
       "      <td>Claudio Ismael - A tua escolha 2013</td>\n",
       "      <td>content://media/external/audio/media/2549</td>\n",
       "      <td>Walkman</td>\n",
       "      <td></td>\n",
       "      <td>201610</td>\n",
       "    </tr>\n",
       "    <tr>\n",
       "      <th>3</th>\n",
       "      <td>2720ff80-e5f3-4a92-a8cd-5f7840b2743a-2016-10-16</td>\n",
       "      <td></td>\n",
       "      <td>0f0742d4-454f-4234-a7aa-6980eeedf5fa</td>\n",
       "      <td>2016-10-16T15:37:42.058+09:00</td>\n",
       "      <td>2016-10-16T19:30:59.929+09:00</td>\n",
       "      <td>SO-03F</td>\n",
       "      <td>PHONE</td>\n",
       "      <td>5e0957ef6094f22f</td>\n",
       "      <td>2016-10-16T16:38:21.892+09:00</td>\n",
       "      <td>2016-10-16T16:44:09.193+09:00</td>\n",
       "      <td>&lt;unknown&gt;</td>\n",
       "      <td>audio</td>\n",
       "      <td>DaizyStripper ー Brilliant Days．</td>\n",
       "      <td>content://media/external/audio/media/4816</td>\n",
       "      <td>Walkman</td>\n",
       "      <td></td>\n",
       "      <td>201610</td>\n",
       "    </tr>\n",
       "    <tr>\n",
       "      <th>4</th>\n",
       "      <td>2868bc0a-1fb3-4020-8706-811ae31f9f92-2016-10-16</td>\n",
       "      <td></td>\n",
       "      <td>5f500365-af05-4ff0-ae64-abacd71eac06</td>\n",
       "      <td>2016-10-16T10:59:54.106+02:00</td>\n",
       "      <td>2016-10-16T11:21:26.814+02:00</td>\n",
       "      <td>E6653</td>\n",
       "      <td>PHONE</td>\n",
       "      <td>a4b2701122758f84</td>\n",
       "      <td>2016-10-16T11:03:12.722+02:00</td>\n",
       "      <td>2016-10-16T11:08:09.438+02:00</td>\n",
       "      <td>&lt;unknown&gt;</td>\n",
       "      <td>Music</td>\n",
       "      <td>Kizomba - Philipe Monteiro - Alta Segurança</td>\n",
       "      <td>content://media/external/audio/media/220</td>\n",
       "      <td>Walkman</td>\n",
       "      <td></td>\n",
       "      <td>201610</td>\n",
       "    </tr>\n",
       "    <tr>\n",
       "      <th>5</th>\n",
       "      <td>65290fff-d70c-41c7-9ca9-f2b22cfa5fdc-2016-10-16</td>\n",
       "      <td></td>\n",
       "      <td>62a8ea8f-9a27-4116-b880-a4050bad5926</td>\n",
       "      <td>2016-10-15T23:50:06.296-04:00</td>\n",
       "      <td>2016-10-16T01:14:11.333-04:00</td>\n",
       "      <td>D6616</td>\n",
       "      <td>PHONE</td>\n",
       "      <td>1b4054332c02838f</td>\n",
       "      <td>2016-10-16T00:21:04.592-04:00</td>\n",
       "      <td>2016-10-16T00:25:13.417-04:00</td>\n",
       "      <td>Cali y El Dandee Ft. Juan Magan y Sebastian Yatra</td>\n",
       "      <td>www.planetaexitos.com</td>\n",
       "      <td>Por Fin Te Encontré</td>\n",
       "      <td>content://media/external/audio/media/73063</td>\n",
       "      <td>Walkman</td>\n",
       "      <td></td>\n",
       "      <td>201610</td>\n",
       "    </tr>\n",
       "    <tr>\n",
       "      <th>6</th>\n",
       "      <td>2abfb220-1b29-4df0-a395-9490947ccae6-2016-10-16</td>\n",
       "      <td>2016-10-16T11:55:22.114Z</td>\n",
       "      <td>35389166-37c2-4cd8-8ff1-152deeb0c11a</td>\n",
       "      <td>2016-10-16T17:26:08.565+09:00</td>\n",
       "      <td>2016-10-16T19:28:11.968+09:00</td>\n",
       "      <td>SO-02G</td>\n",
       "      <td>PHONE</td>\n",
       "      <td>b53e0801692fedf8</td>\n",
       "      <td>2016-10-16T17:42:59.463+09:00</td>\n",
       "      <td>2016-10-16T17:46:37.396+09:00</td>\n",
       "      <td>Sum 41</td>\n",
       "      <td>The Best of Sum 41: 8 Years of Blood, Sake and...</td>\n",
       "      <td>Handle This</td>\n",
       "      <td>content://media/external/audio/media/8402</td>\n",
       "      <td>Walkman</td>\n",
       "      <td></td>\n",
       "      <td>201610</td>\n",
       "    </tr>\n",
       "    <tr>\n",
       "      <th>7</th>\n",
       "      <td>694dfcc0-5406-44ca-8739-c0c57b365dd5-2016-10-16</td>\n",
       "      <td></td>\n",
       "      <td>cd35971e-fdef-4b3e-909e-7c10a92e9718</td>\n",
       "      <td>2016-10-16T13:22:24.687+02:00</td>\n",
       "      <td>2016-10-16T13:39:22.476+02:00</td>\n",
       "      <td>D6603</td>\n",
       "      <td>PHONE</td>\n",
       "      <td>39d083c10ff8583f</td>\n",
       "      <td>2016-10-16T13:38:49.599+02:00</td>\n",
       "      <td>2016-10-16T13:39:22.476+02:00</td>\n",
       "      <td>A$AP Rocky</td>\n",
       "      <td>AT.LONG.LAST.A$AP</td>\n",
       "      <td>Lord Pretty Flacko Jodye 2 (LPFJ2)</td>\n",
       "      <td></td>\n",
       "      <td>Spotify</td>\n",
       "      <td>spotify:track:1j6kDJttn6wbVyMaM42Nxm</td>\n",
       "      <td>201610</td>\n",
       "    </tr>\n",
       "    <tr>\n",
       "      <th>8</th>\n",
       "      <td>9dda8f1a-4409-40ef-b569-e7dcfdd45a89-2016-10-16</td>\n",
       "      <td></td>\n",
       "      <td>9c73877f-0277-4a73-bc25-f7910dd3bc7e</td>\n",
       "      <td>2016-10-16T02:52:18.382+02:00</td>\n",
       "      <td>2016-10-16T03:38:40.497+02:00</td>\n",
       "      <td>D6503</td>\n",
       "      <td>PHONE</td>\n",
       "      <td>29ff78f4b611dee3</td>\n",
       "      <td>2016-10-16T03:32:16.784+02:00</td>\n",
       "      <td>2016-10-16T03:36:07.264+02:00</td>\n",
       "      <td>Panet.co.il_Rabih-Baroud</td>\n",
       "      <td>www.panet.co.il</td>\n",
       "      <td>Taibo</td>\n",
       "      <td>content://media/external/audio/media/338585</td>\n",
       "      <td>Walkman</td>\n",
       "      <td></td>\n",
       "      <td>201610</td>\n",
       "    </tr>\n",
       "    <tr>\n",
       "      <th>9</th>\n",
       "      <td>1c06a1a4-11e5-479d-b4eb-d430e56e8b41-2016-10-16</td>\n",
       "      <td></td>\n",
       "      <td>77d2f9e5-68f0-4182-9ca9-dd8fdf128989</td>\n",
       "      <td>2016-10-16T17:06:48.356+05:00</td>\n",
       "      <td>2016-10-16T17:07:24.935+05:00</td>\n",
       "      <td>E6553</td>\n",
       "      <td>PHONE</td>\n",
       "      <td>8bbf450ec7eceee9</td>\n",
       "      <td>2016-10-16T17:06:48.356+05:00</td>\n",
       "      <td>2016-10-16T17:07:24.935+05:00</td>\n",
       "      <td>&lt;unknown&gt;</td>\n",
       "      <td>Download</td>\n",
       "      <td>TairoJ'étais prêt</td>\n",
       "      <td>content://media/external/audio/media/27003</td>\n",
       "      <td>Walkman</td>\n",
       "      <td></td>\n",
       "      <td>201610</td>\n",
       "    </tr>\n",
       "    <tr>\n",
       "      <th>10</th>\n",
       "      <td>822bdde5-ebb2-47ec-8bd4-0c7503cfd6ab-2016-10-16</td>\n",
       "      <td></td>\n",
       "      <td>a413e20d-c564-4010-9827-5a794ee61498</td>\n",
       "      <td>2016-10-16T19:57:37.627+08:00</td>\n",
       "      <td>2016-10-16T19:58:50.927+08:00</td>\n",
       "      <td>SGP641</td>\n",
       "      <td>PHONE</td>\n",
       "      <td>deb86e59b0d2da58</td>\n",
       "      <td>2016-10-16T19:57:37.627+08:00</td>\n",
       "      <td>2016-10-16T19:58:50.927+08:00</td>\n",
       "      <td>&lt;unknown&gt;</td>\n",
       "      <td>English Now! Listening and Speaking in Everyda...</td>\n",
       "      <td>045</td>\n",
       "      <td>content://media/external/audio/media/144653</td>\n",
       "      <td>Walkman</td>\n",
       "      <td></td>\n",
       "      <td>201610</td>\n",
       "    </tr>\n",
       "    <tr>\n",
       "      <th>11</th>\n",
       "      <td>3606166c-24d3-470d-a723-fe20cf5dc93e-2016-10-16</td>\n",
       "      <td></td>\n",
       "      <td>2a8393eb-1745-4a50-ac79-0e203ef83dfc</td>\n",
       "      <td>2016-10-16T17:11:58.844+09:00</td>\n",
       "      <td>2016-10-16T18:20:37.934+09:00</td>\n",
       "      <td>SO-02F</td>\n",
       "      <td>PHONE</td>\n",
       "      <td>e64bc006cb020c43</td>\n",
       "      <td>2016-10-16T17:11:58.844+09:00</td>\n",
       "      <td>2016-10-16T17:16:40.925+09:00</td>\n",
       "      <td>サザンオールスターズ</td>\n",
       "      <td>海のYeah!!</td>\n",
       "      <td>真夏の果実</td>\n",
       "      <td>content://media/external/audio/media/4999</td>\n",
       "      <td>Walkman</td>\n",
       "      <td></td>\n",
       "      <td>201610</td>\n",
       "    </tr>\n",
       "    <tr>\n",
       "      <th>12</th>\n",
       "      <td>36d43d81-7f8c-4ae3-b903-12ccd1b12f9b-2016-10-16</td>\n",
       "      <td></td>\n",
       "      <td>e03dd2df-9ec9-4788-8fe5-8599491d4b07</td>\n",
       "      <td>2016-10-16T12:33:56.296+02:00</td>\n",
       "      <td>2016-10-16T13:59:44.328+02:00</td>\n",
       "      <td>E6653</td>\n",
       "      <td>PHONE</td>\n",
       "      <td>2b673893ab1050b2</td>\n",
       "      <td>2016-10-16T13:13:38.607+02:00</td>\n",
       "      <td>2016-10-16T13:16:54.035+02:00</td>\n",
       "      <td>Nause</td>\n",
       "      <td>Dynamite (feat. Pretty Sister)</td>\n",
       "      <td>Dynamite (feat. Pretty Sister)</td>\n",
       "      <td></td>\n",
       "      <td>Spotify</td>\n",
       "      <td>spotify:track:2Ae5awwKvQpTBKQHr1TYCg</td>\n",
       "      <td>201610</td>\n",
       "    </tr>\n",
       "    <tr>\n",
       "      <th>13</th>\n",
       "      <td>948940ef-193a-4d68-a27d-e127552997bb-2016-10-16</td>\n",
       "      <td></td>\n",
       "      <td>f6ca47cb-e515-4bba-93f8-077b2314ce9a</td>\n",
       "      <td>2016-10-16T12:45:29.494+02:00</td>\n",
       "      <td>2016-10-16T12:57:15.782+02:00</td>\n",
       "      <td>D5803</td>\n",
       "      <td>PHONE</td>\n",
       "      <td>dba6b1e2d7dea4b5</td>\n",
       "      <td>2016-10-16T12:48:07.620+02:00</td>\n",
       "      <td>2016-10-16T12:50:11.428+02:00</td>\n",
       "      <td>The Everly Brothers</td>\n",
       "      <td>The Very Best of The Everly Brothers</td>\n",
       "      <td>Wake Up Little Susie</td>\n",
       "      <td></td>\n",
       "      <td>Spotify</td>\n",
       "      <td>spotify:track:11fNLqDB47gMKj7BHhR2Qr</td>\n",
       "      <td>201610</td>\n",
       "    </tr>\n",
       "    <tr>\n",
       "      <th>14</th>\n",
       "      <td>70c04d06-8be9-4f38-b88a-639374f1c211-2016-10-16</td>\n",
       "      <td></td>\n",
       "      <td>6e3a9c4f-08b6-4f27-9d53-6b820f618f35</td>\n",
       "      <td>2016-10-16T13:22:22.191+03:00</td>\n",
       "      <td>2016-10-16T15:34:13.535+03:00</td>\n",
       "      <td>D5803</td>\n",
       "      <td>PHONE</td>\n",
       "      <td>7bf9ea7bab4fa01d</td>\n",
       "      <td>2016-10-16T15:30:18.125+03:00</td>\n",
       "      <td>2016-10-16T15:31:45.552+03:00</td>\n",
       "      <td>Galantis</td>\n",
       "      <td>Zaycev.Net</td>\n",
       "      <td>No Money (zaycev.net)</td>\n",
       "      <td>content://media/external/audio/media/32494</td>\n",
       "      <td>Walkman</td>\n",
       "      <td></td>\n",
       "      <td>201610</td>\n",
       "    </tr>\n",
       "    <tr>\n",
       "      <th>15</th>\n",
       "      <td>60165150-b7b5-4f83-ba75-356fd96b67de-2016-10-16</td>\n",
       "      <td></td>\n",
       "      <td>ee5123f3-b53b-4e03-8efb-342423bb7a0f</td>\n",
       "      <td>2016-10-16T01:01:32.568-05:00</td>\n",
       "      <td>2016-10-16T04:23:21.839-05:00</td>\n",
       "      <td>D6603</td>\n",
       "      <td>PHONE</td>\n",
       "      <td>90e54b2ec4b07f5f</td>\n",
       "      <td>2016-10-16T03:56:17.834-05:00</td>\n",
       "      <td>2016-10-16T03:57:46.163-05:00</td>\n",
       "      <td>Carnal Diafragma</td>\n",
       "      <td>Space Symphony Around Us</td>\n",
       "      <td>01 Teletrambus</td>\n",
       "      <td>content://media/external/audio/media/9454</td>\n",
       "      <td>Walkman</td>\n",
       "      <td></td>\n",
       "      <td>201610</td>\n",
       "    </tr>\n",
       "    <tr>\n",
       "      <th>16</th>\n",
       "      <td>292ba140-f4f3-46ad-86ae-63b172520547-2016-10-16</td>\n",
       "      <td></td>\n",
       "      <td>8a8d783d-a834-478e-9d81-fe6dfd58d61e</td>\n",
       "      <td>2016-10-16T14:39:49.346+02:00</td>\n",
       "      <td>2016-10-16T15:11:29.085+02:00</td>\n",
       "      <td>D6603</td>\n",
       "      <td>PHONE</td>\n",
       "      <td>d5a22c9fb74dc539</td>\n",
       "      <td>2016-10-16T14:39:49.346+02:00</td>\n",
       "      <td>2016-10-16T15:11:29.085+02:00</td>\n",
       "      <td>&lt;unknown&gt;</td>\n",
       "      <td>Download</td>\n",
       "      <td>The Chainsmokers - Closer ft. Halsey</td>\n",
       "      <td>content://media/external/audio/media/91025</td>\n",
       "      <td>Walkman</td>\n",
       "      <td></td>\n",
       "      <td>201610</td>\n",
       "    </tr>\n",
       "    <tr>\n",
       "      <th>17</th>\n",
       "      <td>6fc5739e-1439-47ea-aa8e-bd06be3a7ebd-2016-10-16</td>\n",
       "      <td></td>\n",
       "      <td>d44fa581-9c9b-448c-a4f7-19711dc81300</td>\n",
       "      <td>2016-10-16T21:17:40.652+08:00</td>\n",
       "      <td>2016-10-16T21:24:57.086+08:00</td>\n",
       "      <td>F8132</td>\n",
       "      <td>PHONE</td>\n",
       "      <td>3be55530e6556979</td>\n",
       "      <td>2016-10-16T21:21:14.266+08:00</td>\n",
       "      <td>2016-10-16T21:24:57.086+08:00</td>\n",
       "      <td>&lt;unknown&gt;</td>\n",
       "      <td>SIA</td>\n",
       "      <td>Flo Rida - Wild Ones ft. Sia [Official Video]</td>\n",
       "      <td>content://media/external/audio/media/48620</td>\n",
       "      <td>Walkman</td>\n",
       "      <td></td>\n",
       "      <td>201610</td>\n",
       "    </tr>\n",
       "    <tr>\n",
       "      <th>18</th>\n",
       "      <td>0a806222-8eda-495c-b647-f82818e64a20-2016-10-16</td>\n",
       "      <td></td>\n",
       "      <td>bcfdb79e-ff08-484d-8c4f-68b164a2d348</td>\n",
       "      <td>2016-10-16T19:50:04.478+13:00</td>\n",
       "      <td>2016-10-16T20:25:06.231+13:00</td>\n",
       "      <td>D6503</td>\n",
       "      <td>PHONE</td>\n",
       "      <td>c030d24e08d2152f</td>\n",
       "      <td>2016-10-16T19:50:04.478+13:00</td>\n",
       "      <td>2016-10-16T19:53:17.532+13:00</td>\n",
       "      <td>Molly Sanden</td>\n",
       "      <td>Music</td>\n",
       "      <td>Phoenix</td>\n",
       "      <td>content://media/external/audio/media/206438</td>\n",
       "      <td>Walkman</td>\n",
       "      <td></td>\n",
       "      <td>201610</td>\n",
       "    </tr>\n",
       "    <tr>\n",
       "      <th>19</th>\n",
       "      <td>caaf70b1-8b2e-44ae-8e52-129be698cdef-2016-10-15</td>\n",
       "      <td></td>\n",
       "      <td>b9a41152-ba33-4ce0-89b9-02d8cabb2bfa</td>\n",
       "      <td>2016-10-15T23:21:38.826+01:00</td>\n",
       "      <td>2016-10-16T08:30:37.376+01:00</td>\n",
       "      <td>E5823</td>\n",
       "      <td>PHONE</td>\n",
       "      <td>a7e6c6a313958e08</td>\n",
       "      <td>2016-10-16T06:38:50.629+01:00</td>\n",
       "      <td>2016-10-16T06:41:39.997+01:00</td>\n",
       "      <td>&lt;unknown&gt;</td>\n",
       "      <td>After All This Time</td>\n",
       "      <td>02 Someone Had To Teach You</td>\n",
       "      <td>content://media/external/audio/media/70024</td>\n",
       "      <td>Walkman</td>\n",
       "      <td></td>\n",
       "      <td>201610</td>\n",
       "    </tr>\n",
       "    <tr>\n",
       "      <th>20</th>\n",
       "      <td>0aebea57-e605-4b61-9f87-011b234cdc2d-2016-10-16</td>\n",
       "      <td></td>\n",
       "      <td>36f2243e-2556-45f9-913b-fa7d0e9024d0</td>\n",
       "      <td>2016-10-16T09:27:01.289+02:00</td>\n",
       "      <td>2016-10-16T12:25:04.663+02:00</td>\n",
       "      <td>D6603</td>\n",
       "      <td>PHONE</td>\n",
       "      <td>18373db8fe1d38c6</td>\n",
       "      <td>2016-10-16T09:53:42.231+02:00</td>\n",
       "      <td>2016-10-16T09:58:06.519+02:00</td>\n",
       "      <td>Accept</td>\n",
       "      <td>Russian Roulette</td>\n",
       "      <td>Aiming High</td>\n",
       "      <td>content://media/external/audio/media/111497</td>\n",
       "      <td>Walkman</td>\n",
       "      <td></td>\n",
       "      <td>201610</td>\n",
       "    </tr>\n",
       "    <tr>\n",
       "      <th>21</th>\n",
       "      <td>e5a04363-2549-47eb-8d08-01f44287f7b9-2016-10-16</td>\n",
       "      <td></td>\n",
       "      <td>5aa4eddc-ffcf-4521-9182-9217b5ef4b84</td>\n",
       "      <td>2016-10-16T13:13:00.545+02:00</td>\n",
       "      <td>2016-10-16T14:56:12.673+02:00</td>\n",
       "      <td>D5803</td>\n",
       "      <td>PHONE</td>\n",
       "      <td>fbfd7591b8e203b7</td>\n",
       "      <td>2016-10-16T14:08:23.963+02:00</td>\n",
       "      <td>2016-10-16T14:12:31.805+02:00</td>\n",
       "      <td>Mark Ronson</td>\n",
       "      <td>UK TOP 40 Singles Chart</td>\n",
       "      <td>Uptown Funk! (Feat.Bruno Mars)</td>\n",
       "      <td>content://media/external/audio/media/42349</td>\n",
       "      <td>Walkman</td>\n",
       "      <td></td>\n",
       "      <td>201610</td>\n",
       "    </tr>\n",
       "    <tr>\n",
       "      <th>22</th>\n",
       "      <td>894a2396-1390-45b8-abd4-e8942b04af45-2016-10-16</td>\n",
       "      <td></td>\n",
       "      <td>5a22b2ae-ecde-459a-9de4-ba1ca5df4ef4</td>\n",
       "      <td>2016-10-16T18:18:56.838+08:00</td>\n",
       "      <td>2016-10-16T18:38:38.449+08:00</td>\n",
       "      <td>D6563</td>\n",
       "      <td>PHONE</td>\n",
       "      <td>b264db1c7b6a06f6</td>\n",
       "      <td>2016-10-16T18:23:17.040+08:00</td>\n",
       "      <td>2016-10-16T18:27:07.205+08:00</td>\n",
       "      <td>&lt;unknown&gt;</td>\n",
       "      <td>mp3</td>\n",
       "      <td>BIGBANG - 뱅뱅뱅 (BANG BANG BANG) M-V</td>\n",
       "      <td>content://media/external/audio/media/156773</td>\n",
       "      <td>Walkman</td>\n",
       "      <td></td>\n",
       "      <td>201610</td>\n",
       "    </tr>\n",
       "    <tr>\n",
       "      <th>23</th>\n",
       "      <td>0bc922ed-9670-4e20-91aa-2827bbfdf9b4-2016-10-15</td>\n",
       "      <td></td>\n",
       "      <td>d98cf40d-30d8-4ae8-9981-aa5dffc52def</td>\n",
       "      <td>2016-10-15T23:17:51.771+05:30</td>\n",
       "      <td>2016-10-15T23:31:23.810+05:30</td>\n",
       "      <td>E6683</td>\n",
       "      <td>PHONE</td>\n",
       "      <td>5e3e576f25fabadf</td>\n",
       "      <td>2016-10-15T23:29:24.618+05:30</td>\n",
       "      <td>2016-10-15T23:31:23.810+05:30</td>\n",
       "      <td>&lt;unknown&gt;</td>\n",
       "      <td>audios</td>\n",
       "      <td>Calvin Harris - Outside ft. Ellie Goulding</td>\n",
       "      <td>content://media/external/audio/media/237710</td>\n",
       "      <td>Walkman</td>\n",
       "      <td></td>\n",
       "      <td>201610</td>\n",
       "    </tr>\n",
       "    <tr>\n",
       "      <th>24</th>\n",
       "      <td>eacc06f5-ea9e-458b-8f98-80d16b1a0bfc-2016-10-16</td>\n",
       "      <td></td>\n",
       "      <td>fcfeae2f-bc48-4bb9-b56b-72e686b1362c</td>\n",
       "      <td>2016-10-16T15:36:15.989+03:00</td>\n",
       "      <td>2016-10-16T15:58:26.799+03:00</td>\n",
       "      <td>D6502</td>\n",
       "      <td>PHONE</td>\n",
       "      <td>53a961cf9219e45d</td>\n",
       "      <td>2016-10-16T15:49:31.889+03:00</td>\n",
       "      <td>2016-10-16T15:52:36.352+03:00</td>\n",
       "      <td>&lt;unknown&gt;</td>\n",
       "      <td>audios</td>\n",
       "      <td>Karakız (2013)</td>\n",
       "      <td>content://media/external/audio/media/56205</td>\n",
       "      <td>Walkman</td>\n",
       "      <td></td>\n",
       "      <td>201610</td>\n",
       "    </tr>\n",
       "    <tr>\n",
       "      <th>25</th>\n",
       "      <td>68d3cf09-c054-46f3-a081-fd7161b8738f-2016-10-16</td>\n",
       "      <td></td>\n",
       "      <td>0e814908-673d-4c1a-a58f-ff127013b903</td>\n",
       "      <td>2016-10-16T05:30:25.072+02:00</td>\n",
       "      <td>2016-10-16T06:00:24.093+02:00</td>\n",
       "      <td>D6603</td>\n",
       "      <td>PHONE</td>\n",
       "      <td>e265a44debb35f47</td>\n",
       "      <td>2016-10-16T05:45:37.180+02:00</td>\n",
       "      <td>2016-10-16T05:49:07.630+02:00</td>\n",
       "      <td>12. Dankbarkeit Palmen Aus Plastik 2016</td>\n",
       "      <td>WhatsApp Audio</td>\n",
       "      <td>AUD-20161014-WA0380</td>\n",
       "      <td>content://media/external/audio/media/287970</td>\n",
       "      <td>Walkman</td>\n",
       "      <td></td>\n",
       "      <td>201610</td>\n",
       "    </tr>\n",
       "    <tr>\n",
       "      <th>26</th>\n",
       "      <td>43f5443d-b028-46b5-8159-1d1e5a195566-2016-10-06</td>\n",
       "      <td></td>\n",
       "      <td>54fd219f-5078-4d49-88b3-08e352f11b5e</td>\n",
       "      <td>2016-10-06T14:10:52.231+01:00</td>\n",
       "      <td>2016-10-06T15:18:57.500+01:00</td>\n",
       "      <td>D6603</td>\n",
       "      <td>PHONE</td>\n",
       "      <td>3b0eee6672854c30</td>\n",
       "      <td>2016-10-06T15:00:12.222+01:00</td>\n",
       "      <td>2016-10-06T15:03:30.692+01:00</td>\n",
       "      <td>Ballyhoo!</td>\n",
       "      <td>Daydreams</td>\n",
       "      <td>Bootleggers</td>\n",
       "      <td></td>\n",
       "      <td>Spotify</td>\n",
       "      <td>spotify:track:2aCycHQTvCUaWIGtNT1M0x</td>\n",
       "      <td>201610</td>\n",
       "    </tr>\n",
       "    <tr>\n",
       "      <th>27</th>\n",
       "      <td>f791d844-b956-4518-addf-dd75f64dd120-2016-10-03</td>\n",
       "      <td></td>\n",
       "      <td>9b06c4d9-f7f7-4816-81b9-86a5a7d0ba98</td>\n",
       "      <td>2016-10-03T13:32:07.051+09:00</td>\n",
       "      <td>2016-10-03T14:08:11.439+09:00</td>\n",
       "      <td>401SO</td>\n",
       "      <td>PHONE</td>\n",
       "      <td>b2b6003e71e2b19b</td>\n",
       "      <td>2016-10-03T13:42:53.705+09:00</td>\n",
       "      <td>2016-10-03T13:47:27.232+09:00</td>\n",
       "      <td>チャン・グンソク</td>\n",
       "      <td>Nature Boy</td>\n",
       "      <td>Love Letter</td>\n",
       "      <td>content://media/external/audio/media/37937</td>\n",
       "      <td>Walkman</td>\n",
       "      <td></td>\n",
       "      <td>201610</td>\n",
       "    </tr>\n",
       "    <tr>\n",
       "      <th>28</th>\n",
       "      <td>103d0389-302c-4c4d-973c-737f5b71d246-2016-10-16</td>\n",
       "      <td></td>\n",
       "      <td>607ecf75-01dc-4f5d-b3fb-aa65cc8b6b53</td>\n",
       "      <td>2016-10-16T11:49:50.392-03:00</td>\n",
       "      <td>2016-10-16T11:54:29.826-03:00</td>\n",
       "      <td>E6533</td>\n",
       "      <td>PHONE</td>\n",
       "      <td>2c78cd201b46528c</td>\n",
       "      <td>2016-10-16T11:49:50.392-03:00</td>\n",
       "      <td>2016-10-16T11:54:29.826-03:00</td>\n",
       "      <td>Wlad Borges</td>\n",
       "      <td>WhatsApp Audio</td>\n",
       "      <td>Toda Vez Que Chove</td>\n",
       "      <td>content://media/external/audio/media/203343</td>\n",
       "      <td>Walkman</td>\n",
       "      <td></td>\n",
       "      <td>201610</td>\n",
       "    </tr>\n",
       "    <tr>\n",
       "      <th>29</th>\n",
       "      <td>499d1205-e161-4c39-bb6c-08bd314f9cac-2016-10-16</td>\n",
       "      <td></td>\n",
       "      <td>c66d5312-904a-42b8-8d38-c61dbd273f13</td>\n",
       "      <td>2016-10-16T13:16:22.894+02:00</td>\n",
       "      <td>2016-10-16T13:42:57.507+02:00</td>\n",
       "      <td>F5121</td>\n",
       "      <td>PHONE</td>\n",
       "      <td>c7230570bfeefb06</td>\n",
       "      <td>2016-10-16T13:32:43.868+02:00</td>\n",
       "      <td>2016-10-16T13:36:42.184+02:00</td>\n",
       "      <td>Ellie Goulding</td>\n",
       "      <td>bluetooth</td>\n",
       "      <td>Burn</td>\n",
       "      <td>content://media/external/audio/media/6229</td>\n",
       "      <td>Walkman</td>\n",
       "      <td></td>\n",
       "      <td>201610</td>\n",
       "    </tr>\n",
       "  </tbody>\n",
       "</table>\n",
       "</div>"
      ],
      "text/plain": [
       "                                                 id              deleted_time  \\\n",
       "0   96c4958e-781b-477c-9823-6a6fc5cdfed0-2016-10-16                             \n",
       "1   a8eec483-caa5-4297-ab53-12dfae409b44-2016-10-16                             \n",
       "2   741a6351-cd04-47ce-bfa0-c906848ca52f-2016-10-16                             \n",
       "3   2720ff80-e5f3-4a92-a8cd-5f7840b2743a-2016-10-16                             \n",
       "4   2868bc0a-1fb3-4020-8706-811ae31f9f92-2016-10-16                             \n",
       "5   65290fff-d70c-41c7-9ca9-f2b22cfa5fdc-2016-10-16                             \n",
       "6   2abfb220-1b29-4df0-a395-9490947ccae6-2016-10-16  2016-10-16T11:55:22.114Z   \n",
       "7   694dfcc0-5406-44ca-8739-c0c57b365dd5-2016-10-16                             \n",
       "8   9dda8f1a-4409-40ef-b569-e7dcfdd45a89-2016-10-16                             \n",
       "9   1c06a1a4-11e5-479d-b4eb-d430e56e8b41-2016-10-16                             \n",
       "10  822bdde5-ebb2-47ec-8bd4-0c7503cfd6ab-2016-10-16                             \n",
       "11  3606166c-24d3-470d-a723-fe20cf5dc93e-2016-10-16                             \n",
       "12  36d43d81-7f8c-4ae3-b903-12ccd1b12f9b-2016-10-16                             \n",
       "13  948940ef-193a-4d68-a27d-e127552997bb-2016-10-16                             \n",
       "14  70c04d06-8be9-4f38-b88a-639374f1c211-2016-10-16                             \n",
       "15  60165150-b7b5-4f83-ba75-356fd96b67de-2016-10-16                             \n",
       "16  292ba140-f4f3-46ad-86ae-63b172520547-2016-10-16                             \n",
       "17  6fc5739e-1439-47ea-aa8e-bd06be3a7ebd-2016-10-16                             \n",
       "18  0a806222-8eda-495c-b647-f82818e64a20-2016-10-16                             \n",
       "19  caaf70b1-8b2e-44ae-8e52-129be698cdef-2016-10-15                             \n",
       "20  0aebea57-e605-4b61-9f87-011b234cdc2d-2016-10-16                             \n",
       "21  e5a04363-2549-47eb-8d08-01f44287f7b9-2016-10-16                             \n",
       "22  894a2396-1390-45b8-abd4-e8942b04af45-2016-10-16                             \n",
       "23  0bc922ed-9670-4e20-91aa-2827bbfdf9b4-2016-10-15                             \n",
       "24  eacc06f5-ea9e-458b-8f98-80d16b1a0bfc-2016-10-16                             \n",
       "25  68d3cf09-c054-46f3-a081-fd7161b8738f-2016-10-16                             \n",
       "26  43f5443d-b028-46b5-8159-1d1e5a195566-2016-10-06                             \n",
       "27  f791d844-b956-4518-addf-dd75f64dd120-2016-10-03                             \n",
       "28  103d0389-302c-4c4d-973c-737f5b71d246-2016-10-16                             \n",
       "29  499d1205-e161-4c39-bb6c-08bd314f9cac-2016-10-16                             \n",
       "\n",
       "                                useruuid                     start_time  \\\n",
       "0   217abb4b-cf26-4b28-a1af-bfa0565f64d8  2016-10-16T11:14:24.281+02:00   \n",
       "1   d98eb3db-d1b5-47a3-a6cd-7f8b651913e0  2016-10-16T12:05:13.901+02:00   \n",
       "2   07b500bf-b975-4fc1-b203-d25973809a8a  2016-10-16T12:07:44.666+05:00   \n",
       "3   0f0742d4-454f-4234-a7aa-6980eeedf5fa  2016-10-16T15:37:42.058+09:00   \n",
       "4   5f500365-af05-4ff0-ae64-abacd71eac06  2016-10-16T10:59:54.106+02:00   \n",
       "5   62a8ea8f-9a27-4116-b880-a4050bad5926  2016-10-15T23:50:06.296-04:00   \n",
       "6   35389166-37c2-4cd8-8ff1-152deeb0c11a  2016-10-16T17:26:08.565+09:00   \n",
       "7   cd35971e-fdef-4b3e-909e-7c10a92e9718  2016-10-16T13:22:24.687+02:00   \n",
       "8   9c73877f-0277-4a73-bc25-f7910dd3bc7e  2016-10-16T02:52:18.382+02:00   \n",
       "9   77d2f9e5-68f0-4182-9ca9-dd8fdf128989  2016-10-16T17:06:48.356+05:00   \n",
       "10  a413e20d-c564-4010-9827-5a794ee61498  2016-10-16T19:57:37.627+08:00   \n",
       "11  2a8393eb-1745-4a50-ac79-0e203ef83dfc  2016-10-16T17:11:58.844+09:00   \n",
       "12  e03dd2df-9ec9-4788-8fe5-8599491d4b07  2016-10-16T12:33:56.296+02:00   \n",
       "13  f6ca47cb-e515-4bba-93f8-077b2314ce9a  2016-10-16T12:45:29.494+02:00   \n",
       "14  6e3a9c4f-08b6-4f27-9d53-6b820f618f35  2016-10-16T13:22:22.191+03:00   \n",
       "15  ee5123f3-b53b-4e03-8efb-342423bb7a0f  2016-10-16T01:01:32.568-05:00   \n",
       "16  8a8d783d-a834-478e-9d81-fe6dfd58d61e  2016-10-16T14:39:49.346+02:00   \n",
       "17  d44fa581-9c9b-448c-a4f7-19711dc81300  2016-10-16T21:17:40.652+08:00   \n",
       "18  bcfdb79e-ff08-484d-8c4f-68b164a2d348  2016-10-16T19:50:04.478+13:00   \n",
       "19  b9a41152-ba33-4ce0-89b9-02d8cabb2bfa  2016-10-15T23:21:38.826+01:00   \n",
       "20  36f2243e-2556-45f9-913b-fa7d0e9024d0  2016-10-16T09:27:01.289+02:00   \n",
       "21  5aa4eddc-ffcf-4521-9182-9217b5ef4b84  2016-10-16T13:13:00.545+02:00   \n",
       "22  5a22b2ae-ecde-459a-9de4-ba1ca5df4ef4  2016-10-16T18:18:56.838+08:00   \n",
       "23  d98cf40d-30d8-4ae8-9981-aa5dffc52def  2016-10-15T23:17:51.771+05:30   \n",
       "24  fcfeae2f-bc48-4bb9-b56b-72e686b1362c  2016-10-16T15:36:15.989+03:00   \n",
       "25  0e814908-673d-4c1a-a58f-ff127013b903  2016-10-16T05:30:25.072+02:00   \n",
       "26  54fd219f-5078-4d49-88b3-08e352f11b5e  2016-10-06T14:10:52.231+01:00   \n",
       "27  9b06c4d9-f7f7-4816-81b9-86a5a7d0ba98  2016-10-03T13:32:07.051+09:00   \n",
       "28  607ecf75-01dc-4f5d-b3fb-aa65cc8b6b53  2016-10-16T11:49:50.392-03:00   \n",
       "29  c66d5312-904a-42b8-8d38-c61dbd273f13  2016-10-16T13:16:22.894+02:00   \n",
       "\n",
       "                         end_time devices_name devices_type        devices_id  \\\n",
       "0   2016-10-16T11:58:41.070+02:00        D6503        PHONE  30575b739121b7a7   \n",
       "1   2016-10-16T12:15:11.685+02:00        D5503        PHONE   c9d2ad0a5e3b17a   \n",
       "2   2016-10-16T14:45:58.478+05:00        E6633        PHONE  84b6ce0d67c6ab0c   \n",
       "3   2016-10-16T19:30:59.929+09:00       SO-03F        PHONE  5e0957ef6094f22f   \n",
       "4   2016-10-16T11:21:26.814+02:00        E6653        PHONE  a4b2701122758f84   \n",
       "5   2016-10-16T01:14:11.333-04:00        D6616        PHONE  1b4054332c02838f   \n",
       "6   2016-10-16T19:28:11.968+09:00       SO-02G        PHONE  b53e0801692fedf8   \n",
       "7   2016-10-16T13:39:22.476+02:00        D6603        PHONE  39d083c10ff8583f   \n",
       "8   2016-10-16T03:38:40.497+02:00        D6503        PHONE  29ff78f4b611dee3   \n",
       "9   2016-10-16T17:07:24.935+05:00        E6553        PHONE  8bbf450ec7eceee9   \n",
       "10  2016-10-16T19:58:50.927+08:00       SGP641        PHONE  deb86e59b0d2da58   \n",
       "11  2016-10-16T18:20:37.934+09:00       SO-02F        PHONE  e64bc006cb020c43   \n",
       "12  2016-10-16T13:59:44.328+02:00        E6653        PHONE  2b673893ab1050b2   \n",
       "13  2016-10-16T12:57:15.782+02:00        D5803        PHONE  dba6b1e2d7dea4b5   \n",
       "14  2016-10-16T15:34:13.535+03:00        D5803        PHONE  7bf9ea7bab4fa01d   \n",
       "15  2016-10-16T04:23:21.839-05:00        D6603        PHONE  90e54b2ec4b07f5f   \n",
       "16  2016-10-16T15:11:29.085+02:00        D6603        PHONE  d5a22c9fb74dc539   \n",
       "17  2016-10-16T21:24:57.086+08:00        F8132        PHONE  3be55530e6556979   \n",
       "18  2016-10-16T20:25:06.231+13:00        D6503        PHONE  c030d24e08d2152f   \n",
       "19  2016-10-16T08:30:37.376+01:00        E5823        PHONE  a7e6c6a313958e08   \n",
       "20  2016-10-16T12:25:04.663+02:00        D6603        PHONE  18373db8fe1d38c6   \n",
       "21  2016-10-16T14:56:12.673+02:00        D5803        PHONE  fbfd7591b8e203b7   \n",
       "22  2016-10-16T18:38:38.449+08:00        D6563        PHONE  b264db1c7b6a06f6   \n",
       "23  2016-10-15T23:31:23.810+05:30        E6683        PHONE  5e3e576f25fabadf   \n",
       "24  2016-10-16T15:58:26.799+03:00        D6502        PHONE  53a961cf9219e45d   \n",
       "25  2016-10-16T06:00:24.093+02:00        D6603        PHONE  e265a44debb35f47   \n",
       "26  2016-10-06T15:18:57.500+01:00        D6603        PHONE  3b0eee6672854c30   \n",
       "27  2016-10-03T14:08:11.439+09:00        401SO        PHONE  b2b6003e71e2b19b   \n",
       "28  2016-10-16T11:54:29.826-03:00        E6533        PHONE  2c78cd201b46528c   \n",
       "29  2016-10-16T13:42:57.507+02:00        F5121        PHONE  c7230570bfeefb06   \n",
       "\n",
       "                tracks_start_time                tracks_end_time  \\\n",
       "0   2016-10-16T11:42:33.218+02:00  2016-10-16T11:45:42.689+02:00   \n",
       "1   2016-10-16T12:08:19.172+02:00  2016-10-16T12:09:07.304+02:00   \n",
       "2   2016-10-16T13:10:43.036+05:00  2016-10-16T13:14:48.150+05:00   \n",
       "3   2016-10-16T16:38:21.892+09:00  2016-10-16T16:44:09.193+09:00   \n",
       "4   2016-10-16T11:03:12.722+02:00  2016-10-16T11:08:09.438+02:00   \n",
       "5   2016-10-16T00:21:04.592-04:00  2016-10-16T00:25:13.417-04:00   \n",
       "6   2016-10-16T17:42:59.463+09:00  2016-10-16T17:46:37.396+09:00   \n",
       "7   2016-10-16T13:38:49.599+02:00  2016-10-16T13:39:22.476+02:00   \n",
       "8   2016-10-16T03:32:16.784+02:00  2016-10-16T03:36:07.264+02:00   \n",
       "9   2016-10-16T17:06:48.356+05:00  2016-10-16T17:07:24.935+05:00   \n",
       "10  2016-10-16T19:57:37.627+08:00  2016-10-16T19:58:50.927+08:00   \n",
       "11  2016-10-16T17:11:58.844+09:00  2016-10-16T17:16:40.925+09:00   \n",
       "12  2016-10-16T13:13:38.607+02:00  2016-10-16T13:16:54.035+02:00   \n",
       "13  2016-10-16T12:48:07.620+02:00  2016-10-16T12:50:11.428+02:00   \n",
       "14  2016-10-16T15:30:18.125+03:00  2016-10-16T15:31:45.552+03:00   \n",
       "15  2016-10-16T03:56:17.834-05:00  2016-10-16T03:57:46.163-05:00   \n",
       "16  2016-10-16T14:39:49.346+02:00  2016-10-16T15:11:29.085+02:00   \n",
       "17  2016-10-16T21:21:14.266+08:00  2016-10-16T21:24:57.086+08:00   \n",
       "18  2016-10-16T19:50:04.478+13:00  2016-10-16T19:53:17.532+13:00   \n",
       "19  2016-10-16T06:38:50.629+01:00  2016-10-16T06:41:39.997+01:00   \n",
       "20  2016-10-16T09:53:42.231+02:00  2016-10-16T09:58:06.519+02:00   \n",
       "21  2016-10-16T14:08:23.963+02:00  2016-10-16T14:12:31.805+02:00   \n",
       "22  2016-10-16T18:23:17.040+08:00  2016-10-16T18:27:07.205+08:00   \n",
       "23  2016-10-15T23:29:24.618+05:30  2016-10-15T23:31:23.810+05:30   \n",
       "24  2016-10-16T15:49:31.889+03:00  2016-10-16T15:52:36.352+03:00   \n",
       "25  2016-10-16T05:45:37.180+02:00  2016-10-16T05:49:07.630+02:00   \n",
       "26  2016-10-06T15:00:12.222+01:00  2016-10-06T15:03:30.692+01:00   \n",
       "27  2016-10-03T13:42:53.705+09:00  2016-10-03T13:47:27.232+09:00   \n",
       "28  2016-10-16T11:49:50.392-03:00  2016-10-16T11:54:29.826-03:00   \n",
       "29  2016-10-16T13:32:43.868+02:00  2016-10-16T13:36:42.184+02:00   \n",
       "\n",
       "                                        tracks_artist  \\\n",
       "0                                           <unknown>   \n",
       "1                                        ROMAIN VIRGO   \n",
       "2                                            Ma muzik   \n",
       "3                                           <unknown>   \n",
       "4                                           <unknown>   \n",
       "5   Cali y El Dandee Ft. Juan Magan y Sebastian Yatra   \n",
       "6                                              Sum 41   \n",
       "7                                          A$AP Rocky   \n",
       "8                            Panet.co.il_Rabih-Baroud   \n",
       "9                                           <unknown>   \n",
       "10                                          <unknown>   \n",
       "11                                         サザンオールスターズ   \n",
       "12                                              Nause   \n",
       "13                                The Everly Brothers   \n",
       "14                                           Galantis   \n",
       "15                                   Carnal Diafragma   \n",
       "16                                          <unknown>   \n",
       "17                                          <unknown>   \n",
       "18                                       Molly Sanden   \n",
       "19                                          <unknown>   \n",
       "20                                             Accept   \n",
       "21                                        Mark Ronson   \n",
       "22                                          <unknown>   \n",
       "23                                          <unknown>   \n",
       "24                                          <unknown>   \n",
       "25            12. Dankbarkeit Palmen Aus Plastik 2016   \n",
       "26                                          Ballyhoo!   \n",
       "27                                           チャン・グンソク   \n",
       "28                                        Wlad Borges   \n",
       "29                                     Ellie Goulding   \n",
       "\n",
       "                                         tracks_album  \\\n",
       "0                                                 mp3   \n",
       "1   CORNER SHOP RIDDIM [FULL PROMO] - 21ST HAPILOS...   \n",
       "2                                               Music   \n",
       "3                                               audio   \n",
       "4                                               Music   \n",
       "5                               www.planetaexitos.com   \n",
       "6   The Best of Sum 41: 8 Years of Blood, Sake and...   \n",
       "7                                   AT.LONG.LAST.A$AP   \n",
       "8                                     www.panet.co.il   \n",
       "9                                            Download   \n",
       "10  English Now! Listening and Speaking in Everyda...   \n",
       "11                                           海のYeah!!   \n",
       "12                     Dynamite (feat. Pretty Sister)   \n",
       "13               The Very Best of The Everly Brothers   \n",
       "14                                         Zaycev.Net   \n",
       "15                           Space Symphony Around Us   \n",
       "16                                           Download   \n",
       "17                                                SIA   \n",
       "18                                              Music   \n",
       "19                                After All This Time   \n",
       "20                                   Russian Roulette   \n",
       "21                            UK TOP 40 Singles Chart   \n",
       "22                                                mp3   \n",
       "23                                             audios   \n",
       "24                                             audios   \n",
       "25                                     WhatsApp Audio   \n",
       "26                                          Daydreams   \n",
       "27                                         Nature Boy   \n",
       "28                                     WhatsApp Audio   \n",
       "29                                          bluetooth   \n",
       "\n",
       "                                     tracks_title  \\\n",
       "0                   Maroon 5 - Maps (Lyric Video)   \n",
       "1                                   BEAT YOU DOWN   \n",
       "2             Claudio Ismael - A tua escolha 2013   \n",
       "3                 DaizyStripper ー Brilliant Days．   \n",
       "4     Kizomba - Philipe Monteiro - Alta Segurança   \n",
       "5                             Por Fin Te Encontré   \n",
       "6                                     Handle This   \n",
       "7              Lord Pretty Flacko Jodye 2 (LPFJ2)   \n",
       "8                                           Taibo   \n",
       "9                               TairoJ'étais prêt   \n",
       "10                                            045   \n",
       "11                                          真夏の果実   \n",
       "12                 Dynamite (feat. Pretty Sister)   \n",
       "13                           Wake Up Little Susie   \n",
       "14                          No Money (zaycev.net)   \n",
       "15                                 01 Teletrambus   \n",
       "16           The Chainsmokers - Closer ft. Halsey   \n",
       "17  Flo Rida - Wild Ones ft. Sia [Official Video]   \n",
       "18                                        Phoenix   \n",
       "19                    02 Someone Had To Teach You   \n",
       "20                                    Aiming High   \n",
       "21                 Uptown Funk! (Feat.Bruno Mars)   \n",
       "22             BIGBANG - 뱅뱅뱅 (BANG BANG BANG) M-V   \n",
       "23     Calvin Harris - Outside ft. Ellie Goulding   \n",
       "24                                 Karakız (2013)   \n",
       "25                            AUD-20161014-WA0380   \n",
       "26                                    Bootleggers   \n",
       "27                                    Love Letter   \n",
       "28                             Toda Vez Que Chove   \n",
       "29                                           Burn   \n",
       "\n",
       "                                     tracks_uri tracks_player  \\\n",
       "0    content://media/external/audio/media/87943       Walkman   \n",
       "1    content://media/external/audio/media/18753       Walkman   \n",
       "2     content://media/external/audio/media/2549       Walkman   \n",
       "3     content://media/external/audio/media/4816       Walkman   \n",
       "4      content://media/external/audio/media/220       Walkman   \n",
       "5    content://media/external/audio/media/73063       Walkman   \n",
       "6     content://media/external/audio/media/8402       Walkman   \n",
       "7                                                     Spotify   \n",
       "8   content://media/external/audio/media/338585       Walkman   \n",
       "9    content://media/external/audio/media/27003       Walkman   \n",
       "10  content://media/external/audio/media/144653       Walkman   \n",
       "11    content://media/external/audio/media/4999       Walkman   \n",
       "12                                                    Spotify   \n",
       "13                                                    Spotify   \n",
       "14   content://media/external/audio/media/32494       Walkman   \n",
       "15    content://media/external/audio/media/9454       Walkman   \n",
       "16   content://media/external/audio/media/91025       Walkman   \n",
       "17   content://media/external/audio/media/48620       Walkman   \n",
       "18  content://media/external/audio/media/206438       Walkman   \n",
       "19   content://media/external/audio/media/70024       Walkman   \n",
       "20  content://media/external/audio/media/111497       Walkman   \n",
       "21   content://media/external/audio/media/42349       Walkman   \n",
       "22  content://media/external/audio/media/156773       Walkman   \n",
       "23  content://media/external/audio/media/237710       Walkman   \n",
       "24   content://media/external/audio/media/56205       Walkman   \n",
       "25  content://media/external/audio/media/287970       Walkman   \n",
       "26                                                    Spotify   \n",
       "27   content://media/external/audio/media/37937       Walkman   \n",
       "28  content://media/external/audio/media/203343       Walkman   \n",
       "29    content://media/external/audio/media/6229       Walkman   \n",
       "\n",
       "                               tracks_id  yearmonth  \n",
       "0                                            201610  \n",
       "1                                            201610  \n",
       "2                                            201610  \n",
       "3                                            201610  \n",
       "4                                            201610  \n",
       "5                                            201610  \n",
       "6                                            201610  \n",
       "7   spotify:track:1j6kDJttn6wbVyMaM42Nxm     201610  \n",
       "8                                            201610  \n",
       "9                                            201610  \n",
       "10                                           201610  \n",
       "11                                           201610  \n",
       "12  spotify:track:2Ae5awwKvQpTBKQHr1TYCg     201610  \n",
       "13  spotify:track:11fNLqDB47gMKj7BHhR2Qr     201610  \n",
       "14                                           201610  \n",
       "15                                           201610  \n",
       "16                                           201610  \n",
       "17                                           201610  \n",
       "18                                           201610  \n",
       "19                                           201610  \n",
       "20                                           201610  \n",
       "21                                           201610  \n",
       "22                                           201610  \n",
       "23                                           201610  \n",
       "24                                           201610  \n",
       "25                                           201610  \n",
       "26  spotify:track:2aCycHQTvCUaWIGtNT1M0x     201610  \n",
       "27                                           201610  \n",
       "28                                           201610  \n",
       "29                                           201610  "
      ]
     },
     "execution_count": 13,
     "metadata": {},
     "output_type": "execute_result"
    }
   ],
   "source": [
    "df_sample_pd.head(30)"
   ]
  },
  {
   "cell_type": "markdown",
   "metadata": {},
   "source": [
    "### Number of rows"
   ]
  },
  {
   "cell_type": "markdown",
   "metadata": {},
   "source": [
    "Raw Database:"
   ]
  },
  {
   "cell_type": "code",
   "execution_count": 14,
   "metadata": {
    "deletable": false,
    "editable": false,
    "run_control": {
     "frozen": true
    }
   },
   "outputs": [
    {
     "name": "stdout",
     "output_type": "stream",
     "text": [
      "Number of rows in the raw database: 627101296\n"
     ]
    }
   ],
   "source": [
    "number_of_rows_raw = df_raw.count()\n",
    "print(f'Number of rows in the raw database: {number_of_rows_raw}')"
   ]
  },
  {
   "cell_type": "markdown",
   "metadata": {},
   "source": [
    "Full Database:"
   ]
  },
  {
   "cell_type": "code",
   "execution_count": 15,
   "metadata": {
    "deletable": false,
    "editable": false,
    "run_control": {
     "frozen": true
    }
   },
   "outputs": [
    {
     "name": "stdout",
     "output_type": "stream",
     "text": [
      "Number of rows in the full database: 3571278161\n"
     ]
    }
   ],
   "source": [
    "number_of_rows_full = df_full.count()\n",
    "print(f'Number of rows in the full database: {number_of_rows_full}')"
   ]
  },
  {
   "cell_type": "code",
   "execution_count": 14,
   "metadata": {},
   "outputs": [],
   "source": [
    "# For execution of the notebook without counting\n",
    "number_of_rows_raw = 627101296\n",
    "number_of_rows_full = 3571278161"
   ]
  },
  {
   "cell_type": "markdown",
   "metadata": {},
   "source": [
    "### Activity ID"
   ]
  },
  {
   "cell_type": "markdown",
   "metadata": {},
   "source": [
    "Detecting nonempty cells:"
   ]
  },
  {
   "cell_type": "code",
   "execution_count": 17,
   "metadata": {
    "deletable": false,
    "editable": false,
    "run_control": {
     "frozen": true
    },
    "scrolled": true
   },
   "outputs": [
    {
     "name": "stdout",
     "output_type": "stream",
     "text": [
      "Number of empty id cells: 0.\n",
      "Execution time: 338.16046 s.\n"
     ]
    }
   ],
   "source": [
    "start_time = time.time()\n",
    "\n",
    "n_empty_id_cells = (\n",
    "    df_raw\n",
    "    .where(\n",
    "        (f.col('id').isNull())\n",
    "        | (f.col('id') == '')\n",
    "        | (f.col('id') == '<unknown>')\n",
    "    )\n",
    "    .count()\n",
    ")\n",
    "\n",
    "print(f'Number of empty \"id\" cells: {n_empty_id_cells}.')\n",
    "print(f'Execution time: {time.time() - start_time:.5f} s.')"
   ]
  },
  {
   "cell_type": "markdown",
   "metadata": {},
   "source": [
    "Detecting duplicates:"
   ]
  },
  {
   "cell_type": "code",
   "execution_count": 19,
   "metadata": {
    "deletable": false,
    "editable": false,
    "run_control": {
     "frozen": true
    },
    "scrolled": true
   },
   "outputs": [
    {
     "name": "stdout",
     "output_type": "stream",
     "text": [
      "+--------------------+-----+\n",
      "|                  id|count|\n",
      "+--------------------+-----+\n",
      "|8c71293b-fe42-432...|  410|\n",
      "|ff29d186-0614-42d...|  386|\n",
      "|934c3a82-a73c-4ec...|  314|\n",
      "|a2ca4895-8074-426...|  301|\n",
      "|ae2fedfb-ef75-4ec...|  283|\n",
      "+--------------------+-----+\n",
      "only showing top 5 rows\n",
      "\n",
      "Execution time: 585.76851 s.\n"
     ]
    }
   ],
   "source": [
    "start_time = time.time()\n",
    "\n",
    "(df_raw\n",
    " .groupBy(f.col('id'))\n",
    " .count()\n",
    " .orderBy(f.desc('count'))                    \n",
    " .show(5)\n",
    ")\n",
    "\n",
    "print(f'Execution time: {time.time() - start_time:.5f} s.')"
   ]
  },
  {
   "cell_type": "markdown",
   "metadata": {},
   "source": [
    "Number of duplicate activity ID's:"
   ]
  },
  {
   "cell_type": "code",
   "execution_count": 15,
   "metadata": {
    "deletable": false,
    "editable": false,
    "run_control": {
     "frozen": true
    },
    "scrolled": false
   },
   "outputs": [
    {
     "name": "stdout",
     "output_type": "stream",
     "text": [
      "Number of duplicated activity ID's: 46360934.\n",
      "That constitutes 7.39289 % of the total number of cells.\n",
      "Execution time: 580.64515 s.\n"
     ]
    }
   ],
   "source": [
    "start_time = time.time()\n",
    "\n",
    "number_of_duplicate_activity_ids = (\n",
    "    df_raw\n",
    "    .groupBy(f.col('id'))\n",
    "    .count()\n",
    "    .where(f.col('count') > 1)\n",
    "    .count()\n",
    ")\n",
    "\n",
    "print(f\"Number of duplicated activity ID's: {number_of_duplicate_activity_ids}.\")\n",
    "print(f'That constitutes '\n",
    "      f'{number_of_duplicate_activity_ids / number_of_rows_raw * 100:.5f} % '\n",
    "      f'of the total number of cells.')\n",
    "print(f'Execution time: {time.time() - start_time:.5f} s.')"
   ]
  },
  {
   "cell_type": "markdown",
   "metadata": {},
   "source": [
    "### Activity Deleted"
   ]
  },
  {
   "cell_type": "code",
   "execution_count": 16,
   "metadata": {
    "deletable": false,
    "editable": false,
    "run_control": {
     "frozen": true
    },
    "scrolled": true
   },
   "outputs": [
    {
     "name": "stdout",
     "output_type": "stream",
     "text": [
      "Number of non-empty \"deleted_time\" cells: 52764881.\n",
      "That constitutes 8.41409 % of the total number of cells.\n",
      "Execution time: 331.54952 s.\n"
     ]
    }
   ],
   "source": [
    "start_time = time.time()\n",
    "\n",
    "n_nonempty_deleted_time_cells = (\n",
    "    df_raw\n",
    "    .where(\n",
    "        (f.col('deleted_time').isNotNull())\n",
    "        & (f.col('deleted_time') != '')\n",
    "    )\n",
    "    .count()\n",
    ")\n",
    "\n",
    "print(f'Number of non-empty \"deleted_time\" cells: {n_nonempty_deleted_time_cells}.')\n",
    "print(f'That constitutes '\n",
    "      f'{n_nonempty_deleted_time_cells / number_of_rows_raw * 100:.5f} % '\n",
    "      f'of the total number of cells.')\n",
    "print(f'Execution time: {time.time() - start_time:.5f} s.')"
   ]
  },
  {
   "cell_type": "markdown",
   "metadata": {},
   "source": [
    "Around 8.5 % of all the activities have the \"Deleted time\" property set. What to do with them:\n",
    " * Nothing\n",
    " * Delete the column\n",
    " * Delete the rows where the property is set"
   ]
  },
  {
   "cell_type": "markdown",
   "metadata": {},
   "source": [
    "### Device types"
   ]
  },
  {
   "cell_type": "code",
   "execution_count": 17,
   "metadata": {
    "scrolled": true
   },
   "outputs": [
    {
     "name": "stdout",
     "output_type": "stream",
     "text": [
      "+------------+----------+\n",
      "|devices_type|     count|\n",
      "+------------+----------+\n",
      "|       PHONE|3561473696|\n",
      "|        null|   7633807|\n",
      "|     UNKNOWN|   2170658|\n",
      "+------------+----------+\n",
      "\n",
      "Execution time: 953.80290 s.\n"
     ]
    }
   ],
   "source": [
    "start_time = time.time()\n",
    "\n",
    "(df_full\n",
    " .groupBy(f.col('devices_type'))\n",
    " .count()\n",
    " .orderBy(f.desc('count'))                    \n",
    " .show()\n",
    ")\n",
    "\n",
    "print(f'Execution time: {time.time() - start_time:.5f} s.')"
   ]
  },
  {
   "cell_type": "markdown",
   "metadata": {},
   "source": [
    "Almost all the devices are phones. It could be reasonable remove the column."
   ]
  },
  {
   "cell_type": "markdown",
   "metadata": {},
   "source": [
    "### Track players"
   ]
  },
  {
   "cell_type": "code",
   "execution_count": 18,
   "metadata": {
    "deletable": false,
    "editable": false,
    "run_control": {
     "frozen": true
    },
    "scrolled": true
   },
   "outputs": [
    {
     "name": "stdout",
     "output_type": "stream",
     "text": [
      "+-------------+----------+\n",
      "|tracks_player|     count|\n",
      "+-------------+----------+\n",
      "|      Walkman|2428561686|\n",
      "|      Spotify| 710807090|\n",
      "|             | 431909382|\n",
      "|        Music|         3|\n",
      "+-------------+----------+\n",
      "\n",
      "Execution time: 997.08188 s.\n"
     ]
    }
   ],
   "source": [
    "start_time = time.time()\n",
    "\n",
    "(df_full\n",
    " .groupBy(f.col('tracks_player'))\n",
    " .count()\n",
    " .orderBy(f.desc('count'))                    \n",
    " .show()\n",
    ")\n",
    "\n",
    "print(f'Execution time: {time.time() - start_time:.5f} s.')"
   ]
  },
  {
   "cell_type": "markdown",
   "metadata": {},
   "source": [
    "### Track ID vs Track URI"
   ]
  },
  {
   "cell_type": "code",
   "execution_count": null,
   "metadata": {},
   "outputs": [],
   "source": [
    "start_time = time.time()\n",
    "\n",
    "n_track_id_and_uri_nonempty = (\n",
    "    df_full\n",
    "    .where(\n",
    "        (f.col('tracks_uri') != '')\n",
    "        & (f.col('tracks_uri').isNotNull())\n",
    "        & (f.col('tracks_id') != '')     \n",
    "        & (f.col('tracks_id').isNotNull())\n",
    "    )\n",
    "    .count()\n",
    ")\n",
    "\n",
    "print(f'Number of rows where both \"tracks_id\" and '\n",
    "      f'\"tracks_uri\" are full: {n_track_id_and_uri_nonempty}.')\n",
    "print(f'Execution time: {time.time() - start_time:.5f} s.')"
   ]
  },
  {
   "cell_type": "markdown",
   "metadata": {},
   "source": [
    "The Track ID and Track URI are never full at the same time. Therefore, the columns could be merged into one column.\n",
    "\n",
    "Also, the information might be redundant. \n",
    "\n",
    "We could also split the dataset into a couple of databases. Does it make sense? Maybe not.\n",
    " "
   ]
  }
 ],
 "metadata": {
  "kernelspec": {
   "display_name": "Python 3",
   "language": "python",
   "name": "python3"
  },
  "language_info": {
   "codemirror_mode": {
    "name": "ipython",
    "version": 3
   },
   "file_extension": ".py",
   "mimetype": "text/x-python",
   "name": "python",
   "nbconvert_exporter": "python",
   "pygments_lexer": "ipython3",
   "version": "3.8.5"
  },
  "varInspector": {
   "cols": {
    "lenName": 16,
    "lenType": 16,
    "lenVar": 40
   },
   "kernels_config": {
    "python": {
     "delete_cmd_postfix": "",
     "delete_cmd_prefix": "del ",
     "library": "var_list.py",
     "varRefreshCmd": "print(var_dic_list())"
    },
    "r": {
     "delete_cmd_postfix": ") ",
     "delete_cmd_prefix": "rm(",
     "library": "var_list.r",
     "varRefreshCmd": "cat(var_dic_list()) "
    }
   },
   "types_to_exclude": [
    "module",
    "function",
    "builtin_function_or_method",
    "instance",
    "_Feature"
   ],
   "window_display": false
  }
 },
 "nbformat": 4,
 "nbformat_minor": 1
}