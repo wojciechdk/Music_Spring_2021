{
 "cells": [
  {
   "cell_type": "markdown",
   "metadata": {},
   "source": [
    "<hr style=\"border:2px solid black\"></hr>\n",
    "\n",
    "# Initialization"
   ]
  },
  {
   "cell_type": "code",
   "execution_count": 2,
   "metadata": {
    "pycharm": {
     "is_executing": true,
     "name": "#%%\n"
    }
   },
   "outputs": [
    {
     "name": "stdout",
     "output_type": "stream",
     "text": [
      "Creating a Spark session.\n",
      "\tExecution time: 68.82851 s.\n",
      "Getting the data paths.\n",
      "\tNumber of folders: 62\n",
      "\tNumber of files: 275621\n",
      "Loading data from path: \"/data/work/src/musicactivity\".\n",
      "\tExecution time: 8.36702 s.\n",
      "Loading data from path: \"/data/work/shared/s001284/Music_Project/resources/data/df_sample_raw_1E6.parquet\".\n",
      "\tExecution time: 1.47982 s.\n"
     ]
    }
   ],
   "source": [
    "from toolbox.initialize import *"
   ]
  },
  {
   "cell_type": "markdown",
   "metadata": {},
   "source": [
    "<hr style=\"border:2px solid black\"></hr>\n",
    "\n",
    "# Cleaning"
   ]
  },
  {
   "cell_type": "markdown",
   "metadata": {},
   "source": [
    "### Choose dataframe"
   ]
  },
  {
   "cell_type": "code",
   "execution_count": 3,
   "metadata": {},
   "outputs": [],
   "source": [
    "df = df_raw"
   ]
  },
  {
   "cell_type": "markdown",
   "metadata": {},
   "source": [
    "### Removing rows where activity has been deleted"
   ]
  },
  {
   "cell_type": "code",
   "execution_count": 4,
   "metadata": {},
   "outputs": [
    {
     "name": "stdout",
     "output_type": "stream",
     "text": [
      "Execution time: 0.17754 s.\n"
     ]
    },
    {
     "data": {
      "text/html": [
       "<div>\n",
       "<style scoped>\n",
       "    .dataframe tbody tr th:only-of-type {\n",
       "        vertical-align: middle;\n",
       "    }\n",
       "\n",
       "    .dataframe tbody tr th {\n",
       "        vertical-align: top;\n",
       "    }\n",
       "\n",
       "    .dataframe thead th {\n",
       "        text-align: right;\n",
       "    }\n",
       "</style>\n",
       "<table border=\"1\" class=\"dataframe\">\n",
       "  <thead>\n",
       "    <tr style=\"text-align: right;\">\n",
       "      <th></th>\n",
       "      <th>id</th>\n",
       "      <th>deleted_time</th>\n",
       "      <th>useruuid</th>\n",
       "      <th>start_time</th>\n",
       "      <th>end_time</th>\n",
       "      <th>devices</th>\n",
       "      <th>tracks</th>\n",
       "      <th>yearmonth</th>\n",
       "    </tr>\n",
       "  </thead>\n",
       "  <tbody>\n",
       "    <tr>\n",
       "      <th>0</th>\n",
       "      <td>4302e6a4-d970-404f-a7a8-4297164d6aa6-2016-10-16</td>\n",
       "      <td></td>\n",
       "      <td>92e17ec9-982c-4e02-8ce4-76b19728ddf7</td>\n",
       "      <td>2016-10-16T18:31:56.512+08:00</td>\n",
       "      <td>2016-10-16T18:52:01.608+08:00</td>\n",
       "      <td>[(E6853, PHONE, e6211e25cf8fd7bc)]</td>\n",
       "      <td>[(2016-10-16T18:31:56.512+08:00, 2016-10-16T18...</td>\n",
       "      <td>201610</td>\n",
       "    </tr>\n",
       "    <tr>\n",
       "      <th>1</th>\n",
       "      <td>a6a7c511-239d-4533-b6ae-4f71b1bb6905-2016-10-15</td>\n",
       "      <td></td>\n",
       "      <td>c705ee6e-703a-41f8-ba0f-0e2b5ef9f4bd</td>\n",
       "      <td>2016-10-15T12:59:27.351+03:30</td>\n",
       "      <td>2016-10-15T13:01:44.724+03:30</td>\n",
       "      <td>[(D6502, PHONE, 2588c3f87d096e10)]</td>\n",
       "      <td>[(2016-10-15T12:59:27.351+03:30, 2016-10-15T13...</td>\n",
       "      <td>201610</td>\n",
       "    </tr>\n",
       "    <tr>\n",
       "      <th>2</th>\n",
       "      <td>cc44fd9c-1333-4f24-b7d6-ed2ffb87a887-2016-10-15</td>\n",
       "      <td></td>\n",
       "      <td>c705ee6e-703a-41f8-ba0f-0e2b5ef9f4bd</td>\n",
       "      <td>2016-10-15T08:25:21.252+03:30</td>\n",
       "      <td>2016-10-15T08:48:43.198+03:30</td>\n",
       "      <td>[(D6502, PHONE, 2588c3f87d096e10)]</td>\n",
       "      <td>[(2016-10-15T08:25:21.252+03:30, 2016-10-15T08...</td>\n",
       "      <td>201610</td>\n",
       "    </tr>\n",
       "    <tr>\n",
       "      <th>3</th>\n",
       "      <td>e111dd7e-ae55-4609-9b28-f527dfffd541-2016-10-15</td>\n",
       "      <td></td>\n",
       "      <td>c705ee6e-703a-41f8-ba0f-0e2b5ef9f4bd</td>\n",
       "      <td>2016-10-15T12:49:41.355+03:30</td>\n",
       "      <td>2016-10-15T12:57:41.425+03:30</td>\n",
       "      <td>[(D6502, PHONE, 2588c3f87d096e10)]</td>\n",
       "      <td>[(2016-10-15T12:49:41.355+03:30, 2016-10-15T12...</td>\n",
       "      <td>201610</td>\n",
       "    </tr>\n",
       "    <tr>\n",
       "      <th>4</th>\n",
       "      <td>ce6f2718-f761-41e4-8ad2-f1fb5162f2a3-2016-10-15</td>\n",
       "      <td></td>\n",
       "      <td>c705ee6e-703a-41f8-ba0f-0e2b5ef9f4bd</td>\n",
       "      <td>2016-10-15T11:00:05.654+03:30</td>\n",
       "      <td>2016-10-15T11:01:12.511+03:30</td>\n",
       "      <td>[(D6502, PHONE, 2588c3f87d096e10)]</td>\n",
       "      <td>[(2016-10-15T11:00:05.654+03:30, 2016-10-15T11...</td>\n",
       "      <td>201610</td>\n",
       "    </tr>\n",
       "  </tbody>\n",
       "</table>\n",
       "</div>"
      ],
      "text/plain": [
       "                                                id deleted_time  \\\n",
       "0  4302e6a4-d970-404f-a7a8-4297164d6aa6-2016-10-16                \n",
       "1  a6a7c511-239d-4533-b6ae-4f71b1bb6905-2016-10-15                \n",
       "2  cc44fd9c-1333-4f24-b7d6-ed2ffb87a887-2016-10-15                \n",
       "3  e111dd7e-ae55-4609-9b28-f527dfffd541-2016-10-15                \n",
       "4  ce6f2718-f761-41e4-8ad2-f1fb5162f2a3-2016-10-15                \n",
       "\n",
       "                               useruuid                     start_time  \\\n",
       "0  92e17ec9-982c-4e02-8ce4-76b19728ddf7  2016-10-16T18:31:56.512+08:00   \n",
       "1  c705ee6e-703a-41f8-ba0f-0e2b5ef9f4bd  2016-10-15T12:59:27.351+03:30   \n",
       "2  c705ee6e-703a-41f8-ba0f-0e2b5ef9f4bd  2016-10-15T08:25:21.252+03:30   \n",
       "3  c705ee6e-703a-41f8-ba0f-0e2b5ef9f4bd  2016-10-15T12:49:41.355+03:30   \n",
       "4  c705ee6e-703a-41f8-ba0f-0e2b5ef9f4bd  2016-10-15T11:00:05.654+03:30   \n",
       "\n",
       "                        end_time                             devices  \\\n",
       "0  2016-10-16T18:52:01.608+08:00  [(E6853, PHONE, e6211e25cf8fd7bc)]   \n",
       "1  2016-10-15T13:01:44.724+03:30  [(D6502, PHONE, 2588c3f87d096e10)]   \n",
       "2  2016-10-15T08:48:43.198+03:30  [(D6502, PHONE, 2588c3f87d096e10)]   \n",
       "3  2016-10-15T12:57:41.425+03:30  [(D6502, PHONE, 2588c3f87d096e10)]   \n",
       "4  2016-10-15T11:01:12.511+03:30  [(D6502, PHONE, 2588c3f87d096e10)]   \n",
       "\n",
       "                                              tracks  yearmonth  \n",
       "0  [(2016-10-16T18:31:56.512+08:00, 2016-10-16T18...     201610  \n",
       "1  [(2016-10-15T12:59:27.351+03:30, 2016-10-15T13...     201610  \n",
       "2  [(2016-10-15T08:25:21.252+03:30, 2016-10-15T08...     201610  \n",
       "3  [(2016-10-15T12:49:41.355+03:30, 2016-10-15T12...     201610  \n",
       "4  [(2016-10-15T11:00:05.654+03:30, 2016-10-15T11...     201610  "
      ]
     },
     "execution_count": 4,
     "metadata": {},
     "output_type": "execute_result"
    }
   ],
   "source": [
    "# Save the start time for timing.\n",
    "start_time = time.time()\n",
    "\n",
    "df_clean = (\n",
    "    df\n",
    "    .where(f.col('deleted_time').isNull()\n",
    "           | (f.col('deleted_time') == ''))\n",
    ")\n",
    "\n",
    "# Show the execution time.\n",
    "print(f'Execution time: {time.time() - start_time:.5f} s.')\n",
    "\n",
    "# Show the top rows of the resulting database.\n",
    "df_clean.limit(100).toPandas().head(5)"
   ]
  },
  {
   "cell_type": "markdown",
   "metadata": {},
   "source": [
    "### Dropping duplicates of activity id (keeping the most recent)"
   ]
  },
  {
   "cell_type": "code",
   "execution_count": null,
   "metadata": {
    "pycharm": {
     "name": "#%%\n"
    }
   },
   "outputs": [
    {
     "name": "stdout",
     "output_type": "stream",
     "text": [
      "Execution time: 0.11901 s.\n"
     ]
    }
   ],
   "source": [
    "# Save the start time for timing\n",
    "start_time = time.time()\n",
    "\n",
    "# Define the time format used for the time stamp - strings in the\n",
    "# raw database.\n",
    "time_format = \"yyyy-MM-dd'T'HH:mm:ss.SSSXXX\"\n",
    "\n",
    "# Define a partitioning by activity id.\n",
    "window_id = Window.partitionBy('id')\n",
    "\n",
    "# Drop rows containing the duplicates of the activity ID.\n",
    "# Keep the activity ID with the latest timestamp-\n",
    "df_clean = (\n",
    "    df_clean\n",
    "    \n",
    "    # Convert the start time to timestamp.\n",
    "    .withColumn('start_time',\n",
    "                f.to_timestamp('start_time', time_format)) \n",
    "    \n",
    "    # Save the latest start time for each activity ID in a separate column.\n",
    "    .withColumn('latest_start_time', f.max('start_time').over(window_id))\n",
    "    \n",
    "    # Keep only rows with the latest start time for the given activity ID.\n",
    "    .where(f.col('start_time') == f.col('latest_start_time'))\n",
    "        \n",
    "    # Keep only the first occurrence of each activity ID.\n",
    "    .dropDuplicates(['id'])\n",
    "    \n",
    "    # Delete the column containing the lates start time.\n",
    "    .drop('latest_start_time')\n",
    ")\n",
    "\n",
    "print(f'Execution time: {time.time() - start_time:.5f} s.')\n",
    "\n",
    "df_clean.limit(100).toPandas().head()"
   ]
  },
  {
   "cell_type": "markdown",
   "metadata": {},
   "source": [
    "### Exploding the columns `devices` and `tracks` and flattening the schema"
   ]
  },
  {
   "cell_type": "code",
   "execution_count": null,
   "metadata": {
    "scrolled": true
   },
   "outputs": [],
   "source": [
    "# Explore the column devices and tracks\n",
    "# and flatten the schema\n",
    "df_clean = t.format_dataframe(df_clean)\n",
    "\n",
    "# Show the top rows of the resulting dataframe\n",
    "df_clean.limit(100).toPandas().head(5)"
   ]
  },
  {
   "cell_type": "markdown",
   "metadata": {},
   "source": [
    "### Replacing start and end time with start time and duration"
   ]
  },
  {
   "cell_type": "code",
   "execution_count": null,
   "metadata": {
    "pycharm": {
     "name": "#%%\n"
    },
    "scrolled": false
   },
   "outputs": [],
   "source": [
    "# Save the start time for timing\n",
    "start_time = time.time()\n",
    "\n",
    "# Define the time format used for the time stamp - strings in the\n",
    "# raw database.\n",
    "time_format = \"yyyy-MM-dd'T'HH:mm:ss.SSSXXX\"\n",
    "\n",
    "df_clean = (\n",
    "    df_clean\n",
    "#     .withColumn('start_time',\n",
    "#                 f.to_timestamp('start_time', time_format))\n",
    "    .withColumn('end_time',\n",
    "                f.to_timestamp('end_time', time_format))\n",
    "    .withColumn('activity_duration',\n",
    "                f.col('end_time').cast(LongType()) \n",
    "                - f.col('start_time').cast(LongType()))   \n",
    "    .withColumn('tracks_start_time',\n",
    "                f.to_timestamp('tracks_start_time', time_format))\n",
    "    .withColumn('tracks_end_time',\n",
    "                f.to_timestamp('tracks_end_time', time_format))\n",
    "    .withColumn('track_duration',\n",
    "                f.col('tracks_end_time').cast(LongType()) \n",
    "                - f.col('tracks_start_time').cast(LongType()))\n",
    "    .drop('end_time')\n",
    "    .drop('tracks_end_time')\n",
    ")\n",
    "\n",
    "# Print the execution time\n",
    "print(f'Execution time: {time.time() - start_time:.5f} s.')\n",
    "\n",
    "# Show the resulting dataframe\n",
    "df_clean.limit(100).toPandas().head(5)"
   ]
  },
  {
   "cell_type": "markdown",
   "metadata": {},
   "source": [
    "### Merging Track ID and Track URI"
   ]
  },
  {
   "cell_type": "markdown",
   "metadata": {},
   "source": [
    "I can't decide whether it's a good idea or not. `tracks_id` seems to be a path to a file in the Sony system, which I can't see give any useful information, maybe aside of comparing the track properties of multiple rows with the same track id to look for inconsitencies. I will be dropping the merge for now."
   ]
  },
  {
   "cell_type": "code",
   "execution_count": null,
   "metadata": {
    "pycharm": {
     "name": "#%%\n"
    }
   },
   "outputs": [],
   "source": [
    "# df_clean = (\n",
    "#     df_clean\n",
    "#     .withColumn('track_id',\n",
    "#                 f.concat(f.col('tracks_id'), \n",
    "#                          f.col('tracks_uri')))\n",
    "#     .drop('tracks_id')\n",
    "#     .drop('tracks_uri')\n",
    "# )\n",
    "\n",
    "# df_clean.limit(3).toPandas().head()"
   ]
  },
  {
   "cell_type": "markdown",
   "metadata": {},
   "source": [
    "### Drop redundand columns"
   ]
  },
  {
   "cell_type": "markdown",
   "metadata": {},
   "source": [
    "Let's remove the columns:\n",
    "\n",
    "* `deleted_time`\n",
    "* `devices_type`\n",
    "* `yearmonth`"
   ]
  },
  {
   "cell_type": "code",
   "execution_count": null,
   "metadata": {
    "pycharm": {
     "name": "#%%\n"
    },
    "scrolled": true
   },
   "outputs": [],
   "source": [
    "df_clean = (\n",
    "    df_clean\n",
    "    .drop('deleted_time')\n",
    "    .drop('devices_type')\n",
    "    .drop('yearmonth')\n",
    ")\n",
    "\n",
    "df_clean.limit(100).toPandas().head(3)"
   ]
  },
  {
   "cell_type": "markdown",
   "metadata": {},
   "source": [
    "### Rename and organize columns"
   ]
  },
  {
   "cell_type": "code",
   "execution_count": null,
   "metadata": {
    "pycharm": {
     "name": "#%%\n"
    },
    "scrolled": true
   },
   "outputs": [],
   "source": [
    "start_time = time.time()\n",
    "\n",
    "df_clean = (\n",
    "    df_clean\n",
    "    \n",
    "    # Give columns meaningful names.\n",
    "    .withColumnRenamed('id', 'activity_id')\n",
    "    .withColumnRenamed('useruuid', 'user_id')\n",
    "    .withColumnRenamed('start_time', 'activity_start_time')\n",
    "    .withColumnRenamed('devices_name', 'device_name')\n",
    "    .withColumnRenamed('devices_id', 'device_id')\n",
    "    .withColumnRenamed('tracks_start_time', 'track_start_time')\n",
    "    .withColumnRenamed('tracks_artist', 'track_artist')\n",
    "    .withColumnRenamed('tracks_album', 'track_album')\n",
    "    .withColumnRenamed('tracks_title', 'track_title')\n",
    "    .withColumnRenamed('tracks_player', 'track_player')\n",
    "    .withColumnRenamed('tracks_id', 'track_id')\n",
    "    .withColumnRenamed('tracks_uri', 'track_uri')\n",
    "    \n",
    "    # Place the columns belonging to the same group next to each other.\n",
    "    .select('user_id',\n",
    "            'activity_id', 'activity_start_time', 'activity_duration',\n",
    "            'device_id', 'device_name',\n",
    "            'track_artist', 'track_title', 'track_album',\n",
    "            'track_player', 'track_start_time', 'track_duration',\n",
    "            'track_id', 'track_uri')\n",
    "    \n",
    "    # Sort the data.\n",
    "    .orderBy(f.asc('user_id'),\n",
    "             f.asc('activity_start_time'))\n",
    ")\n",
    "\n",
    "# Print the execution time.\n",
    "print(f'Execution time: {time.time() - start_time:.5f} s.')\n",
    "\n",
    "# Display the top rows of the resulting table.\n",
    "df_clean.limit(100).toPandas().head(5)"
   ]
  },
  {
   "cell_type": "markdown",
   "metadata": {
    "deletable": false,
    "editable": false,
    "run_control": {
     "frozen": true
    }
   },
   "source": [
    "<hr style=\"border:2px solid black\"></hr>\n",
    "\n",
    "# Save the dataframe"
   ]
  },
  {
   "cell_type": "code",
   "execution_count": null,
   "metadata": {},
   "outputs": [],
   "source": [
    "t.spark.save_dataframe_to_parquet(\n",
    "    df_clean, Config.Path.project_data_root / 'df_1E6_clean.parquet')"
   ]
  }
 ],
 "metadata": {
  "kernelspec": {
   "display_name": "Python 3",
   "language": "python",
   "name": "python3"
  },
  "language_info": {
   "codemirror_mode": {
    "name": "ipython",
    "version": 3
   },
   "file_extension": ".py",
   "mimetype": "text/x-python",
   "name": "python",
   "nbconvert_exporter": "python",
   "pygments_lexer": "ipython3",
   "version": "3.8.5"
  },
  "toc": {
   "base_numbering": 1,
   "nav_menu": {},
   "number_sections": true,
   "sideBar": true,
   "skip_h1_title": false,
   "title_cell": "Table of Contents",
   "title_sidebar": "Contents",
   "toc_cell": false,
   "toc_position": {
    "height": "calc(100% - 180px)",
    "left": "10px",
    "top": "150px",
    "width": "384px"
   },
   "toc_section_display": true,
   "toc_window_display": true
  },
  "varInspector": {
   "cols": {
    "lenName": 16,
    "lenType": 16,
    "lenVar": 40
   },
   "kernels_config": {
    "python": {
     "delete_cmd_postfix": "",
     "delete_cmd_prefix": "del ",
     "library": "var_list.py",
     "varRefreshCmd": "print(var_dic_list())"
    },
    "r": {
     "delete_cmd_postfix": ") ",
     "delete_cmd_prefix": "rm(",
     "library": "var_list.r",
     "varRefreshCmd": "cat(var_dic_list()) "
    }
   },
   "position": {
    "height": "344.85px",
    "left": "1553px",
    "right": "20px",
    "top": "120px",
    "width": "347px"
   },
   "types_to_exclude": [
    "module",
    "function",
    "builtin_function_or_method",
    "instance",
    "_Feature"
   ],
   "window_display": false
  }
 },
 "nbformat": 4,
 "nbformat_minor": 1
}
