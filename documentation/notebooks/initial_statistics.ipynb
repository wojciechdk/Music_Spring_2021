{
 "cells": [
  {
   "cell_type": "markdown",
   "metadata": {},
   "source": [
    "<hr style=\"border:2px solid black\"></hr>\n",
    "\n",
    "# Initialization"
   ]
  },
  {
   "cell_type": "code",
   "execution_count": 2,
   "metadata": {
    "pycharm": {
     "is_executing": true,
     "name": "#%%\n"
    }
   },
   "outputs": [
    {
     "name": "stdout",
     "output_type": "stream",
     "text": [
      "The autotime extension is already loaded. To reload it, use:\n",
      "  %reload_ext autotime\n",
      "time: 2.4 ms\n"
     ]
    }
   ],
   "source": [
    "%load_ext autotime\n",
    "%matplotlib inline\n",
    "\n",
    "from toolbox.initialize import *\n",
    "\n",
    "# Set this for faster conversion to pandas\n",
    "spark.conf.set(\"spark.sql.execution.arrow.pyspark.enabled\", \"true\")"
   ]
  },
  {
   "cell_type": "markdown",
   "metadata": {},
   "source": [
    "<hr style=\"border:2px solid black\"></hr>\n",
    "\n",
    "# Load data"
   ]
  },
  {
   "cell_type": "code",
   "execution_count": 4,
   "metadata": {
    "pycharm": {
     "name": "#%%\n"
    },
    "scrolled": true
   },
   "outputs": [
    {
     "name": "stdout",
     "output_type": "stream",
     "text": [
      "Loading data from path: \"/data/work/shared/s001284/Music_Project/resources/data/df_clean\".\n",
      "\tExecution time: 19.89017 s.\n"
     ]
    },
    {
     "data": {
      "text/html": [
       "<div>\n",
       "<style scoped>\n",
       "    .dataframe tbody tr th:only-of-type {\n",
       "        vertical-align: middle;\n",
       "    }\n",
       "\n",
       "    .dataframe tbody tr th {\n",
       "        vertical-align: top;\n",
       "    }\n",
       "\n",
       "    .dataframe thead th {\n",
       "        text-align: right;\n",
       "    }\n",
       "</style>\n",
       "<table border=\"1\" class=\"dataframe\">\n",
       "  <thead>\n",
       "    <tr style=\"text-align: right;\">\n",
       "      <th></th>\n",
       "      <th>user_id</th>\n",
       "      <th>activity_id</th>\n",
       "      <th>activity_start_time</th>\n",
       "      <th>activity_duration</th>\n",
       "      <th>device_id</th>\n",
       "      <th>device_name</th>\n",
       "      <th>track_artist</th>\n",
       "      <th>track_title</th>\n",
       "      <th>track_album</th>\n",
       "      <th>track_player</th>\n",
       "      <th>track_start_time</th>\n",
       "      <th>track_duration</th>\n",
       "      <th>track_id</th>\n",
       "      <th>track_uri</th>\n",
       "    </tr>\n",
       "  </thead>\n",
       "  <tbody>\n",
       "    <tr>\n",
       "      <th>0</th>\n",
       "      <td>b64429b5-59a1-4398-9276-6dc400815f8e</td>\n",
       "      <td>41aaa6e7-2c79-4c18-822f-77ec9dfa56a3-2016-07-09</td>\n",
       "      <td>2016-07-09 04:14:19.157</td>\n",
       "      <td>5056</td>\n",
       "      <td>771c4550615a05cd</td>\n",
       "      <td>SOV32</td>\n",
       "      <td>UNISON SQUARE GARDEN</td>\n",
       "      <td>シャンデリア・ワルツ</td>\n",
       "      <td>UNISON SQUARE GARDEN</td>\n",
       "      <td>Walkman</td>\n",
       "      <td>2016-07-09 04:48:46.629</td>\n",
       "      <td>348</td>\n",
       "      <td>None</td>\n",
       "      <td>content://media/external/audio/media/102343</td>\n",
       "    </tr>\n",
       "    <tr>\n",
       "      <th>1</th>\n",
       "      <td>b6206ded-5249-43ae-96fe-6cede3baca09</td>\n",
       "      <td>35183207-c20f-4032-82bc-21c92b3f06cb-2015-10-01</td>\n",
       "      <td>2015-10-01 14:43:32.389</td>\n",
       "      <td>1305</td>\n",
       "      <td>263729c6c47127d4</td>\n",
       "      <td>D6603</td>\n",
       "      <td>Maluma</td>\n",
       "      <td>Borro Cassette</td>\n",
       "      <td>Borro Cassette</td>\n",
       "      <td>Spotify</td>\n",
       "      <td>2015-10-01 14:43:32.389</td>\n",
       "      <td>216</td>\n",
       "      <td>spotify:track:2ocDZVhBiGCaaZRNW3fmSd</td>\n",
       "      <td>None</td>\n",
       "    </tr>\n",
       "    <tr>\n",
       "      <th>2</th>\n",
       "      <td>b64429b5-59a1-4398-9276-6dc400815f8e</td>\n",
       "      <td>41aaa6e7-2c79-4c18-822f-77ec9dfa56a3-2016-07-09</td>\n",
       "      <td>2016-07-09 04:14:19.157</td>\n",
       "      <td>5056</td>\n",
       "      <td>771c4550615a05cd</td>\n",
       "      <td>SOV32</td>\n",
       "      <td>UNISON SQUARE GARDEN</td>\n",
       "      <td>シュガーソングとビターステップ</td>\n",
       "      <td>UNISON SQUARE GARDEN</td>\n",
       "      <td>Walkman</td>\n",
       "      <td>2016-07-09 04:54:34.187</td>\n",
       "      <td>257</td>\n",
       "      <td>None</td>\n",
       "      <td>content://media/external/audio/media/102344</td>\n",
       "    </tr>\n",
       "    <tr>\n",
       "      <th>3</th>\n",
       "      <td>b6206ded-5249-43ae-96fe-6cede3baca09</td>\n",
       "      <td>35183207-c20f-4032-82bc-21c92b3f06cb-2015-10-01</td>\n",
       "      <td>2015-10-01 14:43:32.389</td>\n",
       "      <td>1305</td>\n",
       "      <td>263729c6c47127d4</td>\n",
       "      <td>D6603</td>\n",
       "      <td>Reykon</td>\n",
       "      <td>Imaginándote (feat. Daddy Yankee)</td>\n",
       "      <td>Imaginándote (feat. Daddy Yankee)</td>\n",
       "      <td>Spotify</td>\n",
       "      <td>2015-10-01 14:47:08.233</td>\n",
       "      <td>224</td>\n",
       "      <td>spotify:track:3AQ1zVx39FvB4yH0bjGgPm</td>\n",
       "      <td>None</td>\n",
       "    </tr>\n",
       "    <tr>\n",
       "      <th>4</th>\n",
       "      <td>b64429b5-59a1-4398-9276-6dc400815f8e</td>\n",
       "      <td>41aaa6e7-2c79-4c18-822f-77ec9dfa56a3-2016-07-09</td>\n",
       "      <td>2016-07-09 04:14:19.157</td>\n",
       "      <td>5056</td>\n",
       "      <td>771c4550615a05cd</td>\n",
       "      <td>SOV32</td>\n",
       "      <td>UNISON SQUARE GARDEN</td>\n",
       "      <td>流星のスコール</td>\n",
       "      <td>UNISON SQUARE GARDEN</td>\n",
       "      <td>Walkman</td>\n",
       "      <td>2016-07-09 04:59:12.033</td>\n",
       "      <td>307</td>\n",
       "      <td>None</td>\n",
       "      <td>content://media/external/audio/media/102337</td>\n",
       "    </tr>\n",
       "  </tbody>\n",
       "</table>\n",
       "</div>"
      ],
      "text/plain": [
       "                                user_id  \\\n",
       "0  b64429b5-59a1-4398-9276-6dc400815f8e   \n",
       "1  b6206ded-5249-43ae-96fe-6cede3baca09   \n",
       "2  b64429b5-59a1-4398-9276-6dc400815f8e   \n",
       "3  b6206ded-5249-43ae-96fe-6cede3baca09   \n",
       "4  b64429b5-59a1-4398-9276-6dc400815f8e   \n",
       "\n",
       "                                       activity_id     activity_start_time  \\\n",
       "0  41aaa6e7-2c79-4c18-822f-77ec9dfa56a3-2016-07-09 2016-07-09 04:14:19.157   \n",
       "1  35183207-c20f-4032-82bc-21c92b3f06cb-2015-10-01 2015-10-01 14:43:32.389   \n",
       "2  41aaa6e7-2c79-4c18-822f-77ec9dfa56a3-2016-07-09 2016-07-09 04:14:19.157   \n",
       "3  35183207-c20f-4032-82bc-21c92b3f06cb-2015-10-01 2015-10-01 14:43:32.389   \n",
       "4  41aaa6e7-2c79-4c18-822f-77ec9dfa56a3-2016-07-09 2016-07-09 04:14:19.157   \n",
       "\n",
       "   activity_duration         device_id device_name          track_artist  \\\n",
       "0               5056  771c4550615a05cd       SOV32  UNISON SQUARE GARDEN   \n",
       "1               1305  263729c6c47127d4       D6603                Maluma   \n",
       "2               5056  771c4550615a05cd       SOV32  UNISON SQUARE GARDEN   \n",
       "3               1305  263729c6c47127d4       D6603                Reykon   \n",
       "4               5056  771c4550615a05cd       SOV32  UNISON SQUARE GARDEN   \n",
       "\n",
       "                         track_title                        track_album  \\\n",
       "0                         シャンデリア・ワルツ               UNISON SQUARE GARDEN   \n",
       "1                     Borro Cassette                     Borro Cassette   \n",
       "2                    シュガーソングとビターステップ               UNISON SQUARE GARDEN   \n",
       "3  Imaginándote (feat. Daddy Yankee)  Imaginándote (feat. Daddy Yankee)   \n",
       "4                            流星のスコール               UNISON SQUARE GARDEN   \n",
       "\n",
       "  track_player        track_start_time  track_duration  \\\n",
       "0      Walkman 2016-07-09 04:48:46.629             348   \n",
       "1      Spotify 2015-10-01 14:43:32.389             216   \n",
       "2      Walkman 2016-07-09 04:54:34.187             257   \n",
       "3      Spotify 2015-10-01 14:47:08.233             224   \n",
       "4      Walkman 2016-07-09 04:59:12.033             307   \n",
       "\n",
       "                               track_id  \\\n",
       "0                                  None   \n",
       "1  spotify:track:2ocDZVhBiGCaaZRNW3fmSd   \n",
       "2                                  None   \n",
       "3  spotify:track:3AQ1zVx39FvB4yH0bjGgPm   \n",
       "4                                  None   \n",
       "\n",
       "                                     track_uri  \n",
       "0  content://media/external/audio/media/102343  \n",
       "1                                         None  \n",
       "2  content://media/external/audio/media/102344  \n",
       "3                                         None  \n",
       "4  content://media/external/audio/media/102337  "
      ]
     },
     "execution_count": 4,
     "metadata": {},
     "output_type": "execute_result"
    },
    {
     "name": "stdout",
     "output_type": "stream",
     "text": [
      "time: 51.4 s\n"
     ]
    }
   ],
   "source": [
    "df_path = Config.Path.project_data_root / 'df_clean'\n",
    "df = t.load_data_from_files(df_path, spark, method='parquet')\n",
    "\n",
    "# Drop the column: \"user_id_prefix\".\n",
    "df = df.drop('user_id_prefix')\n",
    "\n",
    "# Set the flag that determines whether the middle results\n",
    "# will be shown.\n",
    "display_middle_results = True\n",
    "\n",
    "# Display the table.\n",
    "if display_middle_results:\n",
    "    df.limit(100).toPandas().head(5)"
   ]
  },
  {
   "cell_type": "markdown",
   "metadata": {},
   "source": [
    "## Distinct values of `track_player`"
   ]
  },
  {
   "cell_type": "code",
   "execution_count": null,
   "metadata": {},
   "outputs": [],
   "source": [
    "df_distinct_track_player = (\n",
    "    df\n",
    "    .select('track_player')\n",
    "    .distinct()\n",
    ")\n",
    "\n",
    "n_distinct_track_players = df_distinct_track_player.count()\n",
    "print(f'The number of distinct track players is: {n_distinct_track_players}')\n",
    "\n",
    "# Display the table.\n",
    "if display_middle_results:\n",
    "    df_distinct_track_player.limit(100).toPandas().head(5)"
   ]
  },
  {
   "cell_type": "code",
   "execution_count": 11,
   "metadata": {},
   "outputs": [
    {
     "name": "stdout",
     "output_type": "stream",
     "text": [
      "time: 55.9 s\n"
     ]
    }
   ],
   "source": [
    "distinct_track_players = t.spark.get_column(df_distinct_track_player, 'track_player')"
   ]
  },
  {
   "cell_type": "code",
   "execution_count": 12,
   "metadata": {},
   "outputs": [
    {
     "data": {
      "text/plain": [
       "4"
      ]
     },
     "execution_count": 12,
     "metadata": {},
     "output_type": "execute_result"
    },
    {
     "name": "stdout",
     "output_type": "stream",
     "text": [
      "time: 1.69 ms\n"
     ]
    }
   ],
   "source": [
    "len(distinct_track_players)"
   ]
  },
  {
   "cell_type": "markdown",
   "metadata": {},
   "source": [
    "## Types of `track_uri`"
   ]
  },
  {
   "cell_type": "code",
   "execution_count": 9,
   "metadata": {},
   "outputs": [
    {
     "name": "stdout",
     "output_type": "stream",
     "text": [
      "The number of distinct track uri types is: 1748440\n",
      "time: 4min 9s\n"
     ]
    }
   ],
   "source": [
    "df_types_of_track_uri = (\n",
    "    df\n",
    "    .withColumn('track_uri_type',\n",
    "                f.when(f.substring('track_uri', 1, 37) == 'content://media/external/audio/media/',\n",
    "                     'internal_path')\n",
    "                .otherwise(f.col('track_uri')))\n",
    "    .select('track_uri_type')\n",
    "    .distinct()\n",
    ")\n",
    "\n",
    "n_types_of_track_uri = df_types_of_track_uri.count()\n",
    "print(f'The number of distinct track uri types is: {n_types_of_track_uri}')"
   ]
  },
  {
   "cell_type": "code",
   "execution_count": null,
   "metadata": {},
   "outputs": [],
   "source": [
    "# Display the table.\n",
    "if display_middle_results:\n",
    "    df_types_of_track_uri.limit(100).toPandas().head(5)"
   ]
  },
  {
   "cell_type": "markdown",
   "metadata": {},
   "source": [
    "## Types of `track_id`"
   ]
  },
  {
   "cell_type": "code",
   "execution_count": null,
   "metadata": {},
   "outputs": [],
   "source": [
    "df_types_of_track_id = (\n",
    "    df\n",
    "    .withColumn('track_id_type',\n",
    "                f.when(f.substring('track_id', 1, 7) == 'spotify',\n",
    "                     'spotify_uri')\n",
    "                .otherwise(f.col('track_id')))\n",
    "    .select('track_id_type')\n",
    "    .distinct()\n",
    ")\n",
    "\n",
    "n_types_of_track_id = df_types_of_track_id.count()\n",
    "print(f'The number of distinct track uri types is: {n_types_of_track_id}')"
   ]
  },
  {
   "cell_type": "markdown",
   "metadata": {},
   "source": [
    "## Rows where `track_uri` is a local path and the platform is not Walkman"
   ]
  },
  {
   "cell_type": "code",
   "execution_count": 29,
   "metadata": {},
   "outputs": [
    {
     "data": {
      "text/html": [
       "<div>\n",
       "<style scoped>\n",
       "    .dataframe tbody tr th:only-of-type {\n",
       "        vertical-align: middle;\n",
       "    }\n",
       "\n",
       "    .dataframe tbody tr th {\n",
       "        vertical-align: top;\n",
       "    }\n",
       "\n",
       "    .dataframe thead th {\n",
       "        text-align: right;\n",
       "    }\n",
       "</style>\n",
       "<table border=\"1\" class=\"dataframe\">\n",
       "  <thead>\n",
       "    <tr style=\"text-align: right;\">\n",
       "      <th></th>\n",
       "      <th>user_id</th>\n",
       "      <th>activity_id</th>\n",
       "      <th>activity_start_time</th>\n",
       "      <th>activity_duration</th>\n",
       "      <th>device_id</th>\n",
       "      <th>device_name</th>\n",
       "      <th>track_artist</th>\n",
       "      <th>track_title</th>\n",
       "      <th>track_album</th>\n",
       "      <th>track_player</th>\n",
       "      <th>track_start_time</th>\n",
       "      <th>track_duration</th>\n",
       "      <th>track_id</th>\n",
       "      <th>track_uri</th>\n",
       "    </tr>\n",
       "  </thead>\n",
       "  <tbody>\n",
       "    <tr>\n",
       "      <th>0</th>\n",
       "      <td>7a749f71-6ccc-45bd-b4a2-782d3eb995ba</td>\n",
       "      <td>af8a5fea-5e76-4017-917c-c3d0821d60dc-2015-07-28</td>\n",
       "      <td>2015-07-28 11:42:58.521</td>\n",
       "      <td>493</td>\n",
       "      <td>3ab26f82656fe6f3</td>\n",
       "      <td>D6502</td>\n",
       "      <td>Green Day</td>\n",
       "      <td>409 In Your Coffee Maker</td>\n",
       "      <td>Transmissions</td>\n",
       "      <td>Music</td>\n",
       "      <td>2015-07-28 11:42:58.521</td>\n",
       "      <td>136</td>\n",
       "      <td>None</td>\n",
       "      <td>content://media/external/audio/media/2711</td>\n",
       "    </tr>\n",
       "    <tr>\n",
       "      <th>1</th>\n",
       "      <td>7a749f71-6ccc-45bd-b4a2-782d3eb995ba</td>\n",
       "      <td>af8a5fea-5e76-4017-917c-c3d0821d60dc-2015-07-28</td>\n",
       "      <td>2015-07-28 11:42:58.521</td>\n",
       "      <td>493</td>\n",
       "      <td>3ab26f82656fe6f3</td>\n",
       "      <td>D6502</td>\n",
       "      <td>Green Day</td>\n",
       "      <td>American Idiot</td>\n",
       "      <td>American Idiot</td>\n",
       "      <td>Music</td>\n",
       "      <td>2015-07-28 11:45:14.131</td>\n",
       "      <td>174</td>\n",
       "      <td>None</td>\n",
       "      <td>content://media/external/audio/media/2696</td>\n",
       "    </tr>\n",
       "    <tr>\n",
       "      <th>2</th>\n",
       "      <td>7a749f71-6ccc-45bd-b4a2-782d3eb995ba</td>\n",
       "      <td>af8a5fea-5e76-4017-917c-c3d0821d60dc-2015-07-28</td>\n",
       "      <td>2015-07-28 11:42:58.521</td>\n",
       "      <td>493</td>\n",
       "      <td>3ab26f82656fe6f3</td>\n",
       "      <td>D6502</td>\n",
       "      <td>Green Day</td>\n",
       "      <td>Basket Case</td>\n",
       "      <td>Dookie</td>\n",
       "      <td>Music</td>\n",
       "      <td>2015-07-28 11:48:08.627</td>\n",
       "      <td>183</td>\n",
       "      <td>None</td>\n",
       "      <td>content://media/external/audio/media/2706</td>\n",
       "    </tr>\n",
       "  </tbody>\n",
       "</table>\n",
       "</div>"
      ],
      "text/plain": [
       "                                user_id  \\\n",
       "0  7a749f71-6ccc-45bd-b4a2-782d3eb995ba   \n",
       "1  7a749f71-6ccc-45bd-b4a2-782d3eb995ba   \n",
       "2  7a749f71-6ccc-45bd-b4a2-782d3eb995ba   \n",
       "\n",
       "                                       activity_id     activity_start_time  \\\n",
       "0  af8a5fea-5e76-4017-917c-c3d0821d60dc-2015-07-28 2015-07-28 11:42:58.521   \n",
       "1  af8a5fea-5e76-4017-917c-c3d0821d60dc-2015-07-28 2015-07-28 11:42:58.521   \n",
       "2  af8a5fea-5e76-4017-917c-c3d0821d60dc-2015-07-28 2015-07-28 11:42:58.521   \n",
       "\n",
       "   activity_duration         device_id device_name track_artist  \\\n",
       "0                493  3ab26f82656fe6f3       D6502    Green Day   \n",
       "1                493  3ab26f82656fe6f3       D6502    Green Day   \n",
       "2                493  3ab26f82656fe6f3       D6502    Green Day   \n",
       "\n",
       "                track_title     track_album track_player  \\\n",
       "0  409 In Your Coffee Maker   Transmissions        Music   \n",
       "1            American Idiot  American Idiot        Music   \n",
       "2               Basket Case          Dookie        Music   \n",
       "\n",
       "         track_start_time  track_duration track_id  \\\n",
       "0 2015-07-28 11:42:58.521             136     None   \n",
       "1 2015-07-28 11:45:14.131             174     None   \n",
       "2 2015-07-28 11:48:08.627             183     None   \n",
       "\n",
       "                                   track_uri  \n",
       "0  content://media/external/audio/media/2711  \n",
       "1  content://media/external/audio/media/2696  \n",
       "2  content://media/external/audio/media/2706  "
      ]
     },
     "execution_count": 29,
     "metadata": {},
     "output_type": "execute_result"
    },
    {
     "name": "stdout",
     "output_type": "stream",
     "text": [
      "time: 8min 50s\n"
     ]
    }
   ],
   "source": [
    "df_a = (\n",
    "    df\n",
    "    .where(f.substring('track_uri', 1, 37) == 'content://media/external/audio/media/')\n",
    "    .where(f.col('track_player') != 'Walkman')\n",
    ")\n",
    "\n",
    "# Display the table.\n",
    "if display_middle_results:\n",
    "    df_a.limit(100).toPandas().head(5)\n"
   ]
  },
  {
   "cell_type": "code",
   "execution_count": null,
   "metadata": {},
   "outputs": [],
   "source": [
    "df_b = (\n",
    "    df\n",
    "    .where(f.substring('track_uri', 1, 37) == 'content://media/external/audio/media/')\n",
    "    .where(f.col('track_player') != 'Walkman')\n",
    ")\n",
    "\n",
    "# Display the table.\n",
    "if display_middle_results:\n",
    "    df_a.limit(100).toPandas().head(5)"
   ]
  },
  {
   "cell_type": "code",
   "execution_count": null,
   "metadata": {},
   "outputs": [],
   "source": [
    "df_b = (\n",
    "    df.withColumn('track_id_prefix', \n",
    "                 f.when(f.col('track_uri').isNull()))\n",
    "    \n",
    "    .where(f.substring('track_uri', 1, 37) == 'content://media/external/audio/media/')\n",
    "    .where(f.col('track_player') != 'Walkman')\n",
    ")\n",
    "\n",
    "# Display the table.\n",
    "if display_middle_results:\n",
    "    df_a.limit(100).toPandas().head(5)"
   ]
  },
  {
   "cell_type": "code",
   "execution_count": null,
   "metadata": {},
   "outputs": [],
   "source": [
    "df = (\n",
    "    df\n",
    "    .withColumnRenamed('track_id', 'track_spotify_uri')\n",
    "    .withColumnRenamed('track_uri', 'track_sony_path')\n",
    ")"
   ]
  },
  {
   "cell_type": "markdown",
   "metadata": {},
   "source": [
    "## Count the rows"
   ]
  },
  {
   "cell_type": "code",
   "execution_count": null,
   "metadata": {
    "pycharm": {
     "name": "#%%\n"
    }
   },
   "outputs": [],
   "source": [
    "n_rows_total = df.count()\n",
    "\n",
    "print(f'The total number of rows: {n_rows_total:,.0f}.')"
   ]
  },
  {
   "cell_type": "markdown",
   "metadata": {},
   "source": [
    "<hr style=\"border:2px solid black\"></hr>\n",
    "\n",
    "# Statistics"
   ]
  },
  {
   "cell_type": "markdown",
   "metadata": {},
   "source": [
    "## Visualize the amount of undefined cells in each column"
   ]
  },
  {
   "cell_type": "markdown",
   "metadata": {},
   "source": [
    "### As table"
   ]
  },
  {
   "cell_type": "markdown",
   "metadata": {},
   "source": [
    "Count the undefined cells in each column:"
   ]
  },
  {
   "cell_type": "code",
   "execution_count": 4,
   "metadata": {
    "pycharm": {
     "name": "#%%\n"
    }
   },
   "outputs": [
    {
     "name": "stderr",
     "output_type": "stream",
     "text": [
      "100%|██████████| 14/14 [05:48<00:00, 24.87s/it]\n"
     ]
    },
    {
     "data": {
      "text/html": [
       "<div>\n",
       "<style scoped>\n",
       "    .dataframe tbody tr th:only-of-type {\n",
       "        vertical-align: middle;\n",
       "    }\n",
       "\n",
       "    .dataframe tbody tr th {\n",
       "        vertical-align: top;\n",
       "    }\n",
       "\n",
       "    .dataframe thead th {\n",
       "        text-align: right;\n",
       "    }\n",
       "</style>\n",
       "<table border=\"1\" class=\"dataframe\">\n",
       "  <thead>\n",
       "    <tr style=\"text-align: right;\">\n",
       "      <th></th>\n",
       "      <th>Number of cells</th>\n",
       "      <th>Percent of total</th>\n",
       "    </tr>\n",
       "  </thead>\n",
       "  <tbody>\n",
       "    <tr>\n",
       "      <th>user_id</th>\n",
       "      <td>0</td>\n",
       "      <td>0.00</td>\n",
       "    </tr>\n",
       "    <tr>\n",
       "      <th>activity_id</th>\n",
       "      <td>0</td>\n",
       "      <td>0.00</td>\n",
       "    </tr>\n",
       "    <tr>\n",
       "      <th>activity_start_time</th>\n",
       "      <td>0</td>\n",
       "      <td>0.00</td>\n",
       "    </tr>\n",
       "    <tr>\n",
       "      <th>activity_duration</th>\n",
       "      <td>0</td>\n",
       "      <td>0.00</td>\n",
       "    </tr>\n",
       "    <tr>\n",
       "      <th>device_id</th>\n",
       "      <td>7,253,534</td>\n",
       "      <td>0.29</td>\n",
       "    </tr>\n",
       "    <tr>\n",
       "      <th>device_name</th>\n",
       "      <td>7,258,178</td>\n",
       "      <td>0.29</td>\n",
       "    </tr>\n",
       "    <tr>\n",
       "      <th>track_artist</th>\n",
       "      <td>710,429,434</td>\n",
       "      <td>28.07</td>\n",
       "    </tr>\n",
       "    <tr>\n",
       "      <th>track_title</th>\n",
       "      <td>180,364,595</td>\n",
       "      <td>7.13</td>\n",
       "    </tr>\n",
       "    <tr>\n",
       "      <th>track_album</th>\n",
       "      <td>127,804,616</td>\n",
       "      <td>5.05</td>\n",
       "    </tr>\n",
       "    <tr>\n",
       "      <th>track_player</th>\n",
       "      <td>338,135,480</td>\n",
       "      <td>13.36</td>\n",
       "    </tr>\n",
       "    <tr>\n",
       "      <th>track_start_time</th>\n",
       "      <td>0</td>\n",
       "      <td>0.00</td>\n",
       "    </tr>\n",
       "    <tr>\n",
       "      <th>track_duration</th>\n",
       "      <td>0</td>\n",
       "      <td>0.00</td>\n",
       "    </tr>\n",
       "    <tr>\n",
       "      <th>track_id</th>\n",
       "      <td>2,033,877,221</td>\n",
       "      <td>80.38</td>\n",
       "    </tr>\n",
       "    <tr>\n",
       "      <th>track_uri</th>\n",
       "      <td>496,936,211</td>\n",
       "      <td>19.64</td>\n",
       "    </tr>\n",
       "  </tbody>\n",
       "</table>\n",
       "</div>"
      ],
      "text/plain": [
       "                    Number of cells Percent of total\n",
       "user_id                           0             0.00\n",
       "activity_id                       0             0.00\n",
       "activity_start_time               0             0.00\n",
       "activity_duration                 0             0.00\n",
       "device_id                 7,253,534             0.29\n",
       "device_name               7,258,178             0.29\n",
       "track_artist            710,429,434            28.07\n",
       "track_title             180,364,595             7.13\n",
       "track_album             127,804,616             5.05\n",
       "track_player            338,135,480            13.36\n",
       "track_start_time                  0             0.00\n",
       "track_duration                    0             0.00\n",
       "track_id              2,033,877,221            80.38\n",
       "track_uri               496,936,211            19.64"
      ]
     },
     "metadata": {},
     "output_type": "display_data"
    },
    {
     "name": "stdout",
     "output_type": "stream",
     "text": [
      "time: 5min 48s\n"
     ]
    }
   ],
   "source": [
    "## COUNT THE UNDEFINED CELLS\n",
    "\n",
    "# Initialize the dict where the numbers will be stored.\n",
    "n_undefined = dict()\n",
    "pct_undefined = dict()\n",
    "\n",
    "# Count the undefined cells in each column.\n",
    "for column_name in tqdm(df.columns):\n",
    "    n_undefined[column_name] = df.where(f.col(column_name).isNull()).count()\n",
    "    pct_undefined[column_name] = n_undefined[column_name] / n_rows_total * 100\n",
    "\n",
    "    \n",
    "## DISPLAY RESULTS AS PANADAS TABLE\n",
    "\n",
    "# Define the column names.\n",
    "property_names = ['Number of cells', 'Percent of total'] \n",
    "\n",
    "# Create a dict representing the data.\n",
    "data = {column_name: [f'{n_undefined[column_name]:,.0f}',\n",
    "                      f'{pct_undefined[column_name]:.2f}']\n",
    "        for column_name in n_undefined.keys()}\n",
    "\n",
    "# Create the pandas dataframe for displaying.\n",
    "dfp_undefined = pd.DataFrame.from_dict(data,\n",
    "                                       orient='index',\n",
    "                                       columns=property_names)\n",
    "\n",
    "# Display the dataframe\n",
    "display(dfp_undefined)"
   ]
  },
  {
   "cell_type": "code",
   "execution_count": 5,
   "metadata": {
    "pycharm": {
     "name": "#%%\n"
    }
   },
   "outputs": [
    {
     "name": "stdout",
     "output_type": "stream",
     "text": [
      "Saving table to: \"/data/work/shared/s001284/Music_Project/documentation/report/resources/tables/undefined_cells_in_full_database.tex\".\n",
      "\tDone.\n",
      "time: 10.8 ms\n"
     ]
    }
   ],
   "source": [
    "t.save_table(dfp_undefined, 'undefined_cells_in_full_database')"
   ]
  },
  {
   "cell_type": "markdown",
   "metadata": {},
   "source": [
    "### As bargraph"
   ]
  },
  {
   "cell_type": "markdown",
   "metadata": {},
   "source": [
    "Create a bargraph represening the percentage of undefined cells in each column:"
   ]
  },
  {
   "cell_type": "code",
   "execution_count": 22,
   "metadata": {
    "pycharm": {
     "name": "#%%\n"
    }
   },
   "outputs": [
    {
     "data": {
      "image/png": "[encoded data removed]",
      "text/plain": [
       "<Figure size 864x576 with 1 Axes>"
      ]
     },
     "metadata": {},
     "output_type": "display_data"
    },
    {
     "name": "stdout",
     "output_type": "stream",
     "text": [
      "time: 439 ms\n"
     ]
    }
   ],
   "source": [
    "# Create a barplot showing the percentage of undefined values in each column.\n",
    "axes = sns.barplot(x=list(pct_undefined.keys()),\n",
    "                   y=list(pct_undefined.values()))\n",
    "\n",
    "# Rotate the tick labels for the x-axes.\n",
    "labels = axes.set_xticklabels(axes.get_xticklabels(),\n",
    "                              rotation=45,\n",
    "                              ha='right',\n",
    "                              va='top',\n",
    "                              fontsize=14\n",
    "                             )\n",
    "\n",
    "# Annotate the graph.\n",
    "title = axes.set_title('Percentage of undefined values by column')\n",
    "# x_label = axes.set_xlabel('Column name')\n",
    "y_label = axes.set_ylabel('Percentage of undefined values')\n",
    "\n",
    "# Apply general formatting.\n",
    "w.format_figure(axes.figure)\n",
    "\n",
    "# Save the figure\n",
    "# t.save_plot('percentage_of_undefined_cells_in_full_database')\n",
    "plt.savefig(Config.Path.report_images_root / 'percentage_of_undefined_cells_in_full_database.eps')"
   ]
  },
  {
   "cell_type": "markdown",
   "metadata": {},
   "source": [
    "## Visualize activities over time"
   ]
  },
  {
   "cell_type": "code",
   "execution_count": 17,
   "metadata": {
    "pycharm": {
     "name": "#%%\n"
    },
    "scrolled": true
   },
   "outputs": [
    {
     "data": {
      "text/html": [
       "<div>\n",
       "<style scoped>\n",
       "    .dataframe tbody tr th:only-of-type {\n",
       "        vertical-align: middle;\n",
       "    }\n",
       "\n",
       "    .dataframe tbody tr th {\n",
       "        vertical-align: top;\n",
       "    }\n",
       "\n",
       "    .dataframe thead th {\n",
       "        text-align: right;\n",
       "    }\n",
       "</style>\n",
       "<table border=\"1\" class=\"dataframe\">\n",
       "  <thead>\n",
       "    <tr style=\"text-align: right;\">\n",
       "      <th></th>\n",
       "      <th>activity_date</th>\n",
       "      <th>n_activities</th>\n",
       "      <th>activity_duration_sum</th>\n",
       "    </tr>\n",
       "  </thead>\n",
       "  <tbody>\n",
       "    <tr>\n",
       "      <th>0</th>\n",
       "      <td>1970-01-01</td>\n",
       "      <td>1</td>\n",
       "      <td>15</td>\n",
       "    </tr>\n",
       "    <tr>\n",
       "      <th>1</th>\n",
       "      <td>1970-02-01</td>\n",
       "      <td>13</td>\n",
       "      <td>20683</td>\n",
       "    </tr>\n",
       "    <tr>\n",
       "      <th>2</th>\n",
       "      <td>2000-01-01</td>\n",
       "      <td>17</td>\n",
       "      <td>35343</td>\n",
       "    </tr>\n",
       "    <tr>\n",
       "      <th>3</th>\n",
       "      <td>2013-06-11</td>\n",
       "      <td>3</td>\n",
       "      <td>873</td>\n",
       "    </tr>\n",
       "    <tr>\n",
       "      <th>4</th>\n",
       "      <td>2013-08-21</td>\n",
       "      <td>1</td>\n",
       "      <td>13</td>\n",
       "    </tr>\n",
       "    <tr>\n",
       "      <th>5</th>\n",
       "      <td>2013-09-04</td>\n",
       "      <td>1</td>\n",
       "      <td>1</td>\n",
       "    </tr>\n",
       "    <tr>\n",
       "      <th>6</th>\n",
       "      <td>2013-09-14</td>\n",
       "      <td>5</td>\n",
       "      <td>2008</td>\n",
       "    </tr>\n",
       "    <tr>\n",
       "      <th>7</th>\n",
       "      <td>2013-09-20</td>\n",
       "      <td>1</td>\n",
       "      <td>8</td>\n",
       "    </tr>\n",
       "    <tr>\n",
       "      <th>8</th>\n",
       "      <td>2013-09-26</td>\n",
       "      <td>12</td>\n",
       "      <td>26184</td>\n",
       "    </tr>\n",
       "    <tr>\n",
       "      <th>9</th>\n",
       "      <td>2013-09-28</td>\n",
       "      <td>1</td>\n",
       "      <td>18</td>\n",
       "    </tr>\n",
       "  </tbody>\n",
       "</table>\n",
       "</div>"
      ],
      "text/plain": [
       "  activity_date  n_activities  activity_duration_sum\n",
       "0    1970-01-01             1                     15\n",
       "1    1970-02-01            13                  20683\n",
       "2    2000-01-01            17                  35343\n",
       "3    2013-06-11             3                    873\n",
       "4    2013-08-21             1                     13\n",
       "5    2013-09-04             1                      1\n",
       "6    2013-09-14             5                   2008\n",
       "7    2013-09-20             1                      8\n",
       "8    2013-09-26            12                  26184\n",
       "9    2013-09-28             1                     18"
      ]
     },
     "execution_count": 17,
     "metadata": {},
     "output_type": "execute_result"
    },
    {
     "name": "stdout",
     "output_type": "stream",
     "text": [
      "time: 2min 42s\n"
     ]
    }
   ],
   "source": [
    "# Compute dataframe showing the number of activities and the total duration\n",
    "# of these activities per day. Order by activity date.\n",
    "df_activity_stats = (\n",
    "    df\n",
    "    .withColumn('activity_date', f.to_date('activity_start_time'))\n",
    "    .groupBy('activity_date')\n",
    "    .agg(f.count('activity_id').alias('n_activities'),\n",
    "         f.sum('activity_duration').alias('activity_duration_sum'))\n",
    "    .orderBy(f.asc('activity_date'))\n",
    ")\n",
    "\n",
    "# Show the top rows\n",
    "df_activity_stats.limit(100).toPandas().head(10)"
   ]
  },
  {
   "cell_type": "code",
   "execution_count": 18,
   "metadata": {
    "pycharm": {
     "name": "#%%\n"
    }
   },
   "outputs": [
    {
     "name": "stdout",
     "output_type": "stream",
     "text": [
      "time: 6min 28s\n"
     ]
    }
   ],
   "source": [
    "# # Histogram\n",
    "# buckets = [int(10*1.2**i) for i in range(0,30)]\n",
    "# price_histogram = df_listings_rome.select('price').rdd.flatMap(lambda x: x).histogram(buckets)\n",
    "\n",
    "def get_column(df, column_name):\n",
    "    return df.select(column_name).rdd.flatMap(lambda x: x).collect()\n",
    "\n",
    "date = get_column(df_activity_stats, 'activity_date')\n",
    "n_activities = get_column(df_activity_stats, 'n_activities')\n",
    "duration_sum = get_column(df_activity_stats, 'activity_duration_sum')"
   ]
  },
  {
   "cell_type": "code",
   "execution_count": 37,
   "metadata": {},
   "outputs": [
    {
     "name": "stderr",
     "output_type": "stream",
     "text": [
      "The PostScript backend does not support transparency; partially transparent artists will be rendered opaque.\n",
      "The PostScript backend does not support transparency; partially transparent artists will be rendered opaque.\n"
     ]
    },
    {
     "data": {
      "image/png": "[encoded data removed]",
      "text/plain": [
       "<Figure size 864x576 with 2 Axes>"
      ]
     },
     "metadata": {},
     "output_type": "display_data"
    },
    {
     "name": "stdout",
     "output_type": "stream",
     "text": [
      "time: 470 ms\n"
     ]
    }
   ],
   "source": [
    "# Create a figure and axes for the plot.\n",
    "figure, axes_left = w.empty_figure()\n",
    "\n",
    "# Create a twin axes for two different y-axes on the same plot.\n",
    "axes_right = axes_left.twinx()\n",
    "\n",
    "# Plot the data\n",
    "plot_left = axes_left.plot(date, np.array(n_activities) / 1e6,\n",
    "                      color='red',\n",
    "                      label='Number of daily activities')\n",
    "\n",
    "plot_right = axes_right.plot(date, np.array(duration_sum) / (3600 * 1e6),\n",
    "                         color='blue',\n",
    "                         label='Sum of duration of daily activites')\n",
    "\n",
    "# Set titles and labels.\n",
    "title = axes_left.set_title('Daily actvity')\n",
    "xlabel = axes_left.set_xlabel('')\n",
    "ylabel_left = axes_left.set_ylabel('Number of activities [millions]')\n",
    "ylabel_right = axes_right.set_ylabel('Time spent on activities [millions of hours]')\n",
    "\n",
    "# Set tickmarks.\n",
    "axes_left.xaxis.set_major_locator(mdates.YearLocator(1, month=1, day=1))\n",
    "x_lim = axes_left.set_xlim((datetime.datetime(2014, 1, 1), datetime.datetime(2020, 1, 1)))\n",
    "plot = plt.setp(axes_left.get_xticklabels(),\n",
    "                rotation=45,\n",
    "                ha=\"right\",\n",
    "                va='top',\n",
    "                rotation_mode=\"anchor\",\n",
    "                fontsize=14)\n",
    "\n",
    "# Set limits\n",
    "y_lim_left = axes_left.set_ylim((0, 5))\n",
    "y_lim_right = axes_right.set_ylim((0, 5))\n",
    "\n",
    "# Set layout\n",
    "axes = figure.axes\n",
    "for ax in axes:\n",
    "    ax.spines['top'].set_color('white')\n",
    "    ax.set_facecolor(\"white\")\n",
    "    ax.xaxis.label.set_fontsize(18)\n",
    "    ax.yaxis.label.set_fontsize(18)\n",
    "    ax.title.set_fontsize(20)\n",
    "    \n",
    "axes_left.yaxis.label.set_color('red')\n",
    "axes_right.yaxis.label.set_color('blue')\n",
    "\n",
    "# Set grid\n",
    "axes_left.xaxis.grid(which=\"both\", linewidth=0.5)\n",
    "axes_left.yaxis.grid(which=\"both\", linewidth=0.5)\n",
    "axes_right.grid(None)\n",
    "\n",
    "# Add a legend\n",
    "all_plots = plot_left + plot_right\n",
    "all_labels = [plot.get_label() for plot in all_plots]\n",
    "legend = axes_left.legend(all_plots, all_labels, loc=0)\n",
    "\n",
    "# Save the figure\n",
    "# t.save_plot('daily_activity_vs_time')\n",
    "figure.savefig(Config.Path.report_images_root / 'daily_activity_vs_time.eps')"
   ]
  },
  {
   "cell_type": "markdown",
   "metadata": {},
   "source": [
    "<hr style=\"border:2px solid black\"></hr>\n",
    "\n",
    "# Save the dataframe"
   ]
  },
  {
   "cell_type": "code",
   "execution_count": null,
   "metadata": {
    "deletable": false,
    "editable": false,
    "pycharm": {
     "name": "#%%\n"
    },
    "run_control": {
     "frozen": true
    }
   },
   "outputs": [],
   "source": [
    "# Save the start time for timing.\n",
    "start_time = time.time()\n",
    "\n",
    "# Save the dataframe with partitions defined by the first\n",
    "# two letters of the user ID.\n",
    "(df\n",
    " .withColumn('user_id_prefix', f.col('user_id').substr(0,2))\n",
    " .write.mode('overwrite')\n",
    " .partitionBy('user_id_prefix')\n",
    " .parquet(str(Config.Path.project_data_root / 'df_clean_new'))\n",
    ")\n",
    "\n",
    "# Print the execution time.\n",
    "print(f'Execution time: {time.time() - start_time:.5f} s.')"
   ]
  }
 ],
 "metadata": {
  "kernelspec": {
   "display_name": "Python 3",
   "language": "python",
   "name": "python3"
  },
  "language_info": {
   "codemirror_mode": {
    "name": "ipython",
    "version": 3
   },
   "file_extension": ".py",
   "mimetype": "text/x-python",
   "name": "python",
   "nbconvert_exporter": "python",
   "pygments_lexer": "ipython3",
   "version": "3.8.5"
  },
  "toc": {
   "base_numbering": 1,
   "nav_menu": {},
   "number_sections": true,
   "sideBar": true,
   "skip_h1_title": false,
   "title_cell": "Table of Contents",
   "title_sidebar": "Contents",
   "toc_cell": false,
   "toc_position": {
    "height": "calc(100% - 180px)",
    "left": "10px",
    "top": "150px",
    "width": "384px"
   },
   "toc_section_display": true,
   "toc_window_display": true
  },
  "varInspector": {
   "cols": {
    "lenName": 16,
    "lenType": 16,
    "lenVar": 40
   },
   "kernels_config": {
    "python": {
     "delete_cmd_postfix": "",
     "delete_cmd_prefix": "del ",
     "library": "var_list.py",
     "varRefreshCmd": "print(var_dic_list())"
    },
    "r": {
     "delete_cmd_postfix": ") ",
     "delete_cmd_prefix": "rm(",
     "library": "var_list.r",
     "varRefreshCmd": "cat(var_dic_list()) "
    }
   },
   "position": {
    "height": "344.85px",
    "left": "1553px",
    "right": "20px",
    "top": "120px",
    "width": "347px"
   },
   "types_to_exclude": [
    "module",
    "function",
    "builtin_function_or_method",
    "instance",
    "_Feature"
   ],
   "window_display": false
  }
 },
 "nbformat": 4,
 "nbformat_minor": 1
}