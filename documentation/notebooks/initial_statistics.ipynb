{
 "cells": [
  {
   "cell_type": "markdown",
   "metadata": {},
   "source": [
    "<hr style=\"border:2px solid black\"></hr>\n",
    "\n",
    "# Initialization"
   ]
  },
  {
   "cell_type": "code",
   "execution_count": 1,
   "metadata": {
    "pycharm": {
     "is_executing": true,
     "name": "#%%\n"
    }
   },
   "outputs": [
    {
     "name": "stdout",
     "output_type": "stream",
     "text": [
      "Creating a Spark session.\n",
      "\tExecution time: 110.96129 s.\n",
      "Getting the data paths.\n",
      "\tNumber of folders: 62\n",
      "\tNumber of files: 275621\n",
      "Loading data from path: \"/data/work/src/musicactivity\".\n",
      "\tExecution time: 10.01333 s.\n",
      "Loading data from path: \"/data/work/shared/s001284/Music_Project/resources/data/df_sample_raw_1E6.parquet\".\n",
      "\tExecution time: 1.49188 s.\n"
     ]
    }
   ],
   "source": [
    "%load_ext autotime\n",
    "%matplotlib inline\n",
    "\n",
    "from toolbox.initialize import *\n",
    "\n",
    "# Set this for faster conversion to pandas\n",
    "spark.conf.set(\"spark.sql.execution.arrow.pyspark.enabled\", \"true\")"
   ]
  },
  {
   "cell_type": "markdown",
   "metadata": {},
   "source": [
    "<hr style=\"border:2px solid black\"></hr>\n",
    "\n",
    "# Cleaning"
   ]
  },
  {
   "cell_type": "markdown",
   "metadata": {},
   "source": [
    "## Load dataframe"
   ]
  },
  {
   "cell_type": "code",
   "execution_count": 2,
   "metadata": {
    "pycharm": {
     "name": "#%%\n"
    }
   },
   "outputs": [
    {
     "name": "stdout",
     "output_type": "stream",
     "text": [
      "Loading data from path: \"/data/work/shared/s001284/Music_Project/resources/data/df_clean\".\n",
      "\tExecution time: 0.86490 s.\n"
     ]
    },
    {
     "data": {
      "text/html": [
       "<div>\n",
       "<style scoped>\n",
       "    .dataframe tbody tr th:only-of-type {\n",
       "        vertical-align: middle;\n",
       "    }\n",
       "\n",
       "    .dataframe tbody tr th {\n",
       "        vertical-align: top;\n",
       "    }\n",
       "\n",
       "    .dataframe thead th {\n",
       "        text-align: right;\n",
       "    }\n",
       "</style>\n",
       "<table border=\"1\" class=\"dataframe\">\n",
       "  <thead>\n",
       "    <tr style=\"text-align: right;\">\n",
       "      <th></th>\n",
       "      <th>user_id</th>\n",
       "      <th>activity_id</th>\n",
       "      <th>activity_start_time</th>\n",
       "      <th>activity_duration</th>\n",
       "      <th>device_id</th>\n",
       "      <th>device_name</th>\n",
       "      <th>track_artist</th>\n",
       "      <th>track_title</th>\n",
       "      <th>track_album</th>\n",
       "      <th>track_player</th>\n",
       "      <th>track_start_time</th>\n",
       "      <th>track_duration</th>\n",
       "      <th>track_id</th>\n",
       "      <th>track_uri</th>\n",
       "    </tr>\n",
       "  </thead>\n",
       "  <tbody>\n",
       "    <tr>\n",
       "      <th>0</th>\n",
       "      <td>b64429b5-59a1-4398-9276-6dc400815f8e</td>\n",
       "      <td>41aaa6e7-2c79-4c18-822f-77ec9dfa56a3-2016-07-09</td>\n",
       "      <td>2016-07-09 04:14:19.157</td>\n",
       "      <td>5056</td>\n",
       "      <td>771c4550615a05cd</td>\n",
       "      <td>SOV32</td>\n",
       "      <td>UNISON SQUARE GARDEN</td>\n",
       "      <td>シャンデリア・ワルツ</td>\n",
       "      <td>UNISON SQUARE GARDEN</td>\n",
       "      <td>Walkman</td>\n",
       "      <td>2016-07-09 04:48:46.629</td>\n",
       "      <td>348</td>\n",
       "      <td>None</td>\n",
       "      <td>content://media/external/audio/media/102343</td>\n",
       "    </tr>\n",
       "    <tr>\n",
       "      <th>1</th>\n",
       "      <td>b6206ded-5249-43ae-96fe-6cede3baca09</td>\n",
       "      <td>35183207-c20f-4032-82bc-21c92b3f06cb-2015-10-01</td>\n",
       "      <td>2015-10-01 14:43:32.389</td>\n",
       "      <td>1305</td>\n",
       "      <td>263729c6c47127d4</td>\n",
       "      <td>D6603</td>\n",
       "      <td>Maluma</td>\n",
       "      <td>Borro Cassette</td>\n",
       "      <td>Borro Cassette</td>\n",
       "      <td>Spotify</td>\n",
       "      <td>2015-10-01 14:43:32.389</td>\n",
       "      <td>216</td>\n",
       "      <td>spotify:track:2ocDZVhBiGCaaZRNW3fmSd</td>\n",
       "      <td>None</td>\n",
       "    </tr>\n",
       "    <tr>\n",
       "      <th>2</th>\n",
       "      <td>b64429b5-59a1-4398-9276-6dc400815f8e</td>\n",
       "      <td>41aaa6e7-2c79-4c18-822f-77ec9dfa56a3-2016-07-09</td>\n",
       "      <td>2016-07-09 04:14:19.157</td>\n",
       "      <td>5056</td>\n",
       "      <td>771c4550615a05cd</td>\n",
       "      <td>SOV32</td>\n",
       "      <td>UNISON SQUARE GARDEN</td>\n",
       "      <td>シュガーソングとビターステップ</td>\n",
       "      <td>UNISON SQUARE GARDEN</td>\n",
       "      <td>Walkman</td>\n",
       "      <td>2016-07-09 04:54:34.187</td>\n",
       "      <td>257</td>\n",
       "      <td>None</td>\n",
       "      <td>content://media/external/audio/media/102344</td>\n",
       "    </tr>\n",
       "    <tr>\n",
       "      <th>3</th>\n",
       "      <td>b6206ded-5249-43ae-96fe-6cede3baca09</td>\n",
       "      <td>35183207-c20f-4032-82bc-21c92b3f06cb-2015-10-01</td>\n",
       "      <td>2015-10-01 14:43:32.389</td>\n",
       "      <td>1305</td>\n",
       "      <td>263729c6c47127d4</td>\n",
       "      <td>D6603</td>\n",
       "      <td>Reykon</td>\n",
       "      <td>Imaginándote (feat. Daddy Yankee)</td>\n",
       "      <td>Imaginándote (feat. Daddy Yankee)</td>\n",
       "      <td>Spotify</td>\n",
       "      <td>2015-10-01 14:47:08.233</td>\n",
       "      <td>224</td>\n",
       "      <td>spotify:track:3AQ1zVx39FvB4yH0bjGgPm</td>\n",
       "      <td>None</td>\n",
       "    </tr>\n",
       "    <tr>\n",
       "      <th>4</th>\n",
       "      <td>b64429b5-59a1-4398-9276-6dc400815f8e</td>\n",
       "      <td>41aaa6e7-2c79-4c18-822f-77ec9dfa56a3-2016-07-09</td>\n",
       "      <td>2016-07-09 04:14:19.157</td>\n",
       "      <td>5056</td>\n",
       "      <td>771c4550615a05cd</td>\n",
       "      <td>SOV32</td>\n",
       "      <td>UNISON SQUARE GARDEN</td>\n",
       "      <td>流星のスコール</td>\n",
       "      <td>UNISON SQUARE GARDEN</td>\n",
       "      <td>Walkman</td>\n",
       "      <td>2016-07-09 04:59:12.033</td>\n",
       "      <td>307</td>\n",
       "      <td>None</td>\n",
       "      <td>content://media/external/audio/media/102337</td>\n",
       "    </tr>\n",
       "  </tbody>\n",
       "</table>\n",
       "</div>"
      ],
      "text/plain": [
       "                                user_id  \\\n",
       "0  b64429b5-59a1-4398-9276-6dc400815f8e   \n",
       "1  b6206ded-5249-43ae-96fe-6cede3baca09   \n",
       "2  b64429b5-59a1-4398-9276-6dc400815f8e   \n",
       "3  b6206ded-5249-43ae-96fe-6cede3baca09   \n",
       "4  b64429b5-59a1-4398-9276-6dc400815f8e   \n",
       "\n",
       "                                       activity_id     activity_start_time  \\\n",
       "0  41aaa6e7-2c79-4c18-822f-77ec9dfa56a3-2016-07-09 2016-07-09 04:14:19.157   \n",
       "1  35183207-c20f-4032-82bc-21c92b3f06cb-2015-10-01 2015-10-01 14:43:32.389   \n",
       "2  41aaa6e7-2c79-4c18-822f-77ec9dfa56a3-2016-07-09 2016-07-09 04:14:19.157   \n",
       "3  35183207-c20f-4032-82bc-21c92b3f06cb-2015-10-01 2015-10-01 14:43:32.389   \n",
       "4  41aaa6e7-2c79-4c18-822f-77ec9dfa56a3-2016-07-09 2016-07-09 04:14:19.157   \n",
       "\n",
       "   activity_duration         device_id device_name          track_artist  \\\n",
       "0               5056  771c4550615a05cd       SOV32  UNISON SQUARE GARDEN   \n",
       "1               1305  263729c6c47127d4       D6603                Maluma   \n",
       "2               5056  771c4550615a05cd       SOV32  UNISON SQUARE GARDEN   \n",
       "3               1305  263729c6c47127d4       D6603                Reykon   \n",
       "4               5056  771c4550615a05cd       SOV32  UNISON SQUARE GARDEN   \n",
       "\n",
       "                         track_title                        track_album  \\\n",
       "0                         シャンデリア・ワルツ               UNISON SQUARE GARDEN   \n",
       "1                     Borro Cassette                     Borro Cassette   \n",
       "2                    シュガーソングとビターステップ               UNISON SQUARE GARDEN   \n",
       "3  Imaginándote (feat. Daddy Yankee)  Imaginándote (feat. Daddy Yankee)   \n",
       "4                            流星のスコール               UNISON SQUARE GARDEN   \n",
       "\n",
       "  track_player        track_start_time  track_duration  \\\n",
       "0      Walkman 2016-07-09 04:48:46.629             348   \n",
       "1      Spotify 2015-10-01 14:43:32.389             216   \n",
       "2      Walkman 2016-07-09 04:54:34.187             257   \n",
       "3      Spotify 2015-10-01 14:47:08.233             224   \n",
       "4      Walkman 2016-07-09 04:59:12.033             307   \n",
       "\n",
       "                               track_id  \\\n",
       "0                                  None   \n",
       "1  spotify:track:2ocDZVhBiGCaaZRNW3fmSd   \n",
       "2                                  None   \n",
       "3  spotify:track:3AQ1zVx39FvB4yH0bjGgPm   \n",
       "4                                  None   \n",
       "\n",
       "                                     track_uri  \n",
       "0  content://media/external/audio/media/102343  \n",
       "1                                         None  \n",
       "2  content://media/external/audio/media/102344  \n",
       "3                                         None  \n",
       "4  content://media/external/audio/media/102337  "
      ]
     },
     "execution_count": 2,
     "metadata": {},
     "output_type": "execute_result"
    },
    {
     "name": "stdout",
     "output_type": "stream",
     "text": [
      "time: 49.5 s\n"
     ]
    }
   ],
   "source": [
    "df_path = Config.Path.project_data_root / 'df_clean'\n",
    "df = t.load_data_from_files(df_path, spark, method='parquet')\n",
    "\n",
    "# Drop the column: \"user_id_prefix\".\n",
    "df = df.drop('user_id_prefix')\n",
    "\n",
    "# Set the flag that determines whether the middle results\n",
    "# will be shown.\n",
    "display_middle_results = True\n",
    "\n",
    "# Display the table.\n",
    "if display_middle_results:\n",
    "    df.limit(100).toPandas().head(5)"
   ]
  },
  {
   "cell_type": "markdown",
   "metadata": {},
   "source": [
    "## Count the rows"
   ]
  },
  {
   "cell_type": "code",
   "execution_count": null,
   "metadata": {
    "pycharm": {
     "name": "#%%\n"
    }
   },
   "outputs": [],
   "source": [
    "n_rows_total = df.count()\n",
    "\n",
    "print(f'The total number of rows: {n_rows_total:,.0f}.')"
   ]
  },
  {
   "cell_type": "markdown",
   "metadata": {},
   "source": [
    "## Visualize the amount of undefined cells in each column"
   ]
  },
  {
   "cell_type": "markdown",
   "metadata": {},
   "source": [
    "Count the undefined cells in each column:"
   ]
  },
  {
   "cell_type": "code",
   "execution_count": null,
   "metadata": {
    "pycharm": {
     "name": "#%%\n"
    }
   },
   "outputs": [],
   "source": [
    "## COUNT THE UNDEFINED CELLS\n",
    "\n",
    "# Initialize the dict where the numbers will be stored.\n",
    "n_undefined = dict()\n",
    "pct_undefined = dict()\n",
    "\n",
    "# Count the undefined cells in each column.\n",
    "for column_name in tqdm(df.columns):\n",
    "    n_undefined[column_name] = df.where(f.col(column_name).isNull()).count()\n",
    "    pct_undefined[column_name] = n_undefined[column_name] / n_rows_total * 100\n",
    "\n",
    "    \n",
    "## DISPLAY RESULTS AS PANADAS TABLE\n",
    "\n",
    "# Define the column names.\n",
    "property_names = ['Number of cells', 'Percent of total'] \n",
    "\n",
    "# Create a dict representing the data.\n",
    "data = {column_name: [f'{n_undefined[column_name]:,.0f}',\n",
    "                      f'{pct_undefined[column_name]:.2f}']\n",
    "        for column_name in n_undefined.keys()}\n",
    "\n",
    "# Create the pandas dataframe for displaying.\n",
    "dfp_undefined = pd.DataFrame.from_dict(data,\n",
    "                                       orient='index',\n",
    "                                       columns=property_names)\n",
    "\n",
    "# Display the dataframe\n",
    "display(dfp_undefined)\n",
    "\n"
   ]
  },
  {
   "cell_type": "markdown",
   "metadata": {},
   "source": [
    "Create a bargraph represening the percentage of undefined cells in each column:"
   ]
  },
  {
   "cell_type": "code",
   "execution_count": null,
   "metadata": {
    "pycharm": {
     "name": "#%%\n"
    }
   },
   "outputs": [],
   "source": [
    "# Create a barplot showing the percentage of undefined values in each column.\n",
    "axes = sns.barplot(x=list(pct_undefined.keys()),\n",
    "                   y=list(pct_undefined.values()))\n",
    "\n",
    "# Rotate the tick labels for the x-axes.\n",
    "labels = axes.set_xticklabels(axes.get_xticklabels(),\n",
    "                              rotation=45,\n",
    "                              ha='right',\n",
    "                              va='top',\n",
    "                              fontsize=14\n",
    "                             )\n",
    "\n",
    "# Annotate the graph.\n",
    "title = axes.set_title('Percentage of undefined values by column')\n",
    "# x_label = axes.set_xlabel('Column name')\n",
    "y_label = axes.set_ylabel('Percentage of undefined values')\n",
    "\n",
    "# Apply general formatting.\n",
    "w.format_figure(axes.figure)\n",
    "\n",
    "axes.figure.savefig(Config.Path.report_images_root, 'percentage_of_undefined_cells_in_full')"
   ]
  },
  {
   "cell_type": "markdown",
   "metadata": {},
   "source": [
    "## Visualize activities over time"
   ]
  },
  {
   "cell_type": "code",
   "execution_count": null,
   "metadata": {
    "pycharm": {
     "name": "#%%\n"
    },
    "scrolled": true
   },
   "outputs": [],
   "source": [
    "# Compute dataframe showing the number of activities and the total duration\n",
    "# of these activities per day. Order by activity date.\n",
    "df_activity_stats = (\n",
    "    df\n",
    "    .withColumn('activity_date', f.to_date('activity_start_time'))\n",
    "    .groupBy('activity_date')\n",
    "    .agg(f.count('activity_id').alias('n_activities'),\n",
    "         f.sum('activity_duration').alias('activity_duration_sum'))\n",
    "    .orderBy(f.asc('activity_date'))\n",
    ")\n",
    "\n",
    "# Show the top rows\n",
    "df_activity_stats.limit(100).toPandas().head(10)"
   ]
  },
  {
   "cell_type": "code",
   "execution_count": null,
   "metadata": {
    "pycharm": {
     "name": "#%%\n"
    }
   },
   "outputs": [],
   "source": [
    "# # Histogram\n",
    "# buckets = [int(10*1.2**i) for i in range(0,30)]\n",
    "# price_histogram = df_listings_rome.select('price').rdd.flatMap(lambda x: x).histogram(buckets)\n",
    "\n",
    "def get_column(df, column_name):\n",
    "    return df_activity_stats.select(column_name).rdd.flatMap(lambda x: x).collect()\n",
    "\n",
    "date = get_column(df_activity_stats, 'activity_date')\n",
    "n_activities = get_column(df_activity_stats, 'n_activities')\n",
    "duration_sum = get_column(df_activity_stats, 'activity_duration_sum')"
   ]
  },
  {
   "cell_type": "code",
   "execution_count": null,
   "metadata": {},
   "outputs": [],
   "source": [
    "# Create a figure and axes for the plot.\n",
    "figure, axes_left = empty_figure()\n",
    "\n",
    "# Create a twin axes for two different y-axes on the same plot.\n",
    "axes_right = axes_left.twinx()\n",
    "\n",
    "# Plot the data\n",
    "plot_left = axes_left.plot(date, np.array(n_activities) / 1e6,\n",
    "                      color='red',\n",
    "                      label='Number of daily activities')\n",
    "\n",
    "plot_right = axes_right.plot(date, np.array(duration_sum) / (3600 * 1e6),\n",
    "                         color='blue',\n",
    "                         label='Sum of duration of daily activites')\n",
    "\n",
    "\n",
    "# Set titles and labels.\n",
    "title = axes_left.set_title('Daily actvity')\n",
    "xlabel = axes_left.set_xlabel('')\n",
    "ylabel_left = axes_left.set_ylabel('Number of activities [millions]')\n",
    "ylabel_right = axes_right.set_ylabel('Time spent on activities [millions of hours]')\n",
    "\n",
    "# Set tickmarks.\n",
    "axes_left.xaxis.set_major_locator(mdates.YearLocator(1, month=1, day=1))\n",
    "x_lim = axes_left.set_xlim((datetime.datetime(2014, 1, 1), datetime.datetime(2020, 1, 1)))\n",
    "plot = plt.setp(axes_left.get_xticklabels(),\n",
    "                rotation=45,\n",
    "                ha=\"right\",\n",
    "                va='top',\n",
    "                rotation_mode=\"anchor\",\n",
    "                fontsize=14)\n",
    "\n",
    "# Set limits\n",
    "y_lim_left = axes_left.set_ylim((0, 5))\n",
    "y_lim_right = axes_right.set_ylim((0, 5))\n",
    "\n",
    "# Set layout\n",
    "axes = figure.axes\n",
    "for ax in axes:\n",
    "    ax.spines['top'].set_color('white')\n",
    "    ax.set_facecolor(\"white\")\n",
    "    ax.xaxis.label.set_fontsize(18)\n",
    "    ax.yaxis.label.set_fontsize(18)\n",
    "    ax.title.set_fontsize(20)\n",
    "\n",
    "# Set grid\n",
    "axes_left.xaxis.grid(which=\"both\", linewidth=0.5)\n",
    "axes_left.yaxis.grid(which=\"both\", linewidth=0.5)\n",
    "axes_right.grid(None)\n",
    "\n",
    "# Add a legend\n",
    "all_plots = plot_left + plot_right\n",
    "all_labels = [plot.get_label() for plot in all_plots]\n",
    "legend = axes_left.legend(all_plots, all_labels, loc=0)\n",
    "\n",
    "# Save the figure\n",
    "figure.savefig(Config.Path.)"
   ]
  },
  {
   "cell_type": "markdown",
   "metadata": {},
   "source": [
    "<hr style=\"border:2px solid black\"></hr>\n",
    "\n",
    "# Save the dataframe"
   ]
  },
  {
   "cell_type": "code",
   "execution_count": null,
   "metadata": {
    "pycharm": {
     "name": "#%%\n"
    }
   },
   "outputs": [],
   "source": [
    "# Save the start time for timing.\n",
    "start_time = time.time()\n",
    "\n",
    "# Save the dataframe with partitions defined by the first\n",
    "# two letters of the user ID.\n",
    "(df\n",
    " .withColumn('user_id_prefix', f.col('user_id').substr(0,2))\n",
    " .write.mode('overwrite')\n",
    " .partitionBy('user_id_prefix')\n",
    " .parquet(str(Config.Path.project_data_root / 'df_clean_new'))\n",
    ")\n",
    "\n",
    "# Print the execution time.\n",
    "print(f'Execution time: {time.time() - start_time:.5f} s.')"
   ]
  }
 ],
 "metadata": {
  "kernelspec": {
   "display_name": "Python 3",
   "language": "python",
   "name": "python3"
  },
  "language_info": {
   "codemirror_mode": {
    "name": "ipython",
    "version": 3
   },
   "file_extension": ".py",
   "mimetype": "text/x-python",
   "name": "python",
   "nbconvert_exporter": "python",
   "pygments_lexer": "ipython3",
   "version": "3.8.5"
  },
  "toc": {
   "base_numbering": 1,
   "nav_menu": {},
   "number_sections": true,
   "sideBar": true,
   "skip_h1_title": false,
   "title_cell": "Table of Contents",
   "title_sidebar": "Contents",
   "toc_cell": false,
   "toc_position": {
    "height": "calc(100% - 180px)",
    "left": "10px",
    "top": "150px",
    "width": "384px"
   },
   "toc_section_display": true,
   "toc_window_display": true
  },
  "varInspector": {
   "cols": {
    "lenName": 16,
    "lenType": 16,
    "lenVar": 40
   },
   "kernels_config": {
    "python": {
     "delete_cmd_postfix": "",
     "delete_cmd_prefix": "del ",
     "library": "var_list.py",
     "varRefreshCmd": "print(var_dic_list())"
    },
    "r": {
     "delete_cmd_postfix": ") ",
     "delete_cmd_prefix": "rm(",
     "library": "var_list.r",
     "varRefreshCmd": "cat(var_dic_list()) "
    }
   },
   "position": {
    "height": "344.85px",
    "left": "1553px",
    "right": "20px",
    "top": "120px",
    "width": "347px"
   },
   "types_to_exclude": [
    "module",
    "function",
    "builtin_function_or_method",
    "instance",
    "_Feature"
   ],
   "window_display": false
  }
 },
 "nbformat": 4,
 "nbformat_minor": 1
}