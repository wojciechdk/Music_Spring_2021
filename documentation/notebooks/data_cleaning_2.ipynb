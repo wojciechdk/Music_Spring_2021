{
 "cells": [
  {
   "cell_type": "markdown",
   "metadata": {},
   "source": [
    "<hr style=\"border:2px solid black\"></hr>\n",
    "\n",
    "# Initialization"
   ]
  },
  {
   "cell_type": "code",
   "execution_count": 32,
   "metadata": {
    "pycharm": {
     "is_executing": true,
     "name": "#%%\n"
    },
    "scrolled": true
   },
   "outputs": [],
   "source": [
    "%load_ext autotime\n",
    "%matplotlib inline\n",
    "\n",
    "from toolbox.initialize import *\n",
    "\n",
    "\n",
    "# spark.conf.set(\"spark.sql.execution.arrow.pyspark.enabled\", \"true\")"
   ]
  },
  {
   "cell_type": "markdown",
   "metadata": {},
   "source": [
    "<hr style=\"border:2px solid black\"></hr>\n",
    "\n",
    "# Cleaning"
   ]
  },
  {
   "cell_type": "markdown",
   "metadata": {},
   "source": [
    "## Load dataframe"
   ]
  },
  {
   "cell_type": "code",
   "execution_count": 3,
   "metadata": {},
   "outputs": [
    {
     "name": "stdout",
     "output_type": "stream",
     "text": [
      "Loading data from path: \"/data/work/shared/s001284/Music_Project/resources/data/df_clean\".\n",
      "\tExecution time: 0.74388 s.\n"
     ]
    }
   ],
   "source": [
    "df_path = Config.Path.project_data_root / 'df_clean'\n",
    "df = t.load_data_from_files(df_path, spark, method='parquet')\n",
    "df.drop('user_id_prefix')\n",
    "\n",
    "display_middle_results = True"
   ]
  },
  {
   "cell_type": "markdown",
   "metadata": {},
   "source": [
    "## Count the rows"
   ]
  },
  {
   "cell_type": "code",
   "execution_count": 5,
   "metadata": {},
   "outputs": [
    {
     "name": "stdout",
     "output_type": "stream",
     "text": [
      "The total number of rows: 2,530,475,843.\n"
     ]
    }
   ],
   "source": [
    "n_rows_total = df.count()\n",
    "\n",
    "print(f'The total number of rows: {n_rows_total:,.0f}.')"
   ]
  },
  {
   "cell_type": "markdown",
   "metadata": {},
   "source": [
    "## Replace undefined cell vallues with null"
   ]
  },
  {
   "cell_type": "code",
   "execution_count": 4,
   "metadata": {
    "scrolled": true
   },
   "outputs": [
    {
     "data": {
      "text/html": [
       "<div>\n",
       "<style scoped>\n",
       "    .dataframe tbody tr th:only-of-type {\n",
       "        vertical-align: middle;\n",
       "    }\n",
       "\n",
       "    .dataframe tbody tr th {\n",
       "        vertical-align: top;\n",
       "    }\n",
       "\n",
       "    .dataframe thead th {\n",
       "        text-align: right;\n",
       "    }\n",
       "</style>\n",
       "<table border=\"1\" class=\"dataframe\">\n",
       "  <thead>\n",
       "    <tr style=\"text-align: right;\">\n",
       "      <th></th>\n",
       "      <th>user_id</th>\n",
       "      <th>activity_id</th>\n",
       "      <th>activity_start_time</th>\n",
       "      <th>activity_duration</th>\n",
       "      <th>device_id</th>\n",
       "      <th>device_name</th>\n",
       "      <th>track_artist</th>\n",
       "      <th>track_title</th>\n",
       "      <th>track_album</th>\n",
       "      <th>track_player</th>\n",
       "      <th>track_start_time</th>\n",
       "      <th>track_duration</th>\n",
       "      <th>track_id</th>\n",
       "      <th>track_uri</th>\n",
       "      <th>user_id_prefix</th>\n",
       "    </tr>\n",
       "  </thead>\n",
       "  <tbody>\n",
       "    <tr>\n",
       "      <th>0</th>\n",
       "      <td>ed1fbdd5-32d3-4263-94ef-3450cf82364a</td>\n",
       "      <td>2c97fae4-74af-4c17-8718-9c432467fc8b-2017-01-10</td>\n",
       "      <td>2017-01-10 13:31:30.798</td>\n",
       "      <td>2602</td>\n",
       "      <td>c06fb3284aa1f9ea</td>\n",
       "      <td>E6553</td>\n",
       "      <td>Iyaz</td>\n",
       "      <td>So Big</td>\n",
       "      <td>Replay</td>\n",
       "      <td>Walkman</td>\n",
       "      <td>2017-01-10 14:05:44.539</td>\n",
       "      <td>107</td>\n",
       "      <td>None</td>\n",
       "      <td>content://media/external/audio/media/100444</td>\n",
       "      <td>ed</td>\n",
       "    </tr>\n",
       "    <tr>\n",
       "      <th>1</th>\n",
       "      <td>ed73490c-c303-4587-ab16-f088e4493f50</td>\n",
       "      <td>1d5c77e6-870c-4f0d-a76b-8ac5903f2b3f-2018-08-27</td>\n",
       "      <td>2018-08-27 11:13:13.601</td>\n",
       "      <td>1708</td>\n",
       "      <td>8b0b28d778aaba3f</td>\n",
       "      <td>G8342</td>\n",
       "      <td>None</td>\n",
       "      <td>The Jimi Hendrix Experience - All Along the Wa...</td>\n",
       "      <td>None</td>\n",
       "      <td>Walkman</td>\n",
       "      <td>2018-08-27 11:39:15.741</td>\n",
       "      <td>37</td>\n",
       "      <td>None</td>\n",
       "      <td>content://media/external/audio/media/1391</td>\n",
       "      <td>ed</td>\n",
       "    </tr>\n",
       "    <tr>\n",
       "      <th>2</th>\n",
       "      <td>ed00019c-6190-462c-9d34-836a56c74fad</td>\n",
       "      <td>eb78f26c-f7d2-4f23-a44e-c381534d6e0a-2015-05-31</td>\n",
       "      <td>2015-05-31 19:29:46.853</td>\n",
       "      <td>59</td>\n",
       "      <td>8ef01ab617b6942a</td>\n",
       "      <td>D6503</td>\n",
       "      <td>Tranzpotter</td>\n",
       "      <td>Journey</td>\n",
       "      <td>Tranzpotter</td>\n",
       "      <td>None</td>\n",
       "      <td>2015-05-31 19:29:46.853</td>\n",
       "      <td>45</td>\n",
       "      <td>None</td>\n",
       "      <td>content://media/external/audio/media/14</td>\n",
       "      <td>ed</td>\n",
       "    </tr>\n",
       "    <tr>\n",
       "      <th>3</th>\n",
       "      <td>ed87ece2-d69f-4de0-a891-d384d900248d</td>\n",
       "      <td>fdb8124b-98bf-45c6-b56f-e35b649bef2b-2015-10-29</td>\n",
       "      <td>2015-10-29 06:11:40.617</td>\n",
       "      <td>155</td>\n",
       "      <td>d4489e420d3d63cc</td>\n",
       "      <td>D6603</td>\n",
       "      <td>None</td>\n",
       "      <td>Rage Against The Marmottes - A Ta Santé (Vidéo...</td>\n",
       "      <td>Download</td>\n",
       "      <td>Walkman</td>\n",
       "      <td>2015-10-29 06:11:40.617</td>\n",
       "      <td>155</td>\n",
       "      <td>None</td>\n",
       "      <td>content://media/external/audio/media/106586</td>\n",
       "      <td>ed</td>\n",
       "    </tr>\n",
       "    <tr>\n",
       "      <th>4</th>\n",
       "      <td>ed1fbdd5-32d3-4263-94ef-3450cf82364a</td>\n",
       "      <td>2c97fae4-74af-4c17-8718-9c432467fc8b-2017-01-10</td>\n",
       "      <td>2017-01-10 13:31:30.798</td>\n",
       "      <td>2602</td>\n",
       "      <td>c06fb3284aa1f9ea</td>\n",
       "      <td>E6553</td>\n",
       "      <td>Phil Collins</td>\n",
       "      <td>Something Happened on the Way to Heaven</td>\n",
       "      <td>...But Seriously</td>\n",
       "      <td>Walkman</td>\n",
       "      <td>2017-01-10 14:07:31.310</td>\n",
       "      <td>268</td>\n",
       "      <td>None</td>\n",
       "      <td>content://media/external/audio/media/100344</td>\n",
       "      <td>ed</td>\n",
       "    </tr>\n",
       "  </tbody>\n",
       "</table>\n",
       "</div>"
      ],
      "text/plain": [
       "                                user_id  \\\n",
       "0  ed1fbdd5-32d3-4263-94ef-3450cf82364a   \n",
       "1  ed73490c-c303-4587-ab16-f088e4493f50   \n",
       "2  ed00019c-6190-462c-9d34-836a56c74fad   \n",
       "3  ed87ece2-d69f-4de0-a891-d384d900248d   \n",
       "4  ed1fbdd5-32d3-4263-94ef-3450cf82364a   \n",
       "\n",
       "                                       activity_id     activity_start_time  \\\n",
       "0  2c97fae4-74af-4c17-8718-9c432467fc8b-2017-01-10 2017-01-10 13:31:30.798   \n",
       "1  1d5c77e6-870c-4f0d-a76b-8ac5903f2b3f-2018-08-27 2018-08-27 11:13:13.601   \n",
       "2  eb78f26c-f7d2-4f23-a44e-c381534d6e0a-2015-05-31 2015-05-31 19:29:46.853   \n",
       "3  fdb8124b-98bf-45c6-b56f-e35b649bef2b-2015-10-29 2015-10-29 06:11:40.617   \n",
       "4  2c97fae4-74af-4c17-8718-9c432467fc8b-2017-01-10 2017-01-10 13:31:30.798   \n",
       "\n",
       "   activity_duration         device_id device_name  track_artist  \\\n",
       "0               2602  c06fb3284aa1f9ea       E6553          Iyaz   \n",
       "1               1708  8b0b28d778aaba3f       G8342          None   \n",
       "2                 59  8ef01ab617b6942a       D6503   Tranzpotter   \n",
       "3                155  d4489e420d3d63cc       D6603          None   \n",
       "4               2602  c06fb3284aa1f9ea       E6553  Phil Collins   \n",
       "\n",
       "                                         track_title       track_album  \\\n",
       "0                                             So Big            Replay   \n",
       "1  The Jimi Hendrix Experience - All Along the Wa...              None   \n",
       "2                                            Journey       Tranzpotter   \n",
       "3  Rage Against The Marmottes - A Ta Santé (Vidéo...          Download   \n",
       "4            Something Happened on the Way to Heaven  ...But Seriously   \n",
       "\n",
       "  track_player        track_start_time  track_duration track_id  \\\n",
       "0      Walkman 2017-01-10 14:05:44.539             107     None   \n",
       "1      Walkman 2018-08-27 11:39:15.741              37     None   \n",
       "2         None 2015-05-31 19:29:46.853              45     None   \n",
       "3      Walkman 2015-10-29 06:11:40.617             155     None   \n",
       "4      Walkman 2017-01-10 14:07:31.310             268     None   \n",
       "\n",
       "                                     track_uri user_id_prefix  \n",
       "0  content://media/external/audio/media/100444             ed  \n",
       "1    content://media/external/audio/media/1391             ed  \n",
       "2      content://media/external/audio/media/14             ed  \n",
       "3  content://media/external/audio/media/106586             ed  \n",
       "4  content://media/external/audio/media/100344             ed  "
      ]
     },
     "execution_count": 4,
     "metadata": {},
     "output_type": "execute_result"
    },
    {
     "name": "stdout",
     "output_type": "stream",
     "text": [
      "Execution time: 3.17965 s.\n"
     ]
    }
   ],
   "source": [
    "# Save the start time for timing.\n",
    "start_time = time.time()\n",
    "\n",
    "# Define a function that will replace cells with empty \n",
    "# or undefined values with null.\n",
    "def replace_invalid_with_null(column_name):\n",
    "    return (f.when(((f.col(column_name) == '')\n",
    "                   | (f.col(column_name) == '<unknown>')\n",
    "                   | (f.col(column_name).contains( '�'))),\n",
    "                  None)\n",
    "            .otherwise(f.col(column_name))\n",
    "           )\n",
    "\n",
    "# Define the expression thaw will be used together with the \n",
    "# \"select\" statement to replace undefined values with null.\n",
    "expression_replace_invalid_with_null = \\\n",
    "    [replace_invalid_with_null(column_name).alias(column_name)\n",
    "     for column_name in df.columns]\n",
    "\n",
    "# Execute the cleaning.\n",
    "df_clean = df.select(*expression_replace_invalid_with_null)\n",
    "    \n",
    "# Show the top rows of the resulting dataframe.\n",
    "if display_middle_results:\n",
    "    df_clean.limit(100).toPandas().head()\n",
    "\n",
    "# Show the execution time.\n",
    "print(f'Execution time: {time.time() - start_time:.5f} s.')"
   ]
  },
  {
   "cell_type": "markdown",
   "metadata": {},
   "source": [
    "## Count the undefined cells in each columns"
   ]
  },
  {
   "cell_type": "code",
   "execution_count": 7,
   "metadata": {},
   "outputs": [
    {
     "name": "stdout",
     "output_type": "stream",
     "text": [
      "Number of undefined cells in column \"user_id\": 0 (0.00000 %)\n",
      "Number of undefined cells in column \"activity_id\": 0 (0.00000 %)\n",
      "Number of undefined cells in column \"activity_start_time\": 0 (0.00000 %)\n",
      "Number of undefined cells in column \"activity_duration\": 0 (0.00000 %)\n",
      "Number of undefined cells in column \"device_id\": 7253534 (0.28665 %)\n",
      "Number of undefined cells in column \"device_name\": 7258178 (0.28683 %)\n",
      "Number of undefined cells in column \"track_artist\": 710429434 (28.07493 %)\n",
      "Number of undefined cells in column \"track_title\": 180364595 (7.12769 %)\n",
      "Number of undefined cells in column \"track_album\": 127804616 (5.05062 %)\n",
      "Number of undefined cells in column \"track_player\": 338135480 (13.36253 %)\n",
      "Number of undefined cells in column \"track_start_time\": 0 (0.00000 %)\n",
      "Number of undefined cells in column \"track_duration\": 0 (0.00000 %)\n",
      "Number of undefined cells in column \"track_id\": 2033877221 (80.37529 %)\n",
      "Number of undefined cells in column \"track_uri\": 496936211 (19.63805 %)\n",
      "Number of undefined cells in column \"user_id_prefix\": 0 (0.00000 %)\n",
      "Execution time: 1567.79661 s.\n"
     ]
    }
   ],
   "source": [
    "# Save the start time for timing.\n",
    "start_time = time.time()\n",
    "\n",
    "# Initialize the dict where the numbers will be stored\n",
    "n_undefined = dict()\n",
    "\n",
    "for column_name in df_clean.columns:\n",
    "    n_undefined[column_name] = df_clean.where(f.col(column_name).isNull()).count()\n",
    "    pct_undefined[column_name] = n_undefined[column_name] / n_rows_total * 100\n",
    "    print(f'Number of undefined cells in column \"{column_name}\": '\n",
    "          f'{n_undefined[column_name]} {pct_undefined[column_name]:.2f} %)')\n",
    "\n",
    "# Show the execution time.\n",
    "print(f'Execution time: {time.time() - start_time:.5f} s.')"
   ]
  },
  {
   "cell_type": "code",
   "execution_count": 24,
   "metadata": {
    "scrolled": true
   },
   "outputs": [
    {
     "data": {
      "image/png": "[encoded data removed]",
      "text/plain": [
       "<Figure size 864x576 with 1 Axes>"
      ]
     },
     "metadata": {},
     "output_type": "display_data"
    }
   ],
   "source": [
    "import seaborn as sns\n",
    "\n",
    "pct_undefined = {column_name: n_undefined_in_column / n_rows_total * 100\n",
    "                 for column_name, n_undefined_in_column\n",
    "                 in n_undefined.items()}\n",
    "\n",
    "axes = sns.barplot(x=list(pct_undefined.keys()), y=list(pct_undefined.values()))\n",
    "\n",
    "labels = axes.set_xticklabels(axes.get_xticklabels(),\n",
    "                              rotation=45, \n",
    "                              ha='right',\n",
    "                              va='top')\n",
    "\n",
    "title = axes.set_title('Percentage of undefined values by column')\n",
    "# x_label = axes.set_xlabel('Column name')\n",
    "y_label = axes.set_ylabel('Percentage of undefined values')\n",
    "\n",
    "w.format_figure(axes.figure)\n",
    "\n",
    "# figure, axes = w.empty_figure()\n",
    "# axes.bar()"
   ]
  },
  {
   "cell_type": "markdown",
   "metadata": {},
   "source": [
    "## Investigate activities over time"
   ]
  },
  {
   "cell_type": "code",
   "execution_count": 25,
   "metadata": {},
   "outputs": [
    {
     "data": {
      "text/html": [
       "<div>\n",
       "<style scoped>\n",
       "    .dataframe tbody tr th:only-of-type {\n",
       "        vertical-align: middle;\n",
       "    }\n",
       "\n",
       "    .dataframe tbody tr th {\n",
       "        vertical-align: top;\n",
       "    }\n",
       "\n",
       "    .dataframe thead th {\n",
       "        text-align: right;\n",
       "    }\n",
       "</style>\n",
       "<table border=\"1\" class=\"dataframe\">\n",
       "  <thead>\n",
       "    <tr style=\"text-align: right;\">\n",
       "      <th></th>\n",
       "      <th>activity_start_time</th>\n",
       "      <th>count</th>\n",
       "    </tr>\n",
       "  </thead>\n",
       "  <tbody>\n",
       "    <tr>\n",
       "      <th>0</th>\n",
       "      <td>1970-01-01 10:13:17.640</td>\n",
       "      <td>1</td>\n",
       "    </tr>\n",
       "    <tr>\n",
       "      <th>1</th>\n",
       "      <td>1970-02-01 06:08:41.402</td>\n",
       "      <td>5</td>\n",
       "    </tr>\n",
       "    <tr>\n",
       "      <th>2</th>\n",
       "      <td>1970-02-01 06:46:14.571</td>\n",
       "      <td>8</td>\n",
       "    </tr>\n",
       "    <tr>\n",
       "      <th>3</th>\n",
       "      <td>2000-01-01 00:01:25.232</td>\n",
       "      <td>17</td>\n",
       "    </tr>\n",
       "    <tr>\n",
       "      <th>4</th>\n",
       "      <td>2013-06-11 15:27:50.300</td>\n",
       "      <td>3</td>\n",
       "    </tr>\n",
       "    <tr>\n",
       "      <th>5</th>\n",
       "      <td>2013-08-21 15:14:05.780</td>\n",
       "      <td>1</td>\n",
       "    </tr>\n",
       "    <tr>\n",
       "      <th>6</th>\n",
       "      <td>2013-09-04 18:09:54.913</td>\n",
       "      <td>1</td>\n",
       "    </tr>\n",
       "    <tr>\n",
       "      <th>7</th>\n",
       "      <td>2013-09-14 07:02:40.225</td>\n",
       "      <td>1</td>\n",
       "    </tr>\n",
       "    <tr>\n",
       "      <th>8</th>\n",
       "      <td>2013-09-14 11:45:38.080</td>\n",
       "      <td>4</td>\n",
       "    </tr>\n",
       "    <tr>\n",
       "      <th>9</th>\n",
       "      <td>2013-09-20 21:00:58.980</td>\n",
       "      <td>1</td>\n",
       "    </tr>\n",
       "  </tbody>\n",
       "</table>\n",
       "</div>"
      ],
      "text/plain": [
       "      activity_start_time  count\n",
       "0 1970-01-01 10:13:17.640      1\n",
       "1 1970-02-01 06:08:41.402      5\n",
       "2 1970-02-01 06:46:14.571      8\n",
       "3 2000-01-01 00:01:25.232     17\n",
       "4 2013-06-11 15:27:50.300      3\n",
       "5 2013-08-21 15:14:05.780      1\n",
       "6 2013-09-04 18:09:54.913      1\n",
       "7 2013-09-14 07:02:40.225      1\n",
       "8 2013-09-14 11:45:38.080      4\n",
       "9 2013-09-20 21:00:58.980      1"
      ]
     },
     "execution_count": 25,
     "metadata": {},
     "output_type": "execute_result"
    }
   ],
   "source": [
    "# Save the start time for timing.\n",
    "start_time = time.time()\n",
    "\n",
    "# Compute dataframe showing progress of Rome popularity per time\n",
    "# Order by review date.\n",
    "df_activity_over_time = (\n",
    "    df_clean\n",
    "    .groupBy('activity_start_time')\n",
    "    .count()\n",
    "    .orderBy(f.asc('activity_start_time'))\n",
    "    )\n",
    "\n",
    "# Show the top rows\n",
    "df_activity_over_time.limit(100).toPandas().head(10)\n",
    "\n",
    "# Show the execution time.\n",
    "print(f'Execution time: {time.time() - start_time:.5f} s.')"
   ]
  },
  {
   "cell_type": "code",
   "execution_count": 28,
   "metadata": {},
   "outputs": [
    {
     "data": {
      "text/html": [
       "<div>\n",
       "<style scoped>\n",
       "    .dataframe tbody tr th:only-of-type {\n",
       "        vertical-align: middle;\n",
       "    }\n",
       "\n",
       "    .dataframe tbody tr th {\n",
       "        vertical-align: top;\n",
       "    }\n",
       "\n",
       "    .dataframe thead th {\n",
       "        text-align: right;\n",
       "    }\n",
       "</style>\n",
       "<table border=\"1\" class=\"dataframe\">\n",
       "  <thead>\n",
       "    <tr style=\"text-align: right;\">\n",
       "      <th></th>\n",
       "      <th>activity_date</th>\n",
       "      <th>n_activities</th>\n",
       "      <th>activity_duration_sum</th>\n",
       "    </tr>\n",
       "  </thead>\n",
       "  <tbody>\n",
       "    <tr>\n",
       "      <th>0</th>\n",
       "      <td>1970-01-01</td>\n",
       "      <td>1</td>\n",
       "      <td>15</td>\n",
       "    </tr>\n",
       "    <tr>\n",
       "      <th>1</th>\n",
       "      <td>1970-02-01</td>\n",
       "      <td>13</td>\n",
       "      <td>20683</td>\n",
       "    </tr>\n",
       "    <tr>\n",
       "      <th>2</th>\n",
       "      <td>2000-01-01</td>\n",
       "      <td>17</td>\n",
       "      <td>35343</td>\n",
       "    </tr>\n",
       "    <tr>\n",
       "      <th>3</th>\n",
       "      <td>2013-06-11</td>\n",
       "      <td>3</td>\n",
       "      <td>873</td>\n",
       "    </tr>\n",
       "    <tr>\n",
       "      <th>4</th>\n",
       "      <td>2013-08-21</td>\n",
       "      <td>1</td>\n",
       "      <td>13</td>\n",
       "    </tr>\n",
       "    <tr>\n",
       "      <th>5</th>\n",
       "      <td>2013-09-04</td>\n",
       "      <td>1</td>\n",
       "      <td>1</td>\n",
       "    </tr>\n",
       "    <tr>\n",
       "      <th>6</th>\n",
       "      <td>2013-09-14</td>\n",
       "      <td>5</td>\n",
       "      <td>2008</td>\n",
       "    </tr>\n",
       "    <tr>\n",
       "      <th>7</th>\n",
       "      <td>2013-09-20</td>\n",
       "      <td>1</td>\n",
       "      <td>8</td>\n",
       "    </tr>\n",
       "    <tr>\n",
       "      <th>8</th>\n",
       "      <td>2013-09-26</td>\n",
       "      <td>12</td>\n",
       "      <td>26184</td>\n",
       "    </tr>\n",
       "    <tr>\n",
       "      <th>9</th>\n",
       "      <td>2013-09-28</td>\n",
       "      <td>1</td>\n",
       "      <td>18</td>\n",
       "    </tr>\n",
       "  </tbody>\n",
       "</table>\n",
       "</div>"
      ],
      "text/plain": [
       "  activity_date  n_activities  activity_duration_sum\n",
       "0    1970-01-01             1                     15\n",
       "1    1970-02-01            13                  20683\n",
       "2    2000-01-01            17                  35343\n",
       "3    2013-06-11             3                    873\n",
       "4    2013-08-21             1                     13\n",
       "5    2013-09-04             1                      1\n",
       "6    2013-09-14             5                   2008\n",
       "7    2013-09-20             1                      8\n",
       "8    2013-09-26            12                  26184\n",
       "9    2013-09-28             1                     18"
      ]
     },
     "execution_count": 28,
     "metadata": {},
     "output_type": "execute_result"
    },
    {
     "name": "stdout",
     "output_type": "stream",
     "text": [
      "Execution time: 761.29157 s.\n"
     ]
    }
   ],
   "source": [
    "# Save the start time for timing.\n",
    "start_time = time.time()\n",
    "\n",
    "# Compute dataframe showing progress of Rome popularity per time\n",
    "# Order by review date.\n",
    "df_activity_stats = (\n",
    "    df_clean\n",
    "    .withColumn('activity_date', f.to_date('activity_start_time'))\n",
    "    .groupBy('activity_date')\n",
    "    .agg(f.count('activity_id').alias('n_activities'),\n",
    "         f.sum('activity_duration').alias('activity_duration_sum'))\n",
    "    .orderBy(f.asc('activity_date'))\n",
    ")\n",
    "\n",
    "# Show the top rows\n",
    "df_activity_stats.limit(100).toPandas().head(10)\n",
    "    \n",
    "# Show the execution time.\n",
    "print(f'Execution time: {time.time() - start_time:.5f} s.')"
   ]
  },
  {
   "cell_type": "code",
   "execution_count": 29,
   "metadata": {},
   "outputs": [],
   "source": [
    "import matplotlib.dates as mdates\n",
    "import matplotlib.pyplot as plt"
   ]
  },
  {
   "cell_type": "code",
   "execution_count": 33,
   "metadata": {},
   "outputs": [
    {
     "name": "stdout",
     "output_type": "stream",
     "text": [
      "time: 12min 40s\n"
     ]
    }
   ],
   "source": [
    "# # Save the start time for timing.\n",
    "# start_time = time.time()\n",
    "\n",
    "df_activity_stats_pd = df_activity_stats.toPandas()\n",
    "\n",
    "# # Show the execution time.\n",
    "# print(f'Execution time: {time.time() - start_time:.5f} s.')"
   ]
  },
  {
   "cell_type": "code",
   "execution_count": 40,
   "metadata": {},
   "outputs": [
    {
     "name": "stdout",
     "output_type": "stream",
     "text": [
      "time: 489 µs\n"
     ]
    }
   ],
   "source": [
    "import datetime\n"
   ]
  },
  {
   "cell_type": "code",
   "execution_count": 44,
   "metadata": {},
   "outputs": [
    {
     "data": {
      "text/plain": [
       "<AxesSubplot:xlabel='activity_date'>"
      ]
     },
     "execution_count": 44,
     "metadata": {},
     "output_type": "execute_result"
    },
    {
     "data": {
      "text/plain": [
       "Text(0.5, 1.0, 'Number of activities over time')"
      ]
     },
     "execution_count": 44,
     "metadata": {},
     "output_type": "execute_result"
    },
    {
     "data": {
      "text/plain": [
       "Text(0.5, 0, '')"
      ]
     },
     "execution_count": 44,
     "metadata": {},
     "output_type": "execute_result"
    },
    {
     "data": {
      "text/plain": [
       "Text(0, 0.5, 'Number of activities')"
      ]
     },
     "execution_count": 44,
     "metadata": {},
     "output_type": "execute_result"
    },
    {
     "data": {
      "text/plain": [
       "(16071.0, 18262.0)"
      ]
     },
     "execution_count": 44,
     "metadata": {},
     "output_type": "execute_result"
    },
    {
     "name": "stdout",
     "output_type": "stream",
     "text": [
      "Execution time: 5111.67361 s.\n"
     ]
    },
    {
     "data": {
      "image/png": "[encoded data removed]",
      "text/plain": [
       "<Figure size 864x576 with 1 Axes>"
      ]
     },
     "metadata": {
      "needs_background": "light"
     },
     "output_type": "display_data"
    },
    {
     "name": "stdout",
     "output_type": "stream",
     "text": [
      "time: 199 ms\n"
     ]
    }
   ],
   "source": [
    "# Create a figure and axes for the plot.\n",
    "figure, axes = w.empty_figure()\n",
    "\n",
    "# Plot Rome popularity over time on the created axes\n",
    "df_activity_stats_pd.plot(\n",
    "    kind='line',\n",
    "    color=sns.color_palette(),\n",
    "    legend=False,\n",
    "    ax=axes,\n",
    "    x='activity_date',\n",
    "    y=[\"n_activities\"]\n",
    " )\n",
    "\n",
    "# Format the axes\n",
    "axes.grid()\n",
    "axes.set_title('Number of activities over time')\n",
    "axes.set_xlabel('')\n",
    "axes.set_ylabel('Number of activities')\n",
    "axes.xaxis.set_major_locator(mdates.YearLocator(1, month=1, day=1))\n",
    "axes.set_xlim((datetime.datetime(2014, 1, 1), datetime.datetime(2020, 1, 1)))\n",
    "plot = plt.setp(axes.get_xticklabels(),\n",
    "                rotation=45,\n",
    "                ha=\"right\",\n",
    "                va='top',\n",
    "                rotation_mode=\"anchor\")\n",
    "\n",
    "# Show the execution time.\n",
    "print(f'Execution time: {time.time() - start_time:.5f} s.')"
   ]
  },
  {
   "cell_type": "code",
   "execution_count": 46,
   "metadata": {},
   "outputs": [
    {
     "data": {
      "text/plain": [
       "<AxesSubplot:xlabel='activity_date'>"
      ]
     },
     "execution_count": 46,
     "metadata": {},
     "output_type": "execute_result"
    },
    {
     "data": {
      "text/plain": [
       "Text(0.5, 1.0, 'Time spend on activities over time')"
      ]
     },
     "execution_count": 46,
     "metadata": {},
     "output_type": "execute_result"
    },
    {
     "data": {
      "text/plain": [
       "Text(0.5, 0, '')"
      ]
     },
     "execution_count": 46,
     "metadata": {},
     "output_type": "execute_result"
    },
    {
     "data": {
      "text/plain": [
       "Text(0, 0.5, 'Sum of duration of activities')"
      ]
     },
     "execution_count": 46,
     "metadata": {},
     "output_type": "execute_result"
    },
    {
     "data": {
      "text/plain": [
       "(16071.0, 18262.0)"
      ]
     },
     "execution_count": 46,
     "metadata": {},
     "output_type": "execute_result"
    },
    {
     "name": "stdout",
     "output_type": "stream",
     "text": [
      "Execution time: 5161.75863 s.\n"
     ]
    },
    {
     "data": {
      "image/png": "[encoded data removed]",
      "text/plain": [
       "<Figure size 864x576 with 1 Axes>"
      ]
     },
     "metadata": {
      "needs_background": "light"
     },
     "output_type": "display_data"
    },
    {
     "name": "stdout",
     "output_type": "stream",
     "text": [
      "time: 201 ms\n"
     ]
    }
   ],
   "source": [
    "# Create a figure and axes for the plot.\n",
    "figure, axes = w.empty_figure()\n",
    "\n",
    "# Plot Rome popularity over time on the created axes\n",
    "df_activity_stats_pd.plot(\n",
    "    kind='line',\n",
    "    color=sns.color_palette(),\n",
    "    legend=False,\n",
    "    ax=axes,\n",
    "    x='activity_date',\n",
    "    y=[\"activity_duration_sum\"]\n",
    " )\n",
    "\n",
    "# Format the axes\n",
    "axes.grid()\n",
    "axes.set_title('Time spend on activities over time')\n",
    "axes.set_xlabel('')\n",
    "axes.set_ylabel('Sum of duration of activities')\n",
    "axes.xaxis.set_major_locator(mdates.YearLocator(1, month=1, day=1))\n",
    "axes.set_xlim((datetime.datetime(2014, 1, 1), datetime.datetime(2020, 1, 1)))\n",
    "plot = plt.setp(axes.get_xticklabels(),\n",
    "                rotation=45,\n",
    "                ha=\"right\",\n",
    "                va='top',\n",
    "                rotation_mode=\"anchor\")\n",
    "\n",
    "# Show the execution time.\n",
    "print(f'Execution time: {time.time() - start_time:.5f} s.')"
   ]
  },
  {
   "cell_type": "code",
   "execution_count": 36,
   "metadata": {},
   "outputs": [
    {
     "name": "stdout",
     "output_type": "stream",
     "text": [
      "time: 31min 10s\n"
     ]
    }
   ],
   "source": [
    "# # Histogram\n",
    "# buckets = [int(10*1.2**i) for i in range(0,30)]\n",
    "# price_histogram = df_listings_rome.select('price').rdd.flatMap(lambda x: x).histogram(buckets)\n",
    "\n",
    "def get_column(df, column_name):\n",
    "    return df_activity_stats.select(column_name).rdd.flatMap(lambda x: x).collect()\n",
    "\n",
    "date = get_column(df_activity_stats, 'activity_date')\n",
    "n_activities = get_column(df_activity_stats, 'n_activities')\n",
    "duration_sum = get_column(df_activity_stats, 'activity_duration_sum')"
   ]
  },
  {
   "cell_type": "code",
   "execution_count": 37,
   "metadata": {},
   "outputs": [
    {
     "ename": "TypeError",
     "evalue": "float() argument must be a string or a number, not 'PipelinedRDD'",
     "output_type": "error",
     "traceback": [
      "\u001B[0;31m---------------------------------------------------------------------------\u001B[0m",
      "\u001B[0;31mTypeError\u001B[0m                                 Traceback (most recent call last)",
      "\u001B[0;32m<ipython-input-37-37607620a5f2>\u001B[0m in \u001B[0;36m<module>\u001B[0;34m\u001B[0m\n\u001B[1;32m      2\u001B[0m \u001B[0mfigure\u001B[0m\u001B[0;34m,\u001B[0m \u001B[0maxes\u001B[0m \u001B[0;34m=\u001B[0m \u001B[0mw\u001B[0m\u001B[0;34m.\u001B[0m\u001B[0mempty_figure\u001B[0m\u001B[0;34m(\u001B[0m\u001B[0;34m)\u001B[0m\u001B[0;34m\u001B[0m\u001B[0;34m\u001B[0m\u001B[0m\n\u001B[1;32m      3\u001B[0m \u001B[0;34m\u001B[0m\u001B[0m\n\u001B[0;32m----> 4\u001B[0;31m \u001B[0maxes\u001B[0m\u001B[0;34m.\u001B[0m\u001B[0mplot\u001B[0m\u001B[0;34m(\u001B[0m\u001B[0mdate\u001B[0m\u001B[0;34m,\u001B[0m \u001B[0mn_activities\u001B[0m\u001B[0;34m)\u001B[0m\u001B[0;34m\u001B[0m\u001B[0;34m\u001B[0m\u001B[0m\n\u001B[0m",
      "\u001B[0;32m~/.conda/envs/env_bigdata/lib/python3.8/site-packages/matplotlib/axes/_axes.py\u001B[0m in \u001B[0;36mplot\u001B[0;34m(self, scalex, scaley, data, *args, **kwargs)\u001B[0m\n\u001B[1;32m   1743\u001B[0m         \u001B[0mlines\u001B[0m \u001B[0;34m=\u001B[0m \u001B[0;34m[\u001B[0m\u001B[0;34m*\u001B[0m\u001B[0mself\u001B[0m\u001B[0;34m.\u001B[0m\u001B[0m_get_lines\u001B[0m\u001B[0;34m(\u001B[0m\u001B[0;34m*\u001B[0m\u001B[0margs\u001B[0m\u001B[0;34m,\u001B[0m \u001B[0mdata\u001B[0m\u001B[0;34m=\u001B[0m\u001B[0mdata\u001B[0m\u001B[0;34m,\u001B[0m \u001B[0;34m**\u001B[0m\u001B[0mkwargs\u001B[0m\u001B[0;34m)\u001B[0m\u001B[0;34m]\u001B[0m\u001B[0;34m\u001B[0m\u001B[0;34m\u001B[0m\u001B[0m\n\u001B[1;32m   1744\u001B[0m         \u001B[0;32mfor\u001B[0m \u001B[0mline\u001B[0m \u001B[0;32min\u001B[0m \u001B[0mlines\u001B[0m\u001B[0;34m:\u001B[0m\u001B[0;34m\u001B[0m\u001B[0;34m\u001B[0m\u001B[0m\n\u001B[0;32m-> 1745\u001B[0;31m             \u001B[0mself\u001B[0m\u001B[0;34m.\u001B[0m\u001B[0madd_line\u001B[0m\u001B[0;34m(\u001B[0m\u001B[0mline\u001B[0m\u001B[0;34m)\u001B[0m\u001B[0;34m\u001B[0m\u001B[0;34m\u001B[0m\u001B[0m\n\u001B[0m\u001B[1;32m   1746\u001B[0m         \u001B[0mself\u001B[0m\u001B[0;34m.\u001B[0m\u001B[0m_request_autoscale_view\u001B[0m\u001B[0;34m(\u001B[0m\u001B[0mscalex\u001B[0m\u001B[0;34m=\u001B[0m\u001B[0mscalex\u001B[0m\u001B[0;34m,\u001B[0m \u001B[0mscaley\u001B[0m\u001B[0;34m=\u001B[0m\u001B[0mscaley\u001B[0m\u001B[0;34m)\u001B[0m\u001B[0;34m\u001B[0m\u001B[0;34m\u001B[0m\u001B[0m\n\u001B[1;32m   1747\u001B[0m         \u001B[0;32mreturn\u001B[0m \u001B[0mlines\u001B[0m\u001B[0;34m\u001B[0m\u001B[0;34m\u001B[0m\u001B[0m\n",
      "\u001B[0;32m~/.conda/envs/env_bigdata/lib/python3.8/site-packages/matplotlib/axes/_base.py\u001B[0m in \u001B[0;36madd_line\u001B[0;34m(self, line)\u001B[0m\n\u001B[1;32m   1962\u001B[0m             \u001B[0mline\u001B[0m\u001B[0;34m.\u001B[0m\u001B[0mset_clip_path\u001B[0m\u001B[0;34m(\u001B[0m\u001B[0mself\u001B[0m\u001B[0;34m.\u001B[0m\u001B[0mpatch\u001B[0m\u001B[0;34m)\u001B[0m\u001B[0;34m\u001B[0m\u001B[0;34m\u001B[0m\u001B[0m\n\u001B[1;32m   1963\u001B[0m \u001B[0;34m\u001B[0m\u001B[0m\n\u001B[0;32m-> 1964\u001B[0;31m         \u001B[0mself\u001B[0m\u001B[0;34m.\u001B[0m\u001B[0m_update_line_limits\u001B[0m\u001B[0;34m(\u001B[0m\u001B[0mline\u001B[0m\u001B[0;34m)\u001B[0m\u001B[0;34m\u001B[0m\u001B[0;34m\u001B[0m\u001B[0m\n\u001B[0m\u001B[1;32m   1965\u001B[0m         \u001B[0;32mif\u001B[0m \u001B[0;32mnot\u001B[0m \u001B[0mline\u001B[0m\u001B[0;34m.\u001B[0m\u001B[0mget_label\u001B[0m\u001B[0;34m(\u001B[0m\u001B[0;34m)\u001B[0m\u001B[0;34m:\u001B[0m\u001B[0;34m\u001B[0m\u001B[0;34m\u001B[0m\u001B[0m\n\u001B[1;32m   1966\u001B[0m             \u001B[0mline\u001B[0m\u001B[0;34m.\u001B[0m\u001B[0mset_label\u001B[0m\u001B[0;34m(\u001B[0m\u001B[0;34m'_line%d'\u001B[0m \u001B[0;34m%\u001B[0m \u001B[0mlen\u001B[0m\u001B[0;34m(\u001B[0m\u001B[0mself\u001B[0m\u001B[0;34m.\u001B[0m\u001B[0mlines\u001B[0m\u001B[0;34m)\u001B[0m\u001B[0;34m)\u001B[0m\u001B[0;34m\u001B[0m\u001B[0;34m\u001B[0m\u001B[0m\n",
      "\u001B[0;32m~/.conda/envs/env_bigdata/lib/python3.8/site-packages/matplotlib/axes/_base.py\u001B[0m in \u001B[0;36m_update_line_limits\u001B[0;34m(self, line)\u001B[0m\n\u001B[1;32m   1984\u001B[0m         \u001B[0mFigures\u001B[0m \u001B[0mout\u001B[0m \u001B[0mthe\u001B[0m \u001B[0mdata\u001B[0m \u001B[0mlimit\u001B[0m \u001B[0mof\u001B[0m \u001B[0mthe\u001B[0m \u001B[0mgiven\u001B[0m \u001B[0mline\u001B[0m\u001B[0;34m,\u001B[0m \u001B[0mupdating\u001B[0m \u001B[0mself\u001B[0m\u001B[0;34m.\u001B[0m\u001B[0mdataLim\u001B[0m\u001B[0;34m.\u001B[0m\u001B[0;34m\u001B[0m\u001B[0;34m\u001B[0m\u001B[0m\n\u001B[1;32m   1985\u001B[0m         \"\"\"\n\u001B[0;32m-> 1986\u001B[0;31m         \u001B[0mpath\u001B[0m \u001B[0;34m=\u001B[0m \u001B[0mline\u001B[0m\u001B[0;34m.\u001B[0m\u001B[0mget_path\u001B[0m\u001B[0;34m(\u001B[0m\u001B[0;34m)\u001B[0m\u001B[0;34m\u001B[0m\u001B[0;34m\u001B[0m\u001B[0m\n\u001B[0m\u001B[1;32m   1987\u001B[0m         \u001B[0;32mif\u001B[0m \u001B[0mpath\u001B[0m\u001B[0;34m.\u001B[0m\u001B[0mvertices\u001B[0m\u001B[0;34m.\u001B[0m\u001B[0msize\u001B[0m \u001B[0;34m==\u001B[0m \u001B[0;36m0\u001B[0m\u001B[0;34m:\u001B[0m\u001B[0;34m\u001B[0m\u001B[0;34m\u001B[0m\u001B[0m\n\u001B[1;32m   1988\u001B[0m             \u001B[0;32mreturn\u001B[0m\u001B[0;34m\u001B[0m\u001B[0;34m\u001B[0m\u001B[0m\n",
      "\u001B[0;32m~/.conda/envs/env_bigdata/lib/python3.8/site-packages/matplotlib/lines.py\u001B[0m in \u001B[0;36mget_path\u001B[0;34m(self)\u001B[0m\n\u001B[1;32m   1009\u001B[0m         \"\"\"\n\u001B[1;32m   1010\u001B[0m         \u001B[0;32mif\u001B[0m \u001B[0mself\u001B[0m\u001B[0;34m.\u001B[0m\u001B[0m_invalidy\u001B[0m \u001B[0;32mor\u001B[0m \u001B[0mself\u001B[0m\u001B[0;34m.\u001B[0m\u001B[0m_invalidx\u001B[0m\u001B[0;34m:\u001B[0m\u001B[0;34m\u001B[0m\u001B[0;34m\u001B[0m\u001B[0m\n\u001B[0;32m-> 1011\u001B[0;31m             \u001B[0mself\u001B[0m\u001B[0;34m.\u001B[0m\u001B[0mrecache\u001B[0m\u001B[0;34m(\u001B[0m\u001B[0;34m)\u001B[0m\u001B[0;34m\u001B[0m\u001B[0;34m\u001B[0m\u001B[0m\n\u001B[0m\u001B[1;32m   1012\u001B[0m         \u001B[0;32mreturn\u001B[0m \u001B[0mself\u001B[0m\u001B[0;34m.\u001B[0m\u001B[0m_path\u001B[0m\u001B[0;34m\u001B[0m\u001B[0;34m\u001B[0m\u001B[0m\n\u001B[1;32m   1013\u001B[0m \u001B[0;34m\u001B[0m\u001B[0m\n",
      "\u001B[0;32m~/.conda/envs/env_bigdata/lib/python3.8/site-packages/matplotlib/lines.py\u001B[0m in \u001B[0;36mrecache\u001B[0;34m(self, always)\u001B[0m\n\u001B[1;32m    651\u001B[0m         \u001B[0;32mif\u001B[0m \u001B[0malways\u001B[0m \u001B[0;32mor\u001B[0m \u001B[0mself\u001B[0m\u001B[0;34m.\u001B[0m\u001B[0m_invalidx\u001B[0m\u001B[0;34m:\u001B[0m\u001B[0;34m\u001B[0m\u001B[0;34m\u001B[0m\u001B[0m\n\u001B[1;32m    652\u001B[0m             \u001B[0mxconv\u001B[0m \u001B[0;34m=\u001B[0m \u001B[0mself\u001B[0m\u001B[0;34m.\u001B[0m\u001B[0mconvert_xunits\u001B[0m\u001B[0;34m(\u001B[0m\u001B[0mself\u001B[0m\u001B[0;34m.\u001B[0m\u001B[0m_xorig\u001B[0m\u001B[0;34m)\u001B[0m\u001B[0;34m\u001B[0m\u001B[0;34m\u001B[0m\u001B[0m\n\u001B[0;32m--> 653\u001B[0;31m             \u001B[0mx\u001B[0m \u001B[0;34m=\u001B[0m \u001B[0m_to_unmasked_float_array\u001B[0m\u001B[0;34m(\u001B[0m\u001B[0mxconv\u001B[0m\u001B[0;34m)\u001B[0m\u001B[0;34m.\u001B[0m\u001B[0mravel\u001B[0m\u001B[0;34m(\u001B[0m\u001B[0;34m)\u001B[0m\u001B[0;34m\u001B[0m\u001B[0;34m\u001B[0m\u001B[0m\n\u001B[0m\u001B[1;32m    654\u001B[0m         \u001B[0;32melse\u001B[0m\u001B[0;34m:\u001B[0m\u001B[0;34m\u001B[0m\u001B[0;34m\u001B[0m\u001B[0m\n\u001B[1;32m    655\u001B[0m             \u001B[0mx\u001B[0m \u001B[0;34m=\u001B[0m \u001B[0mself\u001B[0m\u001B[0;34m.\u001B[0m\u001B[0m_x\u001B[0m\u001B[0;34m\u001B[0m\u001B[0;34m\u001B[0m\u001B[0m\n",
      "\u001B[0;32m~/.conda/envs/env_bigdata/lib/python3.8/site-packages/matplotlib/cbook/__init__.py\u001B[0m in \u001B[0;36m_to_unmasked_float_array\u001B[0;34m(x)\u001B[0m\n\u001B[1;32m   1287\u001B[0m         \u001B[0;32mreturn\u001B[0m \u001B[0mnp\u001B[0m\u001B[0;34m.\u001B[0m\u001B[0mma\u001B[0m\u001B[0;34m.\u001B[0m\u001B[0masarray\u001B[0m\u001B[0;34m(\u001B[0m\u001B[0mx\u001B[0m\u001B[0;34m,\u001B[0m \u001B[0mfloat\u001B[0m\u001B[0;34m)\u001B[0m\u001B[0;34m.\u001B[0m\u001B[0mfilled\u001B[0m\u001B[0;34m(\u001B[0m\u001B[0mnp\u001B[0m\u001B[0;34m.\u001B[0m\u001B[0mnan\u001B[0m\u001B[0;34m)\u001B[0m\u001B[0;34m\u001B[0m\u001B[0;34m\u001B[0m\u001B[0m\n\u001B[1;32m   1288\u001B[0m     \u001B[0;32melse\u001B[0m\u001B[0;34m:\u001B[0m\u001B[0;34m\u001B[0m\u001B[0;34m\u001B[0m\u001B[0m\n\u001B[0;32m-> 1289\u001B[0;31m         \u001B[0;32mreturn\u001B[0m \u001B[0mnp\u001B[0m\u001B[0;34m.\u001B[0m\u001B[0masarray\u001B[0m\u001B[0;34m(\u001B[0m\u001B[0mx\u001B[0m\u001B[0;34m,\u001B[0m \u001B[0mfloat\u001B[0m\u001B[0;34m)\u001B[0m\u001B[0;34m\u001B[0m\u001B[0;34m\u001B[0m\u001B[0m\n\u001B[0m\u001B[1;32m   1290\u001B[0m \u001B[0;34m\u001B[0m\u001B[0m\n\u001B[1;32m   1291\u001B[0m \u001B[0;34m\u001B[0m\u001B[0m\n",
      "\u001B[0;32m~/.conda/envs/env_bigdata/lib/python3.8/site-packages/numpy/core/_asarray.py\u001B[0m in \u001B[0;36masarray\u001B[0;34m(a, dtype, order)\u001B[0m\n\u001B[1;32m     81\u001B[0m \u001B[0;34m\u001B[0m\u001B[0m\n\u001B[1;32m     82\u001B[0m     \"\"\"\n\u001B[0;32m---> 83\u001B[0;31m     \u001B[0;32mreturn\u001B[0m \u001B[0marray\u001B[0m\u001B[0;34m(\u001B[0m\u001B[0ma\u001B[0m\u001B[0;34m,\u001B[0m \u001B[0mdtype\u001B[0m\u001B[0;34m,\u001B[0m \u001B[0mcopy\u001B[0m\u001B[0;34m=\u001B[0m\u001B[0;32mFalse\u001B[0m\u001B[0;34m,\u001B[0m \u001B[0morder\u001B[0m\u001B[0;34m=\u001B[0m\u001B[0morder\u001B[0m\u001B[0;34m)\u001B[0m\u001B[0;34m\u001B[0m\u001B[0;34m\u001B[0m\u001B[0m\n\u001B[0m\u001B[1;32m     84\u001B[0m \u001B[0;34m\u001B[0m\u001B[0m\n\u001B[1;32m     85\u001B[0m \u001B[0;34m\u001B[0m\u001B[0m\n",
      "\u001B[0;31mTypeError\u001B[0m: float() argument must be a string or a number, not 'PipelinedRDD'"
     ]
    },
    {
     "data": {
      "image/png": "[encoded data removed]",
      "text/plain": [
       "<Figure size 864x576 with 1 Axes>"
      ]
     },
     "metadata": {
      "needs_background": "light"
     },
     "output_type": "display_data"
    },
    {
     "name": "stdout",
     "output_type": "stream",
     "text": [
      "time: 216 ms\n"
     ]
    }
   ],
   "source": [
    "# Create a figure and axes for the plot.\n",
    "figure, axes = w.empty_figure()\n",
    "\n",
    "axes.plot(date, n_activities)"
   ]
  },
  {
   "cell_type": "markdown",
   "metadata": {
    "deletable": false,
    "editable": false,
    "run_control": {
     "frozen": true
    }
   },
   "source": [
    "<hr style=\"border:2px solid black\"></hr>\n",
    "\n",
    "# Save the dataframe"
   ]
  },
  {
   "cell_type": "code",
   "execution_count": null,
   "metadata": {
    "deletable": false,
    "editable": false,
    "run_control": {
     "frozen": true
    }
   },
   "outputs": [],
   "source": [
    "# Save the start time for timing.\n",
    "start_time = time.time()\n",
    "\n",
    "# Save the dataframe with partitions defined by the first\n",
    "# two letters of the user ID.\n",
    "(df_clean\n",
    " .withColumn('user_id_prefix', f.col('user_id').substr(0,2))\n",
    " .write.mode('overwrite')\n",
    " .partitionBy('user_id_prefix')\n",
    " .parquet(str(Config.Path.project_data_root / 'df_clean_new'))\n",
    ")\n",
    "\n",
    "# Print the execution time.\n",
    "print(f'Execution time: {time.time() - start_time:.5f} s.')"
   ]
  }
 ],
 "metadata": {
  "kernelspec": {
   "display_name": "Python 3",
   "language": "python",
   "name": "python3"
  },
  "language_info": {
   "codemirror_mode": {
    "name": "ipython",
    "version": 3
   },
   "file_extension": ".py",
   "mimetype": "text/x-python",
   "name": "python",
   "nbconvert_exporter": "python",
   "pygments_lexer": "ipython3",
   "version": "3.8.5"
  },
  "toc": {
   "base_numbering": 1,
   "nav_menu": {},
   "number_sections": true,
   "sideBar": true,
   "skip_h1_title": false,
   "title_cell": "Table of Contents",
   "title_sidebar": "Contents",
   "toc_cell": false,
   "toc_position": {
    "height": "calc(100% - 180px)",
    "left": "10px",
    "top": "150px",
    "width": "384px"
   },
   "toc_section_display": true,
   "toc_window_display": true
  },
  "varInspector": {
   "cols": {
    "lenName": 16,
    "lenType": 16,
    "lenVar": 40
   },
   "kernels_config": {
    "python": {
     "delete_cmd_postfix": "",
     "delete_cmd_prefix": "del ",
     "library": "var_list.py",
     "varRefreshCmd": "print(var_dic_list())"
    },
    "r": {
     "delete_cmd_postfix": ") ",
     "delete_cmd_prefix": "rm(",
     "library": "var_list.r",
     "varRefreshCmd": "cat(var_dic_list()) "
    }
   },
   "position": {
    "height": "344.85px",
    "left": "1553px",
    "right": "20px",
    "top": "120px",
    "width": "347px"
   },
   "types_to_exclude": [
    "module",
    "function",
    "builtin_function_or_method",
    "instance",
    "_Feature"
   ],
   "window_display": false
  }
 },
 "nbformat": 4,
 "nbformat_minor": 1
}