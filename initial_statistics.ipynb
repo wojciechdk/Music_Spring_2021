{
 "cells": [
  {
   "cell_type": "markdown",
   "metadata": {
    "pycharm": {
     "name": "#%% md\n"
    }
   },
   "source": [
    "<p style=\"border:2px solid black\"> </p>\n",
    "<span style=\"font-family:Lucida Bright;\">\n",
    "<p style=\"margin-bottom:0.8cm\"></p>\n",
    "<center>\n",
    "<font size=\"6\"><b>Understanding Music Listening Habits</b></font>\n",
    "<p style=\"margin-bottom:-0.1cm\"></p>\n",
    "<font size=\"6\"><b>Using Large-scale Smartphone Data</b>  </font>\n",
    "    \n",
    "<p style=\"margin-bottom:0.5cm\"></p>\n",
    "<font size=\"3\"><b>Wojciech Mazurkiewicz, DTU, 14 May 2021</b></font>\n",
    "<p style=\"margin-bottom:1cm\"></p>\n",
    "<font size=\"5\"><b>Initial Statistics</b></font>\n",
    "<br>\n",
    "<font size=\"3\"><b></b></font>\n",
    "</center>\n",
    "<p style=\"margin-bottom:0.4cm\"></p>\n",
    "<p style=\"border:2px solid black\"> </p>\n"
   ]
  },
  {
   "cell_type": "markdown",
   "metadata": {},
   "source": [
    "# Initialization\n",
    "<hr style=\"border:2px solid black\"></hr>\n"
   ]
  },
  {
   "cell_type": "markdown",
   "metadata": {},
   "source": [
    "Please note that the pregenerated cell outputs will not display correctly unless the notebook is **trusted**.\n",
    "\n",
    "The initializaiton procedure is defined in the notebook [Initialization](initialization.ipynb)."
   ]
  },
  {
   "cell_type": "code",
   "execution_count": 1,
   "metadata": {
    "ExecuteTime": {
     "end_time": "2021-07-14T10:41:04.253770Z",
     "start_time": "2021-07-14T10:41:01.523097Z"
    }
   },
   "outputs": [],
   "source": [
    "%run initialization.ipynb"
   ]
  },
  {
   "cell_type": "markdown",
   "metadata": {},
   "source": [
    "# Create a Spark session\n",
    "<hr style=\"border:2px solid black\"></hr>\n"
   ]
  },
  {
   "cell_type": "code",
   "execution_count": 2,
   "metadata": {
    "ExecuteTime": {
     "end_time": "2021-07-14T10:41:11.238243Z",
     "start_time": "2021-07-14T10:41:04.256132Z"
    },
    "pycharm": {
     "name": "#%%\n"
    }
   },
   "outputs": [
    {
     "name": "stdout",
     "output_type": "stream",
     "text": [
      "Creating a Spark session.\n",
      "\tExecution time: 6.97632 s.\n"
     ]
    }
   ],
   "source": [
    "#%% Initialize a Spark session.\n",
    "spark = t.spark.create_session('Music_Activity')\n",
    "\n",
    "# Set this for faster conversion from Spark to pandas.\n",
    "spark.conf.set(\"spark.sql.execution.arrow.pyspark.enabled\", \"true\")"
   ]
  },
  {
   "cell_type": "markdown",
   "metadata": {},
   "source": [
    "# Load clean data\n",
    "<hr style=\"border:2px solid black\"></hr>\n"
   ]
  },
  {
   "cell_type": "code",
   "execution_count": 3,
   "metadata": {
    "ExecuteTime": {
     "end_time": "2021-07-14T10:42:21.382352Z",
     "start_time": "2021-07-14T10:41:11.241097Z"
    },
    "scrolled": true
   },
   "outputs": [
    {
     "name": "stdout",
     "output_type": "stream",
     "text": [
      "Loading data from path: \"/data/work/shared/s001284/Music_Project/resources/data/df_clean\".\n",
      "\tExecution time: 6.07922 s.\n"
     ]
    },
    {
     "data": {
      "text/html": [
       "<div>\n",
       "<style scoped>\n",
       "    .dataframe tbody tr th:only-of-type {\n",
       "        vertical-align: middle;\n",
       "    }\n",
       "\n",
       "    .dataframe tbody tr th {\n",
       "        vertical-align: top;\n",
       "    }\n",
       "\n",
       "    .dataframe thead th {\n",
       "        text-align: right;\n",
       "    }\n",
       "</style>\n",
       "<table border=\"1\" class=\"dataframe\">\n",
       "  <thead>\n",
       "    <tr style=\"text-align: right;\">\n",
       "      <th></th>\n",
       "      <th>user_id</th>\n",
       "      <th>activity_id</th>\n",
       "      <th>activity_start_time</th>\n",
       "      <th>activity_duration</th>\n",
       "      <th>device_id</th>\n",
       "      <th>device_name</th>\n",
       "      <th>track_artist</th>\n",
       "      <th>track_title</th>\n",
       "      <th>track_album</th>\n",
       "      <th>track_player</th>\n",
       "      <th>track_start_time</th>\n",
       "      <th>track_playback_duration</th>\n",
       "      <th>track_spotify_uri</th>\n",
       "      <th>track_sony_uri</th>\n",
       "    </tr>\n",
       "  </thead>\n",
       "  <tbody>\n",
       "    <tr>\n",
       "      <th>0</th>\n",
       "      <td>b64429b5-59a1-4398-9276-6dc400815f8e</td>\n",
       "      <td>41aaa6e7-2c79-4c18-822f-77ec9dfa56a3-2016-07-09</td>\n",
       "      <td>2016-07-09 04:14:19.157</td>\n",
       "      <td>5056</td>\n",
       "      <td>771c4550615a05cd</td>\n",
       "      <td>SOV32</td>\n",
       "      <td>UNISON SQUARE GARDEN</td>\n",
       "      <td>シャンデリア・ワルツ</td>\n",
       "      <td>UNISON SQUARE GARDEN</td>\n",
       "      <td>Walkman</td>\n",
       "      <td>2016-07-09 04:48:46.629</td>\n",
       "      <td>348</td>\n",
       "      <td>None</td>\n",
       "      <td>content://media/external/audio/media/102343</td>\n",
       "    </tr>\n",
       "    <tr>\n",
       "      <th>1</th>\n",
       "      <td>b6206ded-5249-43ae-96fe-6cede3baca09</td>\n",
       "      <td>35183207-c20f-4032-82bc-21c92b3f06cb-2015-10-01</td>\n",
       "      <td>2015-10-01 14:43:32.389</td>\n",
       "      <td>1305</td>\n",
       "      <td>263729c6c47127d4</td>\n",
       "      <td>D6603</td>\n",
       "      <td>Maluma</td>\n",
       "      <td>Borro Cassette</td>\n",
       "      <td>Borro Cassette</td>\n",
       "      <td>Spotify</td>\n",
       "      <td>2015-10-01 14:43:32.389</td>\n",
       "      <td>216</td>\n",
       "      <td>spotify:track:2ocDZVhBiGCaaZRNW3fmSd</td>\n",
       "      <td>None</td>\n",
       "    </tr>\n",
       "    <tr>\n",
       "      <th>2</th>\n",
       "      <td>b64429b5-59a1-4398-9276-6dc400815f8e</td>\n",
       "      <td>41aaa6e7-2c79-4c18-822f-77ec9dfa56a3-2016-07-09</td>\n",
       "      <td>2016-07-09 04:14:19.157</td>\n",
       "      <td>5056</td>\n",
       "      <td>771c4550615a05cd</td>\n",
       "      <td>SOV32</td>\n",
       "      <td>UNISON SQUARE GARDEN</td>\n",
       "      <td>シュガーソングとビターステップ</td>\n",
       "      <td>UNISON SQUARE GARDEN</td>\n",
       "      <td>Walkman</td>\n",
       "      <td>2016-07-09 04:54:34.187</td>\n",
       "      <td>257</td>\n",
       "      <td>None</td>\n",
       "      <td>content://media/external/audio/media/102344</td>\n",
       "    </tr>\n",
       "    <tr>\n",
       "      <th>3</th>\n",
       "      <td>b6206ded-5249-43ae-96fe-6cede3baca09</td>\n",
       "      <td>35183207-c20f-4032-82bc-21c92b3f06cb-2015-10-01</td>\n",
       "      <td>2015-10-01 14:43:32.389</td>\n",
       "      <td>1305</td>\n",
       "      <td>263729c6c47127d4</td>\n",
       "      <td>D6603</td>\n",
       "      <td>Reykon</td>\n",
       "      <td>Imaginándote (feat. Daddy Yankee)</td>\n",
       "      <td>Imaginándote (feat. Daddy Yankee)</td>\n",
       "      <td>Spotify</td>\n",
       "      <td>2015-10-01 14:47:08.233</td>\n",
       "      <td>224</td>\n",
       "      <td>spotify:track:3AQ1zVx39FvB4yH0bjGgPm</td>\n",
       "      <td>None</td>\n",
       "    </tr>\n",
       "    <tr>\n",
       "      <th>4</th>\n",
       "      <td>b64429b5-59a1-4398-9276-6dc400815f8e</td>\n",
       "      <td>41aaa6e7-2c79-4c18-822f-77ec9dfa56a3-2016-07-09</td>\n",
       "      <td>2016-07-09 04:14:19.157</td>\n",
       "      <td>5056</td>\n",
       "      <td>771c4550615a05cd</td>\n",
       "      <td>SOV32</td>\n",
       "      <td>UNISON SQUARE GARDEN</td>\n",
       "      <td>流星のスコール</td>\n",
       "      <td>UNISON SQUARE GARDEN</td>\n",
       "      <td>Walkman</td>\n",
       "      <td>2016-07-09 04:59:12.033</td>\n",
       "      <td>307</td>\n",
       "      <td>None</td>\n",
       "      <td>content://media/external/audio/media/102337</td>\n",
       "    </tr>\n",
       "    <tr>\n",
       "      <th>5</th>\n",
       "      <td>b6206ded-5249-43ae-96fe-6cede3baca09</td>\n",
       "      <td>35183207-c20f-4032-82bc-21c92b3f06cb-2015-10-01</td>\n",
       "      <td>2015-10-01 14:43:32.389</td>\n",
       "      <td>1305</td>\n",
       "      <td>263729c6c47127d4</td>\n",
       "      <td>D6603</td>\n",
       "      <td>Calle 13</td>\n",
       "      <td>Atrévete Te Te</td>\n",
       "      <td>Calle 13 (Explicit Version)</td>\n",
       "      <td>Spotify</td>\n",
       "      <td>2015-10-01 14:50:52.873</td>\n",
       "      <td>239</td>\n",
       "      <td>spotify:track:1q8NdCAQ9QUjpYiqzdd3mv</td>\n",
       "      <td>None</td>\n",
       "    </tr>\n",
       "    <tr>\n",
       "      <th>6</th>\n",
       "      <td>b64429b5-59a1-4398-9276-6dc400815f8e</td>\n",
       "      <td>41aaa6e7-2c79-4c18-822f-77ec9dfa56a3-2016-07-09</td>\n",
       "      <td>2016-07-09 04:14:19.157</td>\n",
       "      <td>5056</td>\n",
       "      <td>771c4550615a05cd</td>\n",
       "      <td>SOV32</td>\n",
       "      <td>UNISON SQUARE GARDEN</td>\n",
       "      <td>MR.アンディ</td>\n",
       "      <td>UNISON SQUARE GARDEN</td>\n",
       "      <td>Walkman</td>\n",
       "      <td>2016-07-09 05:04:19.543</td>\n",
       "      <td>347</td>\n",
       "      <td>None</td>\n",
       "      <td>content://media/external/audio/media/102338</td>\n",
       "    </tr>\n",
       "    <tr>\n",
       "      <th>7</th>\n",
       "      <td>b6206ded-5249-43ae-96fe-6cede3baca09</td>\n",
       "      <td>35183207-c20f-4032-82bc-21c92b3f06cb-2015-10-01</td>\n",
       "      <td>2015-10-01 14:43:32.389</td>\n",
       "      <td>1305</td>\n",
       "      <td>263729c6c47127d4</td>\n",
       "      <td>D6603</td>\n",
       "      <td>Mr. Probz</td>\n",
       "      <td>Waves - Robin Schulz Radio Edit</td>\n",
       "      <td>Waves</td>\n",
       "      <td>Spotify</td>\n",
       "      <td>2015-10-01 14:54:51.387</td>\n",
       "      <td>207</td>\n",
       "      <td>spotify:track:5Sf3GyLEAzJXxZ5mbCPXTu</td>\n",
       "      <td>None</td>\n",
       "    </tr>\n",
       "    <tr>\n",
       "      <th>8</th>\n",
       "      <td>b64429b5-59a1-4398-9276-6dc400815f8e</td>\n",
       "      <td>41aaa6e7-2c79-4c18-822f-77ec9dfa56a3-2016-07-09</td>\n",
       "      <td>2016-07-09 04:14:19.157</td>\n",
       "      <td>5056</td>\n",
       "      <td>771c4550615a05cd</td>\n",
       "      <td>SOV32</td>\n",
       "      <td>UNISON SQUARE GARDEN</td>\n",
       "      <td>オリオンをなぞる</td>\n",
       "      <td>UNISON SQUARE GARDEN</td>\n",
       "      <td>Walkman</td>\n",
       "      <td>2016-07-09 05:10:06.732</td>\n",
       "      <td>274</td>\n",
       "      <td>None</td>\n",
       "      <td>content://media/external/audio/media/102339</td>\n",
       "    </tr>\n",
       "    <tr>\n",
       "      <th>9</th>\n",
       "      <td>b6206ded-5249-43ae-96fe-6cede3baca09</td>\n",
       "      <td>35183207-c20f-4032-82bc-21c92b3f06cb-2015-10-01</td>\n",
       "      <td>2015-10-01 14:43:32.389</td>\n",
       "      <td>1305</td>\n",
       "      <td>263729c6c47127d4</td>\n",
       "      <td>D6603</td>\n",
       "      <td>La Arrolladora Banda El Limón De Rene Camacho</td>\n",
       "      <td>Mi Segunda Vida</td>\n",
       "      <td>Gracias Por Creer</td>\n",
       "      <td>Spotify</td>\n",
       "      <td>2015-10-01 14:58:18.674</td>\n",
       "      <td>187</td>\n",
       "      <td>spotify:track:6Z7f0BXDLI8k4CHR9KJdAD</td>\n",
       "      <td>None</td>\n",
       "    </tr>\n",
       "  </tbody>\n",
       "</table>\n",
       "</div>"
      ],
      "text/plain": [
       "                                user_id  \\\n",
       "0  b64429b5-59a1-4398-9276-6dc400815f8e   \n",
       "1  b6206ded-5249-43ae-96fe-6cede3baca09   \n",
       "2  b64429b5-59a1-4398-9276-6dc400815f8e   \n",
       "3  b6206ded-5249-43ae-96fe-6cede3baca09   \n",
       "4  b64429b5-59a1-4398-9276-6dc400815f8e   \n",
       "5  b6206ded-5249-43ae-96fe-6cede3baca09   \n",
       "6  b64429b5-59a1-4398-9276-6dc400815f8e   \n",
       "7  b6206ded-5249-43ae-96fe-6cede3baca09   \n",
       "8  b64429b5-59a1-4398-9276-6dc400815f8e   \n",
       "9  b6206ded-5249-43ae-96fe-6cede3baca09   \n",
       "\n",
       "                                       activity_id     activity_start_time  \\\n",
       "0  41aaa6e7-2c79-4c18-822f-77ec9dfa56a3-2016-07-09 2016-07-09 04:14:19.157   \n",
       "1  35183207-c20f-4032-82bc-21c92b3f06cb-2015-10-01 2015-10-01 14:43:32.389   \n",
       "2  41aaa6e7-2c79-4c18-822f-77ec9dfa56a3-2016-07-09 2016-07-09 04:14:19.157   \n",
       "3  35183207-c20f-4032-82bc-21c92b3f06cb-2015-10-01 2015-10-01 14:43:32.389   \n",
       "4  41aaa6e7-2c79-4c18-822f-77ec9dfa56a3-2016-07-09 2016-07-09 04:14:19.157   \n",
       "5  35183207-c20f-4032-82bc-21c92b3f06cb-2015-10-01 2015-10-01 14:43:32.389   \n",
       "6  41aaa6e7-2c79-4c18-822f-77ec9dfa56a3-2016-07-09 2016-07-09 04:14:19.157   \n",
       "7  35183207-c20f-4032-82bc-21c92b3f06cb-2015-10-01 2015-10-01 14:43:32.389   \n",
       "8  41aaa6e7-2c79-4c18-822f-77ec9dfa56a3-2016-07-09 2016-07-09 04:14:19.157   \n",
       "9  35183207-c20f-4032-82bc-21c92b3f06cb-2015-10-01 2015-10-01 14:43:32.389   \n",
       "\n",
       "   activity_duration         device_id device_name  \\\n",
       "0               5056  771c4550615a05cd       SOV32   \n",
       "1               1305  263729c6c47127d4       D6603   \n",
       "2               5056  771c4550615a05cd       SOV32   \n",
       "3               1305  263729c6c47127d4       D6603   \n",
       "4               5056  771c4550615a05cd       SOV32   \n",
       "5               1305  263729c6c47127d4       D6603   \n",
       "6               5056  771c4550615a05cd       SOV32   \n",
       "7               1305  263729c6c47127d4       D6603   \n",
       "8               5056  771c4550615a05cd       SOV32   \n",
       "9               1305  263729c6c47127d4       D6603   \n",
       "\n",
       "                                    track_artist  \\\n",
       "0                           UNISON SQUARE GARDEN   \n",
       "1                                         Maluma   \n",
       "2                           UNISON SQUARE GARDEN   \n",
       "3                                         Reykon   \n",
       "4                           UNISON SQUARE GARDEN   \n",
       "5                                       Calle 13   \n",
       "6                           UNISON SQUARE GARDEN   \n",
       "7                                      Mr. Probz   \n",
       "8                           UNISON SQUARE GARDEN   \n",
       "9  La Arrolladora Banda El Limón De Rene Camacho   \n",
       "\n",
       "                         track_title                        track_album  \\\n",
       "0                         シャンデリア・ワルツ               UNISON SQUARE GARDEN   \n",
       "1                     Borro Cassette                     Borro Cassette   \n",
       "2                    シュガーソングとビターステップ               UNISON SQUARE GARDEN   \n",
       "3  Imaginándote (feat. Daddy Yankee)  Imaginándote (feat. Daddy Yankee)   \n",
       "4                            流星のスコール               UNISON SQUARE GARDEN   \n",
       "5                     Atrévete Te Te        Calle 13 (Explicit Version)   \n",
       "6                            MR.アンディ               UNISON SQUARE GARDEN   \n",
       "7    Waves - Robin Schulz Radio Edit                              Waves   \n",
       "8                           オリオンをなぞる               UNISON SQUARE GARDEN   \n",
       "9                    Mi Segunda Vida                  Gracias Por Creer   \n",
       "\n",
       "  track_player        track_start_time  track_playback_duration  \\\n",
       "0      Walkman 2016-07-09 04:48:46.629                      348   \n",
       "1      Spotify 2015-10-01 14:43:32.389                      216   \n",
       "2      Walkman 2016-07-09 04:54:34.187                      257   \n",
       "3      Spotify 2015-10-01 14:47:08.233                      224   \n",
       "4      Walkman 2016-07-09 04:59:12.033                      307   \n",
       "5      Spotify 2015-10-01 14:50:52.873                      239   \n",
       "6      Walkman 2016-07-09 05:04:19.543                      347   \n",
       "7      Spotify 2015-10-01 14:54:51.387                      207   \n",
       "8      Walkman 2016-07-09 05:10:06.732                      274   \n",
       "9      Spotify 2015-10-01 14:58:18.674                      187   \n",
       "\n",
       "                      track_spotify_uri  \\\n",
       "0                                  None   \n",
       "1  spotify:track:2ocDZVhBiGCaaZRNW3fmSd   \n",
       "2                                  None   \n",
       "3  spotify:track:3AQ1zVx39FvB4yH0bjGgPm   \n",
       "4                                  None   \n",
       "5  spotify:track:1q8NdCAQ9QUjpYiqzdd3mv   \n",
       "6                                  None   \n",
       "7  spotify:track:5Sf3GyLEAzJXxZ5mbCPXTu   \n",
       "8                                  None   \n",
       "9  spotify:track:6Z7f0BXDLI8k4CHR9KJdAD   \n",
       "\n",
       "                                track_sony_uri  \n",
       "0  content://media/external/audio/media/102343  \n",
       "1                                         None  \n",
       "2  content://media/external/audio/media/102344  \n",
       "3                                         None  \n",
       "4  content://media/external/audio/media/102337  \n",
       "5                                         None  \n",
       "6  content://media/external/audio/media/102338  \n",
       "7                                         None  \n",
       "8  content://media/external/audio/media/102339  \n",
       "9                                         None  "
      ]
     },
     "metadata": {},
     "output_type": "display_data"
    }
   ],
   "source": [
    "# Define the path to the data.\n",
    "data_path = Config.Path.music_data_clean_root\n",
    "\n",
    "# Load the data into a clean dataframe\n",
    "df_full = t.load_data_from_files(data_path,\n",
    "                                 spark,\n",
    "                                 method='parquet')\n",
    "\n",
    "# Drop the column: \"user_id_prefix\".\n",
    "df_full = df_full.drop('user_id_prefix')\n",
    "\n",
    "# Set the flag that determines whether the results\n",
    "# will be shown.\n",
    "display_middle_results = True\n",
    "\n",
    "# Display the table.\n",
    "if display_middle_results:\n",
    "    display(df_full.limit(10).toPandas())"
   ]
  },
  {
   "cell_type": "markdown",
   "metadata": {},
   "source": [
    "# Load saved variables from previous sessions\n",
    "<hr style=\"border:2px solid black\"></hr>\n"
   ]
  },
  {
   "cell_type": "code",
   "execution_count": null,
   "metadata": {
    "ExecuteTime": {
     "end_time": "2021-07-14T15:53:33.835268Z",
     "start_time": "2021-07-14T15:53:33.825577Z"
    }
   },
   "outputs": [],
   "source": [
    "# Load dataframe containing information about number of undefined and distinct entries\n",
    "# in each column.\n",
    "dfp_combined_stats = pd.read_pickle(Config.Path.initial_stats_df_combined_stats)"
   ]
  },
  {
   "cell_type": "code",
   "execution_count": 52,
   "metadata": {
    "ExecuteTime": {
     "end_time": "2021-07-14T15:53:33.835268Z",
     "start_time": "2021-07-14T15:53:33.825577Z"
    },
    "deletable": false,
    "editable": false,
    "run_control": {
     "frozen": true
    }
   },
   "outputs": [],
   "source": [
    "# Load the file that contains the number of playbacsks per activity count.\n",
    "playbacks_per_activity_count = np.load(Config.Path.initial_stats_playbacks_per_activity_counts)    "
   ]
  },
  {
   "cell_type": "markdown",
   "metadata": {},
   "source": [
    "# Turn on caching if desired\n",
    "<hr style=\"border:2px solid black\"></hr>\n"
   ]
  },
  {
   "cell_type": "code",
   "execution_count": 4,
   "metadata": {
    "ExecuteTime": {
     "end_time": "2021-07-11T05:31:04.743765Z",
     "start_time": "2021-07-11T05:31:04.696980Z"
    },
    "deletable": false,
    "editable": false,
    "run_control": {
     "frozen": true
    }
   },
   "outputs": [],
   "source": [
    "# Uncomment to turn on caching.\n",
    "df_full = df_full.cache()"
   ]
  },
  {
   "cell_type": "markdown",
   "metadata": {},
   "source": [
    "# Get the row count of the full database\n",
    "<hr style=\"border:2px solid black\"></hr>\n"
   ]
  },
  {
   "cell_type": "code",
   "execution_count": 5,
   "metadata": {
    "ExecuteTime": {
     "end_time": "2021-07-11T06:41:19.802948Z",
     "start_time": "2021-07-11T05:31:04.745401Z"
    },
    "deletable": false,
    "editable": false,
    "run_control": {
     "frozen": true
    }
   },
   "outputs": [
    {
     "data": {
      "text/markdown": [
       "Number of rows in the the full databse: **2,530,475,843**"
      ],
      "text/plain": [
       "<IPython.core.display.Markdown object>"
      ]
     },
     "metadata": {},
     "output_type": "display_data"
    }
   ],
   "source": [
    "# Count the number of rows.\n",
    "n_rows = df_full.count()\n",
    "\n",
    "# Display the result.\n",
    "printmd(f'Number of rows in the the full databse: **{n_rows:,.0f}**')"
   ]
  },
  {
   "cell_type": "code",
   "execution_count": 32,
   "metadata": {
    "ExecuteTime": {
     "end_time": "2021-07-14T14:39:56.086267Z",
     "start_time": "2021-07-14T14:39:56.084315Z"
    }
   },
   "outputs": [],
   "source": [
    "# The number of rows can also be define manually to save time:\n",
    "n_rows = 2530475843"
   ]
  },
  {
   "cell_type": "markdown",
   "metadata": {},
   "source": [
    "# Stats about the undefined and distinct values\n",
    "<hr style=\"border:2px solid black\"></hr>\n"
   ]
  },
  {
   "cell_type": "code",
   "execution_count": null,
   "metadata": {
    "ExecuteTime": {
     "end_time": "2021-07-14T15:48:59.757669Z",
     "start_time": "2021-07-14T15:48:14.467177Z"
    },
    "deletable": false,
    "editable": false,
    "run_control": {
     "frozen": true
    }
   },
   "outputs": [],
   "source": [
    "# Create a pandas dataframe for storing information about.\n",
    "# the number of undefined values.\n",
    "dfp_combined_stats = pd.DataFrame(\n",
    "    columns=pd.MultiIndex.from_tuples([\n",
    "        ('Undefined', 'Number of cells'),\n",
    "        ('Undefined', '%'),\n",
    "        ('Number of distinct values', '')\n",
    "    ])\n",
    ")\n",
    "\n",
    "# Get the number of undefined and distinct values for each column.\n",
    "for column_name in df_full.columns:\n",
    "    # Undefined:\n",
    "    (dfp_combined_stats.loc[column_name, ('Undefined', 'Number of cells')],\n",
    "     dfp_combined_stats.loc[column_name, ('Undefined', '%')]) = \\\n",
    "        t.spark.count_undefined_entries(\n",
    "            df_full, column_name, verbose=False, n_rows=n_rows)\n",
    "\n",
    "    # Distinct\n",
    "    dfp_combined_stats.loc[column_name, ('Number of distinct values', '')] = \\\n",
    "        t.spark.count_distinct_entries(df_full, column_name, verbose=False)\n",
    "\n",
    "# Save the dataframe to pickle.\n",
    "dfp_combined_stats.to_pickle(Config.Path.initial_stats_df_combined_stats)"
   ]
  },
  {
   "cell_type": "markdown",
   "metadata": {},
   "source": [
    "# Data about the *users*\n",
    "<hr style=\"border:2px solid black\"></hr>\n"
   ]
  },
  {
   "cell_type": "markdown",
   "metadata": {},
   "source": [
    "# Data about the *activities*\n",
    "<hr style=\"border:2px solid black\"></hr>\n"
   ]
  },
  {
   "cell_type": "code",
   "execution_count": 54,
   "metadata": {
    "ExecuteTime": {
     "end_time": "2021-07-14T15:58:30.982765Z",
     "start_time": "2021-07-14T15:58:30.975234Z"
    }
   },
   "outputs": [
    {
     "data": {
      "text/html": [
       "<div>\n",
       "<style scoped>\n",
       "    .dataframe tbody tr th:only-of-type {\n",
       "        vertical-align: middle;\n",
       "    }\n",
       "\n",
       "    .dataframe tbody tr th {\n",
       "        vertical-align: top;\n",
       "    }\n",
       "\n",
       "    .dataframe thead tr th {\n",
       "        text-align: left;\n",
       "    }\n",
       "</style>\n",
       "<table border=\"1\" class=\"dataframe\">\n",
       "  <thead>\n",
       "    <tr>\n",
       "      <th></th>\n",
       "      <th colspan=\"2\" halign=\"left\">Undefined</th>\n",
       "      <th>Number of distinct values</th>\n",
       "    </tr>\n",
       "    <tr>\n",
       "      <th></th>\n",
       "      <th>Number of cells</th>\n",
       "      <th>%</th>\n",
       "      <th></th>\n",
       "    </tr>\n",
       "  </thead>\n",
       "  <tbody>\n",
       "    <tr>\n",
       "      <th>activity_id</th>\n",
       "      <td>0.00</td>\n",
       "      <td>0.00</td>\n",
       "      <td>520,747,470.00</td>\n",
       "    </tr>\n",
       "    <tr>\n",
       "      <th>activity_start_time</th>\n",
       "      <td>0.00</td>\n",
       "      <td>0.00</td>\n",
       "      <td>519,487,179.00</td>\n",
       "    </tr>\n",
       "    <tr>\n",
       "      <th>activity_duration</th>\n",
       "      <td>0.00</td>\n",
       "      <td>0.00</td>\n",
       "      <td>235,387.00</td>\n",
       "    </tr>\n",
       "    <tr>\n",
       "      <th>device_id</th>\n",
       "      <td>7,253,534.00</td>\n",
       "      <td>0.29</td>\n",
       "      <td>4,742,108.00</td>\n",
       "    </tr>\n",
       "    <tr>\n",
       "      <th>device_name</th>\n",
       "      <td>7,258,178.00</td>\n",
       "      <td>0.29</td>\n",
       "      <td>4,188.00</td>\n",
       "    </tr>\n",
       "    <tr>\n",
       "      <th>track_artist</th>\n",
       "      <td>710,429,434.00</td>\n",
       "      <td>28.07</td>\n",
       "      <td>9,931,077.00</td>\n",
       "    </tr>\n",
       "    <tr>\n",
       "      <th>track_title</th>\n",
       "      <td>180,364,595.00</td>\n",
       "      <td>7.13</td>\n",
       "      <td>73,003,873.00</td>\n",
       "    </tr>\n",
       "    <tr>\n",
       "      <th>track_player</th>\n",
       "      <td>338,135,480.00</td>\n",
       "      <td>13.36</td>\n",
       "      <td>4.00</td>\n",
       "    </tr>\n",
       "    <tr>\n",
       "      <th>track_start_time</th>\n",
       "      <td>0.00</td>\n",
       "      <td>0.00</td>\n",
       "      <td>2,498,319,684.00</td>\n",
       "    </tr>\n",
       "    <tr>\n",
       "      <th>track_playback_duration</th>\n",
       "      <td>0.00</td>\n",
       "      <td>0.00</td>\n",
       "      <td>226,103.00</td>\n",
       "    </tr>\n",
       "    <tr>\n",
       "      <th>track_spotify_uri</th>\n",
       "      <td>2,033,877,221.00</td>\n",
       "      <td>80.38</td>\n",
       "      <td>10,870,457.00</td>\n",
       "    </tr>\n",
       "    <tr>\n",
       "      <th>track_sony_uri</th>\n",
       "      <td>496,936,211.00</td>\n",
       "      <td>19.64</td>\n",
       "      <td>3,344,649.00</td>\n",
       "    </tr>\n",
       "    <tr>\n",
       "      <th>user_id</th>\n",
       "      <td>0.00</td>\n",
       "      <td>0.00</td>\n",
       "      <td>4,228,782.00</td>\n",
       "    </tr>\n",
       "  </tbody>\n",
       "</table>\n",
       "</div>"
      ],
      "text/plain": [
       "                               Undefined       Number of distinct values\n",
       "                         Number of cells     %                          \n",
       "activity_id                         0.00  0.00            520,747,470.00\n",
       "activity_start_time                 0.00  0.00            519,487,179.00\n",
       "activity_duration                   0.00  0.00                235,387.00\n",
       "device_id                   7,253,534.00  0.29              4,742,108.00\n",
       "device_name                 7,258,178.00  0.29                  4,188.00\n",
       "track_artist              710,429,434.00 28.07              9,931,077.00\n",
       "track_title               180,364,595.00  7.13             73,003,873.00\n",
       "track_player              338,135,480.00 13.36                      4.00\n",
       "track_start_time                    0.00  0.00          2,498,319,684.00\n",
       "track_playback_duration             0.00  0.00                226,103.00\n",
       "track_spotify_uri       2,033,877,221.00 80.38             10,870,457.00\n",
       "track_sony_uri            496,936,211.00 19.64              3,344,649.00\n",
       "user_id                             0.00  0.00              4,228,782.00"
      ]
     },
     "metadata": {},
     "output_type": "display_data"
    }
   ],
   "source": [
    "display(dfp_combined_stats)"
   ]
  },
  {
   "cell_type": "markdown",
   "metadata": {},
   "source": [
    "**Playbacks per activity:**"
   ]
  },
  {
   "cell_type": "code",
   "execution_count": 59,
   "metadata": {
    "ExecuteTime": {
     "end_time": "2021-07-14T16:05:11.409251Z",
     "start_time": "2021-07-14T16:05:11.405864Z"
    },
    "deletable": false,
    "editable": false,
    "run_control": {
     "frozen": true
    }
   },
   "outputs": [
    {
     "data": {
      "text/markdown": [
       "Average playbacks per activity: **4.86**."
      ],
      "text/plain": [
       "<IPython.core.display.Markdown object>"
      ]
     },
     "metadata": {},
     "output_type": "display_data"
    }
   ],
   "source": [
    "# Calculate the average number of playbacks per activity:\n",
    "playbacks_per_activity_average = (\n",
    "    n_rows / dfp_combined_stats.at['activity_id', ('Number of distinct values', '')]\n",
    ")\n",
    "\n",
    "# Display the result\n",
    "printmd(f'Average playbacks per activity: **{playbacks_per_activity_average:.2f}**.')"
   ]
  },
  {
   "cell_type": "code",
   "execution_count": null,
   "metadata": {
    "ExecuteTime": {
     "end_time": "2021-07-14T16:53:27.736113Z",
     "start_time": "2021-07-14T16:52:20.284Z"
    },
    "deletable": false,
    "editable": false,
    "run_control": {
     "frozen": true
    }
   },
   "outputs": [],
   "source": [
    "# Get number of playbacks for each activity.\n",
    "playbacks_per_activity_count = (\n",
    "    df_full\n",
    "    .groupby('activity_id')\n",
    "    .count()\n",
    "    .select('count')\n",
    "    .rdd\n",
    "    .flatMap(lambda x: x)\n",
    "    .collect()\n",
    ")\n",
    "\n",
    "# Save to the data to hard drive.\n",
    "np.save(Config.Path.initial_stats_playbacks_per_activity_counts,\n",
    "        np.array(playbacks_per_activity_count))"
   ]
  },
  {
   "cell_type": "code",
   "execution_count": 76,
   "metadata": {
    "ExecuteTime": {
     "end_time": "2021-07-14T17:04:10.774491Z",
     "start_time": "2021-07-14T17:02:55.207961Z"
    },
    "deletable": false,
    "editable": false,
    "run_control": {
     "frozen": true
    }
   },
   "outputs": [],
   "source": [
    "playbacks_per_activity_count = np.array(playbacks_per_activity_count)"
   ]
  },
  {
   "cell_type": "code",
   "execution_count": 79,
   "metadata": {
    "ExecuteTime": {
     "end_time": "2021-07-14T17:29:42.062850Z",
     "start_time": "2021-07-14T17:28:45.508831Z"
    },
    "deletable": false,
    "editable": false,
    "run_control": {
     "frozen": true
    }
   },
   "outputs": [],
   "source": [
    "playbacks_per_activity_frequencies = np.unique(playbacks_per_activity_count,\n",
    "                                               return_counts=True)\n"
   ]
  },
  {
   "cell_type": "code",
   "execution_count": 91,
   "metadata": {
    "ExecuteTime": {
     "end_time": "2021-07-14T17:56:39.667847Z",
     "start_time": "2021-07-14T17:56:39.140066Z"
    },
    "scrolled": false
   },
   "outputs": [
    {
     "name": "stdout",
     "output_type": "stream",
     "text": [
      "Saving table to: \"/data/work/shared/s001284/Music_Project/documentation/report/src/resources/images/playback_per_activity_plot.eps\".\n",
      "\tDone.\n"
     ]
    },
    {
     "data": {
      "image/png": "[encoded data removed]",
      "text/plain": [
       "<Figure size 864x576 with 1 Axes>"
      ]
     },
     "metadata": {},
     "output_type": "display_data"
    }
   ],
   "source": [
    "# Create figure and axes.\n",
    "figure, axes = w.plotting.create_empty_figure()\n",
    "\n",
    "# Plot the frequencies of the number of playbacks per activity.\n",
    "axes.scatter(playbacks_per_activity_frequencies[0],\n",
    "             playbacks_per_activity_frequencies[1])\n",
    "\n",
    "# Turn on the grid.\n",
    "axes.grid()\n",
    "\n",
    "# Use logarithmic x-axis.\n",
    "axes.set_xscale('log')\n",
    "\n",
    "# Annotate.\n",
    "axes.set_xlabel('Number of playbacks in activity')\n",
    "axes.set_ylabel('Number of occurrences')\n",
    "axes.set_title('The frequency of number of playbacks in an activity')\n",
    "\n",
    "# Apply standard formatting.\n",
    "w.plotting.format_axes_annotation(axes)\n",
    "w.plotting.format_axes(axes)\n",
    "\n",
    "# Save the plot for use in the report.\n",
    "t.save_plot('playback_per_activity_plot', figure)\n"
   ]
  },
  {
   "cell_type": "code",
   "execution_count": null,
   "metadata": {},
   "outputs": [],
   "source": []
  },
  {
   "cell_type": "code",
   "execution_count": 78,
   "metadata": {
    "ExecuteTime": {
     "end_time": "2021-07-14T17:20:24.587960Z",
     "start_time": "2021-07-14T17:10:37.144102Z"
    },
    "deletable": false,
    "editable": false,
    "run_control": {
     "frozen": true
    }
   },
   "outputs": [
    {
     "data": {
      "image/png": "[encoded data removed]",
      "text/plain": [
       "<Figure size 864x576 with 1 Axes>"
      ]
     },
     "metadata": {},
     "output_type": "display_data"
    }
   ],
   "source": [
    "figure, axes = w.plotting.create_empty_figure()\n",
    "\n",
    "sns.histplot(data=playbacks_per_activity_count,\n",
    "             bins=20,\n",
    "             ax=axes)"
   ]
  },
  {
   "cell_type": "markdown",
   "metadata": {},
   "source": [
    "# Data about the *playback devices*\n",
    "<hr style=\"border:2px solid black\"></hr>\n"
   ]
  },
  {
   "cell_type": "markdown",
   "metadata": {},
   "source": [
    "# Data about the *audio tracks*\n",
    "<hr style=\"border:2px solid black\"></hr>\n"
   ]
  },
  {
   "cell_type": "markdown",
   "metadata": {},
   "source": [
    "# Stat summary\n",
    "<hr style=\"border:2px solid black\"></hr>\n"
   ]
  },
  {
   "cell_type": "markdown",
   "metadata": {},
   "source": [
    "## Number of undefined entries"
   ]
  },
  {
   "cell_type": "code",
   "execution_count": 146,
   "metadata": {
    "ExecuteTime": {
     "end_time": "2021-07-11T17:46:28.182733Z",
     "start_time": "2021-07-11T17:46:28.173064Z"
    },
    "deletable": false,
    "editable": false,
    "run_control": {
     "frozen": true
    }
   },
   "outputs": [
    {
     "data": {
      "text/html": [
       "<div>\n",
       "<style scoped>\n",
       "    .dataframe tbody tr th:only-of-type {\n",
       "        vertical-align: middle;\n",
       "    }\n",
       "\n",
       "    .dataframe tbody tr th {\n",
       "        vertical-align: top;\n",
       "    }\n",
       "\n",
       "    .dataframe thead tr th {\n",
       "        text-align: left;\n",
       "    }\n",
       "</style>\n",
       "<table border=\"1\" class=\"dataframe\">\n",
       "  <thead>\n",
       "    <tr>\n",
       "      <th></th>\n",
       "      <th colspan=\"2\" halign=\"left\">Undefined</th>\n",
       "    </tr>\n",
       "    <tr>\n",
       "      <th></th>\n",
       "      <th>Number of cells</th>\n",
       "      <th>%</th>\n",
       "    </tr>\n",
       "  </thead>\n",
       "  <tbody>\n",
       "    <tr>\n",
       "      <th>activity_id</th>\n",
       "      <td>0</td>\n",
       "      <td>0.00</td>\n",
       "    </tr>\n",
       "    <tr>\n",
       "      <th>activity_start_time</th>\n",
       "      <td>0</td>\n",
       "      <td>0.00</td>\n",
       "    </tr>\n",
       "    <tr>\n",
       "      <th>activity_duration</th>\n",
       "      <td>0</td>\n",
       "      <td>0.00</td>\n",
       "    </tr>\n",
       "    <tr>\n",
       "      <th>device_id</th>\n",
       "      <td>7253534</td>\n",
       "      <td>0.29</td>\n",
       "    </tr>\n",
       "    <tr>\n",
       "      <th>device_name</th>\n",
       "      <td>7,258,178</td>\n",
       "      <td>0.29</td>\n",
       "    </tr>\n",
       "    <tr>\n",
       "      <th>track_artist</th>\n",
       "      <td>710,429,434</td>\n",
       "      <td>28.07</td>\n",
       "    </tr>\n",
       "    <tr>\n",
       "      <th>track_title</th>\n",
       "      <td>180,364,595</td>\n",
       "      <td>7.13</td>\n",
       "    </tr>\n",
       "    <tr>\n",
       "      <th>track_player</th>\n",
       "      <td>338,135,480</td>\n",
       "      <td>13.36</td>\n",
       "    </tr>\n",
       "    <tr>\n",
       "      <th>track_start_time</th>\n",
       "      <td>0</td>\n",
       "      <td>0.00</td>\n",
       "    </tr>\n",
       "    <tr>\n",
       "      <th>track_playback_duration</th>\n",
       "      <td>0</td>\n",
       "      <td>0.00</td>\n",
       "    </tr>\n",
       "    <tr>\n",
       "      <th>track_spotify_uri</th>\n",
       "      <td>2,033,877,221</td>\n",
       "      <td>80.38</td>\n",
       "    </tr>\n",
       "    <tr>\n",
       "      <th>track_sony_uri</th>\n",
       "      <td>496,936,211</td>\n",
       "      <td>19.64</td>\n",
       "    </tr>\n",
       "    <tr>\n",
       "      <th>user_id</th>\n",
       "      <td>0</td>\n",
       "      <td>0.00</td>\n",
       "    </tr>\n",
       "  </tbody>\n",
       "</table>\n",
       "</div>"
      ],
      "text/plain": [
       "                              Undefined      \n",
       "                        Number of cells     %\n",
       "activity_id                           0  0.00\n",
       "activity_start_time                   0  0.00\n",
       "activity_duration                     0  0.00\n",
       "device_id                       7253534  0.29\n",
       "device_name                   7,258,178  0.29\n",
       "track_artist                710,429,434 28.07\n",
       "track_title                 180,364,595  7.13\n",
       "track_player                338,135,480 13.36\n",
       "track_start_time                      0  0.00\n",
       "track_playback_duration               0  0.00\n",
       "track_spotify_uri         2,033,877,221 80.38\n",
       "track_sony_uri              496,936,211 19.64\n",
       "user_id                               0  0.00"
      ]
     },
     "metadata": {},
     "output_type": "display_data"
    }
   ],
   "source": [
    "# To make the numbers easier to read, transform the\n",
    "# number of cells to a string\n",
    "if isinstance(dfp_undefined[('Undefined', 'Number of cells')].iat[0], (int, float)):\n",
    "    dfp_undefined[('Undefined', 'Number of cells')] = (\n",
    "        dfp_undefined[('Undefined', 'Number of cells')]\n",
    "        .apply('{:,.0f}'.format)\n",
    "    )\n",
    "\n",
    "# Save the dataframe to pickle\n",
    "dfp_undefined.to_pickle(Config.Path.initial_stats_df_n_undefined)\n",
    "\n",
    "# Show the result\n",
    "display(dfp_undefined)"
   ]
  },
  {
   "cell_type": "code",
   "execution_count": null,
   "metadata": {
    "ExecuteTime": {
     "end_time": "2021-07-11T13:31:10.775600Z",
     "start_time": "2021-07-11T13:31:08.615Z"
    },
    "deletable": false,
    "editable": false,
    "run_control": {
     "frozen": true
    },
    "scrolled": true
   },
   "outputs": [],
   "source": [
    "# If saved before, it is also possible to load the\n",
    "# dataframe from pickle.\n",
    "dfp_undefined = pd.read_pickle(\n",
    "    Config.Path.initial_stats_df_n_undefined)\n",
    "\n",
    "# Show the result\n",
    "display(dfp_undefined_entries)"
   ]
  },
  {
   "cell_type": "markdown",
   "metadata": {},
   "source": [
    "## Number of distinct entries"
   ]
  },
  {
   "cell_type": "code",
   "execution_count": 129,
   "metadata": {
    "ExecuteTime": {
     "end_time": "2021-07-11T17:39:01.402044Z",
     "start_time": "2021-07-11T17:39:01.391456Z"
    },
    "deletable": false,
    "editable": false,
    "run_control": {
     "frozen": true
    },
    "scrolled": false
   },
   "outputs": [
    {
     "data": {
      "text/html": [
       "<div>\n",
       "<style scoped>\n",
       "    .dataframe tbody tr th:only-of-type {\n",
       "        vertical-align: middle;\n",
       "    }\n",
       "\n",
       "    .dataframe tbody tr th {\n",
       "        vertical-align: top;\n",
       "    }\n",
       "\n",
       "    .dataframe thead tr th {\n",
       "        text-align: left;\n",
       "    }\n",
       "</style>\n",
       "<table border=\"1\" class=\"dataframe\">\n",
       "  <thead>\n",
       "    <tr>\n",
       "      <th></th>\n",
       "      <th>Number of distinct values</th>\n",
       "    </tr>\n",
       "    <tr>\n",
       "      <th></th>\n",
       "      <th></th>\n",
       "    </tr>\n",
       "  </thead>\n",
       "  <tbody>\n",
       "    <tr>\n",
       "      <th>user_id</th>\n",
       "      <td>4,228,782</td>\n",
       "    </tr>\n",
       "    <tr>\n",
       "      <th>activity_id</th>\n",
       "      <td>520,747,470</td>\n",
       "    </tr>\n",
       "    <tr>\n",
       "      <th>activity_start_time</th>\n",
       "      <td>519,487,179</td>\n",
       "    </tr>\n",
       "    <tr>\n",
       "      <th>activity_duration</th>\n",
       "      <td>235,387</td>\n",
       "    </tr>\n",
       "    <tr>\n",
       "      <th>device_id</th>\n",
       "      <td>4,742,108</td>\n",
       "    </tr>\n",
       "    <tr>\n",
       "      <th>device_name</th>\n",
       "      <td>4,188</td>\n",
       "    </tr>\n",
       "    <tr>\n",
       "      <th>track_artist</th>\n",
       "      <td>9,931,077</td>\n",
       "    </tr>\n",
       "    <tr>\n",
       "      <th>track_title</th>\n",
       "      <td>73,003,873</td>\n",
       "    </tr>\n",
       "    <tr>\n",
       "      <th>track_player</th>\n",
       "      <td>4</td>\n",
       "    </tr>\n",
       "    <tr>\n",
       "      <th>track_start_time</th>\n",
       "      <td>2,498,319,684</td>\n",
       "    </tr>\n",
       "    <tr>\n",
       "      <th>track_playback_duration</th>\n",
       "      <td>226,103</td>\n",
       "    </tr>\n",
       "    <tr>\n",
       "      <th>track_spotify_uri</th>\n",
       "      <td>10,870,457</td>\n",
       "    </tr>\n",
       "    <tr>\n",
       "      <th>track_sony_uri</th>\n",
       "      <td>3,344,649</td>\n",
       "    </tr>\n",
       "  </tbody>\n",
       "</table>\n",
       "</div>"
      ],
      "text/plain": [
       "                        Number of distinct values\n",
       "                                                 \n",
       "user_id                                 4,228,782\n",
       "activity_id                           520,747,470\n",
       "activity_start_time                   519,487,179\n",
       "activity_duration                         235,387\n",
       "device_id                               4,742,108\n",
       "device_name                                 4,188\n",
       "track_artist                            9,931,077\n",
       "track_title                            73,003,873\n",
       "track_player                                    4\n",
       "track_start_time                    2,498,319,684\n",
       "track_playback_duration                   226,103\n",
       "track_spotify_uri                      10,870,457\n",
       "track_sony_uri                          3,344,649"
      ]
     },
     "metadata": {},
     "output_type": "display_data"
    }
   ],
   "source": [
    "# To make the numbers easier to read, transform the\n",
    "# number of cells to a string\n",
    "if isinstance(dfp_distinct['Number of distinct values'].iat[0], (int, float)):\n",
    "    dfp_distinct['Number of distinct values'] = (\n",
    "        dfp_distinct['Number of distinct values']\n",
    "        .apply('{:,.0f}'.format)\n",
    "    )\n",
    "\n",
    "# Save the dataframe to pickle\n",
    "dfp_distinct.to_pickle(Config.Path.initial_stats_df_n_distinct)\n",
    "\n",
    "# Show the result\n",
    "display(dfp_distinct)"
   ]
  },
  {
   "cell_type": "code",
   "execution_count": null,
   "metadata": {
    "ExecuteTime": {
     "end_time": "2021-07-11T13:31:10.775600Z",
     "start_time": "2021-07-11T13:31:08.615Z"
    },
    "deletable": false,
    "editable": false,
    "run_control": {
     "frozen": true
    },
    "scrolled": true
   },
   "outputs": [],
   "source": [
    "# If saved before, it is also possible to load the\n",
    "# dataframe from pickle.\n",
    "dfp_distinct = pd.read_pickle(\n",
    "    Config.Path.initial_stats_df_n_distinct)\n",
    "\n",
    "# Show the result\n",
    "display(dfp_distinct)"
   ]
  },
  {
   "cell_type": "markdown",
   "metadata": {},
   "source": [
    "## Combined stats"
   ]
  },
  {
   "cell_type": "markdown",
   "metadata": {},
   "source": [
    "Create or load the dataframe containing the stats:"
   ]
  },
  {
   "cell_type": "code",
   "execution_count": null,
   "metadata": {
    "deletable": false,
    "editable": false,
    "run_control": {
     "frozen": true
    }
   },
   "outputs": [],
   "source": [
    "dfp_combined_stats = pd.concat([dfp_undefined, dfp_distinct],\n",
    "                               axis=1)"
   ]
  },
  {
   "cell_type": "code",
   "execution_count": 15,
   "metadata": {
    "ExecuteTime": {
     "end_time": "2021-07-14T11:38:13.577637Z",
     "start_time": "2021-07-14T11:38:13.551193Z"
    }
   },
   "outputs": [
    {
     "data": {
      "text/html": [
       "<div>\n",
       "<style scoped>\n",
       "    .dataframe tbody tr th:only-of-type {\n",
       "        vertical-align: middle;\n",
       "    }\n",
       "\n",
       "    .dataframe tbody tr th {\n",
       "        vertical-align: top;\n",
       "    }\n",
       "\n",
       "    .dataframe thead tr th {\n",
       "        text-align: left;\n",
       "    }\n",
       "</style>\n",
       "<table border=\"1\" class=\"dataframe\">\n",
       "  <thead>\n",
       "    <tr>\n",
       "      <th></th>\n",
       "      <th colspan=\"2\" halign=\"left\">Undefined</th>\n",
       "      <th>Number of distinct values</th>\n",
       "    </tr>\n",
       "    <tr>\n",
       "      <th></th>\n",
       "      <th>Number of cells</th>\n",
       "      <th>%</th>\n",
       "      <th></th>\n",
       "    </tr>\n",
       "  </thead>\n",
       "  <tbody>\n",
       "    <tr>\n",
       "      <th>activity_id</th>\n",
       "      <td>0</td>\n",
       "      <td>0.00</td>\n",
       "      <td>520,747,470</td>\n",
       "    </tr>\n",
       "    <tr>\n",
       "      <th>activity_start_time</th>\n",
       "      <td>0</td>\n",
       "      <td>0.00</td>\n",
       "      <td>519,487,179</td>\n",
       "    </tr>\n",
       "    <tr>\n",
       "      <th>activity_duration</th>\n",
       "      <td>0</td>\n",
       "      <td>0.00</td>\n",
       "      <td>235,387</td>\n",
       "    </tr>\n",
       "    <tr>\n",
       "      <th>device_id</th>\n",
       "      <td>7,253,534</td>\n",
       "      <td>0.29</td>\n",
       "      <td>4,742,108</td>\n",
       "    </tr>\n",
       "    <tr>\n",
       "      <th>device_name</th>\n",
       "      <td>7,258,178</td>\n",
       "      <td>0.29</td>\n",
       "      <td>4,188</td>\n",
       "    </tr>\n",
       "    <tr>\n",
       "      <th>track_artist</th>\n",
       "      <td>710,429,434</td>\n",
       "      <td>28.07</td>\n",
       "      <td>9,931,077</td>\n",
       "    </tr>\n",
       "    <tr>\n",
       "      <th>track_title</th>\n",
       "      <td>180,364,595</td>\n",
       "      <td>7.13</td>\n",
       "      <td>73,003,873</td>\n",
       "    </tr>\n",
       "    <tr>\n",
       "      <th>track_player</th>\n",
       "      <td>338,135,480</td>\n",
       "      <td>13.36</td>\n",
       "      <td>4</td>\n",
       "    </tr>\n",
       "    <tr>\n",
       "      <th>track_start_time</th>\n",
       "      <td>0</td>\n",
       "      <td>0.00</td>\n",
       "      <td>2,498,319,684</td>\n",
       "    </tr>\n",
       "    <tr>\n",
       "      <th>track_playback_duration</th>\n",
       "      <td>0</td>\n",
       "      <td>0.00</td>\n",
       "      <td>226,103</td>\n",
       "    </tr>\n",
       "    <tr>\n",
       "      <th>track_spotify_uri</th>\n",
       "      <td>2,033,877,221</td>\n",
       "      <td>80.38</td>\n",
       "      <td>10,870,457</td>\n",
       "    </tr>\n",
       "    <tr>\n",
       "      <th>track_sony_uri</th>\n",
       "      <td>496,936,211</td>\n",
       "      <td>19.64</td>\n",
       "      <td>3,344,649</td>\n",
       "    </tr>\n",
       "    <tr>\n",
       "      <th>user_id</th>\n",
       "      <td>0</td>\n",
       "      <td>0.00</td>\n",
       "      <td>4,228,782</td>\n",
       "    </tr>\n",
       "  </tbody>\n",
       "</table>\n",
       "</div>"
      ],
      "text/plain": [
       "                              Undefined       Number of distinct values\n",
       "                        Number of cells     %                          \n",
       "activity_id                           0  0.00               520,747,470\n",
       "activity_start_time                   0  0.00               519,487,179\n",
       "activity_duration                     0  0.00                   235,387\n",
       "device_id                     7,253,534  0.29                 4,742,108\n",
       "device_name                   7,258,178  0.29                     4,188\n",
       "track_artist                710,429,434 28.07                 9,931,077\n",
       "track_title                 180,364,595  7.13                73,003,873\n",
       "track_player                338,135,480 13.36                         4\n",
       "track_start_time                      0  0.00             2,498,319,684\n",
       "track_playback_duration               0  0.00                   226,103\n",
       "track_spotify_uri         2,033,877,221 80.38                10,870,457\n",
       "track_sony_uri              496,936,211 19.64                 3,344,649\n",
       "user_id                               0  0.00                 4,228,782"
      ]
     },
     "metadata": {},
     "output_type": "display_data"
    }
   ],
   "source": [
    "dfp_combined_stats = pd.read_pickle(Config.Path.initial_stats_df_combined_stats)\n",
    "\n",
    "# To make the numbers easier to read, transform the\n",
    "# number of cells to a string.\n",
    "for idx, row in dfp_combined_stats.iterrows():\n",
    "    if isinstance(row[('Undefined', 'Number of cells')],\n",
    "                  (int, float)):\n",
    "        dfp_combined_stats.loc[idx, ('Undefined', 'Number of cells')] = \\\n",
    "            f\"{dfp_combined_stats.loc[idx, ('Undefined', 'Number of cells')]:,.0f}\"\n",
    "    \n",
    "display(dfp_combined_stats)"
   ]
  },
  {
   "cell_type": "code",
   "execution_count": 20,
   "metadata": {
    "ExecuteTime": {
     "end_time": "2021-07-14T11:48:03.830077Z",
     "start_time": "2021-07-14T11:48:03.783964Z"
    }
   },
   "outputs": [
    {
     "data": {
      "text/html": [
       "<div>\n",
       "<style scoped>\n",
       "    .dataframe tbody tr th:only-of-type {\n",
       "        vertical-align: middle;\n",
       "    }\n",
       "\n",
       "    .dataframe tbody tr th {\n",
       "        vertical-align: top;\n",
       "    }\n",
       "\n",
       "    .dataframe thead tr th {\n",
       "        text-align: left;\n",
       "    }\n",
       "</style>\n",
       "<table border=\"1\" class=\"dataframe\">\n",
       "  <thead>\n",
       "    <tr>\n",
       "      <th></th>\n",
       "      <th colspan=\"2\" halign=\"left\">Undefined</th>\n",
       "      <th>Number of distinct values</th>\n",
       "    </tr>\n",
       "    <tr>\n",
       "      <th></th>\n",
       "      <th>Number of cells</th>\n",
       "      <th>%</th>\n",
       "      <th></th>\n",
       "    </tr>\n",
       "  </thead>\n",
       "  <tbody>\n",
       "    <tr>\n",
       "      <th>activity_id</th>\n",
       "      <td>0</td>\n",
       "      <td>0.00</td>\n",
       "      <td>520,747,470</td>\n",
       "    </tr>\n",
       "    <tr>\n",
       "      <th>activity_start_time</th>\n",
       "      <td>0</td>\n",
       "      <td>0.00</td>\n",
       "      <td>519,487,179</td>\n",
       "    </tr>\n",
       "    <tr>\n",
       "      <th>activity_duration</th>\n",
       "      <td>0</td>\n",
       "      <td>0.00</td>\n",
       "      <td>235,387</td>\n",
       "    </tr>\n",
       "    <tr>\n",
       "      <th>device_id</th>\n",
       "      <td>7,253,534</td>\n",
       "      <td>0.29</td>\n",
       "      <td>4,742,108</td>\n",
       "    </tr>\n",
       "    <tr>\n",
       "      <th>device_name</th>\n",
       "      <td>7,258,178</td>\n",
       "      <td>0.29</td>\n",
       "      <td>4,188</td>\n",
       "    </tr>\n",
       "    <tr>\n",
       "      <th>track_artist</th>\n",
       "      <td>710,429,434</td>\n",
       "      <td>28.07</td>\n",
       "      <td>9,931,077</td>\n",
       "    </tr>\n",
       "    <tr>\n",
       "      <th>track_title</th>\n",
       "      <td>180,364,595</td>\n",
       "      <td>7.13</td>\n",
       "      <td>73,003,873</td>\n",
       "    </tr>\n",
       "    <tr>\n",
       "      <th>track_player</th>\n",
       "      <td>338,135,480</td>\n",
       "      <td>13.36</td>\n",
       "      <td>4</td>\n",
       "    </tr>\n",
       "    <tr>\n",
       "      <th>track_start_time</th>\n",
       "      <td>0</td>\n",
       "      <td>0.00</td>\n",
       "      <td>2,498,319,684</td>\n",
       "    </tr>\n",
       "    <tr>\n",
       "      <th>track_playback_duration</th>\n",
       "      <td>0</td>\n",
       "      <td>0.00</td>\n",
       "      <td>226,103</td>\n",
       "    </tr>\n",
       "    <tr>\n",
       "      <th>track_spotify_uri</th>\n",
       "      <td>2,033,877,221</td>\n",
       "      <td>80.38</td>\n",
       "      <td>10,870,457</td>\n",
       "    </tr>\n",
       "    <tr>\n",
       "      <th>track_sony_uri</th>\n",
       "      <td>496,936,211</td>\n",
       "      <td>19.64</td>\n",
       "      <td>3,344,649</td>\n",
       "    </tr>\n",
       "    <tr>\n",
       "      <th>user_id</th>\n",
       "      <td>0</td>\n",
       "      <td>0.00</td>\n",
       "      <td>4,228,782</td>\n",
       "    </tr>\n",
       "  </tbody>\n",
       "</table>\n",
       "</div>"
      ],
      "text/plain": [
       "                              Undefined       Number of distinct values\n",
       "                        Number of cells     %                          \n",
       "activity_id                           0  0.00               520,747,470\n",
       "activity_start_time                   0  0.00               519,487,179\n",
       "activity_duration                     0  0.00                   235,387\n",
       "device_id                     7,253,534  0.29                 4,742,108\n",
       "device_name                   7,258,178  0.29                     4,188\n",
       "track_artist                710,429,434 28.07                 9,931,077\n",
       "track_title                 180,364,595  7.13                73,003,873\n",
       "track_player                338,135,480 13.36                         4\n",
       "track_start_time                      0  0.00             2,498,319,684\n",
       "track_playback_duration               0  0.00                   226,103\n",
       "track_spotify_uri         2,033,877,221 80.38                10,870,457\n",
       "track_sony_uri              496,936,211 19.64                 3,344,649\n",
       "user_id                               0  0.00                 4,228,782"
      ]
     },
     "metadata": {},
     "output_type": "display_data"
    },
    {
     "name": "stdout",
     "output_type": "stream",
     "text": [
      "Saving table to: \"/data/work/shared/s001284/Music_Project/documentation/report/src/resources/tables/initial_stats_number_of_undefined_and_disitinct_values.tex\".\n",
      "\tDone.\n"
     ]
    }
   ],
   "source": [
    "# Save the combined stats.\n",
    "dfp_combined_stats.to_pickle(Config.Path.initial_stats_df_combined_stats)\n",
    "\n",
    "# Show the result.\n",
    "display(dfp_combined_stats)\n",
    "\n",
    "# Save the table in the LaTeX format for the report.\n",
    "t.save_table(dfp_combined_stats, 'initial_stats_number_of_undefined_and_disitinct_values')"
   ]
  },
  {
   "cell_type": "markdown",
   "metadata": {},
   "source": [
    "# Stuff from January\n",
    "<hr style=\"border:2px solid black\"></hr>\n",
    "<hr style=\"border:2px solid black\"></hr>\n"
   ]
  },
  {
   "cell_type": "code",
   "execution_count": 6,
   "metadata": {
    "ExecuteTime": {
     "end_time": "2021-07-14T10:46:04.314422Z",
     "start_time": "2021-07-14T10:45:15.578393Z"
    },
    "scrolled": true
   },
   "outputs": [
    {
     "data": {
      "text/html": [
       "<div>\n",
       "<style scoped>\n",
       "    .dataframe tbody tr th:only-of-type {\n",
       "        vertical-align: middle;\n",
       "    }\n",
       "\n",
       "    .dataframe tbody tr th {\n",
       "        vertical-align: top;\n",
       "    }\n",
       "\n",
       "    .dataframe thead th {\n",
       "        text-align: right;\n",
       "    }\n",
       "</style>\n",
       "<table border=\"1\" class=\"dataframe\">\n",
       "  <thead>\n",
       "    <tr style=\"text-align: right;\">\n",
       "      <th></th>\n",
       "      <th>user_id</th>\n",
       "      <th>activity_id</th>\n",
       "      <th>activity_start_time</th>\n",
       "      <th>activity_duration</th>\n",
       "      <th>device_id</th>\n",
       "      <th>device_name</th>\n",
       "      <th>track_artist</th>\n",
       "      <th>track_title</th>\n",
       "      <th>track_album</th>\n",
       "      <th>track_player</th>\n",
       "      <th>track_start_time</th>\n",
       "      <th>track_playback_duration</th>\n",
       "      <th>track_spotify_uri</th>\n",
       "      <th>track_sony_uri</th>\n",
       "    </tr>\n",
       "  </thead>\n",
       "  <tbody>\n",
       "    <tr>\n",
       "      <th>0</th>\n",
       "      <td>b6206ded-5249-43ae-96fe-6cede3baca09</td>\n",
       "      <td>35183207-c20f-4032-82bc-21c92b3f06cb-2015-10-01</td>\n",
       "      <td>2015-10-01 14:43:32.389</td>\n",
       "      <td>1305</td>\n",
       "      <td>263729c6c47127d4</td>\n",
       "      <td>D6603</td>\n",
       "      <td>Maluma</td>\n",
       "      <td>Borro Cassette</td>\n",
       "      <td>Borro Cassette</td>\n",
       "      <td>Spotify</td>\n",
       "      <td>2015-10-01 14:43:32.389</td>\n",
       "      <td>216</td>\n",
       "      <td>spotify:track:2ocDZVhBiGCaaZRNW3fmSd</td>\n",
       "      <td>None</td>\n",
       "    </tr>\n",
       "    <tr>\n",
       "      <th>1</th>\n",
       "      <td>b6206ded-5249-43ae-96fe-6cede3baca09</td>\n",
       "      <td>35183207-c20f-4032-82bc-21c92b3f06cb-2015-10-01</td>\n",
       "      <td>2015-10-01 14:43:32.389</td>\n",
       "      <td>1305</td>\n",
       "      <td>263729c6c47127d4</td>\n",
       "      <td>D6603</td>\n",
       "      <td>Reykon</td>\n",
       "      <td>Imaginándote (feat. Daddy Yankee)</td>\n",
       "      <td>Imaginándote (feat. Daddy Yankee)</td>\n",
       "      <td>Spotify</td>\n",
       "      <td>2015-10-01 14:47:08.233</td>\n",
       "      <td>224</td>\n",
       "      <td>spotify:track:3AQ1zVx39FvB4yH0bjGgPm</td>\n",
       "      <td>None</td>\n",
       "    </tr>\n",
       "    <tr>\n",
       "      <th>2</th>\n",
       "      <td>b6206ded-5249-43ae-96fe-6cede3baca09</td>\n",
       "      <td>35183207-c20f-4032-82bc-21c92b3f06cb-2015-10-01</td>\n",
       "      <td>2015-10-01 14:43:32.389</td>\n",
       "      <td>1305</td>\n",
       "      <td>263729c6c47127d4</td>\n",
       "      <td>D6603</td>\n",
       "      <td>Calle 13</td>\n",
       "      <td>Atrévete Te Te</td>\n",
       "      <td>Calle 13 (Explicit Version)</td>\n",
       "      <td>Spotify</td>\n",
       "      <td>2015-10-01 14:50:52.873</td>\n",
       "      <td>239</td>\n",
       "      <td>spotify:track:1q8NdCAQ9QUjpYiqzdd3mv</td>\n",
       "      <td>None</td>\n",
       "    </tr>\n",
       "    <tr>\n",
       "      <th>3</th>\n",
       "      <td>b6206ded-5249-43ae-96fe-6cede3baca09</td>\n",
       "      <td>35183207-c20f-4032-82bc-21c92b3f06cb-2015-10-01</td>\n",
       "      <td>2015-10-01 14:43:32.389</td>\n",
       "      <td>1305</td>\n",
       "      <td>263729c6c47127d4</td>\n",
       "      <td>D6603</td>\n",
       "      <td>Mr. Probz</td>\n",
       "      <td>Waves - Robin Schulz Radio Edit</td>\n",
       "      <td>Waves</td>\n",
       "      <td>Spotify</td>\n",
       "      <td>2015-10-01 14:54:51.387</td>\n",
       "      <td>207</td>\n",
       "      <td>spotify:track:5Sf3GyLEAzJXxZ5mbCPXTu</td>\n",
       "      <td>None</td>\n",
       "    </tr>\n",
       "    <tr>\n",
       "      <th>4</th>\n",
       "      <td>b6206ded-5249-43ae-96fe-6cede3baca09</td>\n",
       "      <td>35183207-c20f-4032-82bc-21c92b3f06cb-2015-10-01</td>\n",
       "      <td>2015-10-01 14:43:32.389</td>\n",
       "      <td>1305</td>\n",
       "      <td>263729c6c47127d4</td>\n",
       "      <td>D6603</td>\n",
       "      <td>La Arrolladora Banda El Limón De Rene Camacho</td>\n",
       "      <td>Mi Segunda Vida</td>\n",
       "      <td>Gracias Por Creer</td>\n",
       "      <td>Spotify</td>\n",
       "      <td>2015-10-01 14:58:18.674</td>\n",
       "      <td>187</td>\n",
       "      <td>spotify:track:6Z7f0BXDLI8k4CHR9KJdAD</td>\n",
       "      <td>None</td>\n",
       "    </tr>\n",
       "  </tbody>\n",
       "</table>\n",
       "</div>"
      ],
      "text/plain": [
       "                                user_id  \\\n",
       "0  b6206ded-5249-43ae-96fe-6cede3baca09   \n",
       "1  b6206ded-5249-43ae-96fe-6cede3baca09   \n",
       "2  b6206ded-5249-43ae-96fe-6cede3baca09   \n",
       "3  b6206ded-5249-43ae-96fe-6cede3baca09   \n",
       "4  b6206ded-5249-43ae-96fe-6cede3baca09   \n",
       "\n",
       "                                       activity_id     activity_start_time  \\\n",
       "0  35183207-c20f-4032-82bc-21c92b3f06cb-2015-10-01 2015-10-01 14:43:32.389   \n",
       "1  35183207-c20f-4032-82bc-21c92b3f06cb-2015-10-01 2015-10-01 14:43:32.389   \n",
       "2  35183207-c20f-4032-82bc-21c92b3f06cb-2015-10-01 2015-10-01 14:43:32.389   \n",
       "3  35183207-c20f-4032-82bc-21c92b3f06cb-2015-10-01 2015-10-01 14:43:32.389   \n",
       "4  35183207-c20f-4032-82bc-21c92b3f06cb-2015-10-01 2015-10-01 14:43:32.389   \n",
       "\n",
       "   activity_duration         device_id device_name  \\\n",
       "0               1305  263729c6c47127d4       D6603   \n",
       "1               1305  263729c6c47127d4       D6603   \n",
       "2               1305  263729c6c47127d4       D6603   \n",
       "3               1305  263729c6c47127d4       D6603   \n",
       "4               1305  263729c6c47127d4       D6603   \n",
       "\n",
       "                                    track_artist  \\\n",
       "0                                         Maluma   \n",
       "1                                         Reykon   \n",
       "2                                       Calle 13   \n",
       "3                                      Mr. Probz   \n",
       "4  La Arrolladora Banda El Limón De Rene Camacho   \n",
       "\n",
       "                         track_title                        track_album  \\\n",
       "0                     Borro Cassette                     Borro Cassette   \n",
       "1  Imaginándote (feat. Daddy Yankee)  Imaginándote (feat. Daddy Yankee)   \n",
       "2                     Atrévete Te Te        Calle 13 (Explicit Version)   \n",
       "3    Waves - Robin Schulz Radio Edit                              Waves   \n",
       "4                    Mi Segunda Vida                  Gracias Por Creer   \n",
       "\n",
       "  track_player        track_start_time  track_playback_duration  \\\n",
       "0      Spotify 2015-10-01 14:43:32.389                      216   \n",
       "1      Spotify 2015-10-01 14:47:08.233                      224   \n",
       "2      Spotify 2015-10-01 14:50:52.873                      239   \n",
       "3      Spotify 2015-10-01 14:54:51.387                      207   \n",
       "4      Spotify 2015-10-01 14:58:18.674                      187   \n",
       "\n",
       "                      track_spotify_uri track_sony_uri  \n",
       "0  spotify:track:2ocDZVhBiGCaaZRNW3fmSd           None  \n",
       "1  spotify:track:3AQ1zVx39FvB4yH0bjGgPm           None  \n",
       "2  spotify:track:1q8NdCAQ9QUjpYiqzdd3mv           None  \n",
       "3  spotify:track:5Sf3GyLEAzJXxZ5mbCPXTu           None  \n",
       "4  spotify:track:6Z7f0BXDLI8k4CHR9KJdAD           None  "
      ]
     },
     "metadata": {},
     "output_type": "display_data"
    }
   ],
   "source": [
    "display(\n",
    "    df_full\n",
    "    .where(f.col('track_spotify_uri').isNotNull())\n",
    "    .limit(5)\n",
    "    .toPandas()\n",
    ")"
   ]
  },
  {
   "cell_type": "markdown",
   "metadata": {},
   "source": [
    "## Types of `track_sony_uri`"
   ]
  },
  {
   "cell_type": "code",
   "execution_count": 7,
   "metadata": {
    "ExecuteTime": {
     "end_time": "2021-07-14T11:04:23.976143Z",
     "start_time": "2021-07-14T10:58:28.640391Z"
    }
   },
   "outputs": [
    {
     "data": {
      "text/html": [
       "<div>\n",
       "<style scoped>\n",
       "    .dataframe tbody tr th:only-of-type {\n",
       "        vertical-align: middle;\n",
       "    }\n",
       "\n",
       "    .dataframe tbody tr th {\n",
       "        vertical-align: top;\n",
       "    }\n",
       "\n",
       "    .dataframe thead th {\n",
       "        text-align: right;\n",
       "    }\n",
       "</style>\n",
       "<table border=\"1\" class=\"dataframe\">\n",
       "  <thead>\n",
       "    <tr style=\"text-align: right;\">\n",
       "      <th></th>\n",
       "      <th>track_uri_type</th>\n",
       "    </tr>\n",
       "  </thead>\n",
       "  <tbody>\n",
       "    <tr>\n",
       "      <th>0</th>\n",
       "      <td>http://podcast.wfmu.</td>\n",
       "    </tr>\n",
       "    <tr>\n",
       "      <th>1</th>\n",
       "      <td>http://onethinginafr</td>\n",
       "    </tr>\n",
       "    <tr>\n",
       "      <th>2</th>\n",
       "      <td>http://arabic.podhos</td>\n",
       "    </tr>\n",
       "    <tr>\n",
       "      <th>3</th>\n",
       "      <td>http://mvod1.akcdn.r</td>\n",
       "    </tr>\n",
       "    <tr>\n",
       "      <th>4</th>\n",
       "      <td>http://vcook.podOmat</td>\n",
       "    </tr>\n",
       "    <tr>\n",
       "      <th>...</th>\n",
       "      <td>...</td>\n",
       "    </tr>\n",
       "    <tr>\n",
       "      <th>3262</th>\n",
       "      <td>http://emotionalchan</td>\n",
       "    </tr>\n",
       "    <tr>\n",
       "      <th>3263</th>\n",
       "      <td>http://static.audiof</td>\n",
       "    </tr>\n",
       "    <tr>\n",
       "      <th>3264</th>\n",
       "      <td>http://192.168.30.10</td>\n",
       "    </tr>\n",
       "    <tr>\n",
       "      <th>3265</th>\n",
       "      <td>http://terryguindi.p</td>\n",
       "    </tr>\n",
       "    <tr>\n",
       "      <th>3266</th>\n",
       "      <td>http://www.crtvg.es/</td>\n",
       "    </tr>\n",
       "  </tbody>\n",
       "</table>\n",
       "<p>3267 rows × 1 columns</p>\n",
       "</div>"
      ],
      "text/plain": [
       "            track_uri_type\n",
       "0     http://podcast.wfmu.\n",
       "1     http://onethinginafr\n",
       "2     http://arabic.podhos\n",
       "3     http://mvod1.akcdn.r\n",
       "4     http://vcook.podOmat\n",
       "...                    ...\n",
       "3262  http://emotionalchan\n",
       "3263  http://static.audiof\n",
       "3264  http://192.168.30.10\n",
       "3265  http://terryguindi.p\n",
       "3266  http://www.crtvg.es/\n",
       "\n",
       "[3267 rows x 1 columns]"
      ]
     },
     "metadata": {},
     "output_type": "display_data"
    }
   ],
   "source": [
    "display(\n",
    "    df_full\n",
    "    .withColumn('track_uri_type',\n",
    "                f.when(f.length('track_sony_uri') >= 20,\n",
    "                       f.substring('track_sony_uri', 1, 20))\n",
    "                .otherwise(f.col('track_sony_uri')))\n",
    "    .select('track_uri_type')\n",
    "    .distinct()\n",
    "    .toPandas()\n",
    ")\n",
    "\n",
    "# n_types_of_track_uri = df_types_of_track_uri.count()\n",
    "# print(f'The number of distinct track uri types is: {n_types_of_track_uri}')"
   ]
  },
  {
   "cell_type": "code",
   "execution_count": null,
   "metadata": {
    "ExecuteTime": {
     "end_time": "2021-07-11T13:31:10.777208Z",
     "start_time": "2021-07-11T13:31:08.761Z"
    }
   },
   "outputs": [],
   "source": [
    "df_types_of_track_uri = (\n",
    "    df\n",
    "    .withColumn('track_uri_type',\n",
    "                f.when(f.length('track_uri') >= 20,\n",
    "                       f.substring('track_uri', 1, 20))\n",
    "                .otherwise(f.col('track_uri')))\n",
    "    .select('track_uri_type')\n",
    "    .distinct()\n",
    ")\n",
    "\n",
    "n_types_of_track_uri = df_types_of_track_uri.count()\n",
    "print(f'The number of distinct track uri types is: {n_types_of_track_uri}')"
   ]
  },
  {
   "cell_type": "code",
   "execution_count": null,
   "metadata": {
    "ExecuteTime": {
     "end_time": "2021-07-11T13:31:10.777907Z",
     "start_time": "2021-07-11T13:31:08.768Z"
    },
    "scrolled": true
   },
   "outputs": [],
   "source": [
    "# Display the table.\n",
    "if display_middle_results:\n",
    "    df_types_of_track_uri.limit(100).toPandas().head(5)"
   ]
  },
  {
   "cell_type": "code",
   "execution_count": null,
   "metadata": {
    "ExecuteTime": {
     "end_time": "2021-07-11T13:31:10.778690Z",
     "start_time": "2021-07-11T13:31:08.772Z"
    },
    "scrolled": true
   },
   "outputs": [],
   "source": [
    "df_track_uri_prefix = (\n",
    "    df\n",
    "    .where(f.col('track_uri').isNotNull())\n",
    "    .withColumn('track_uri_prefix',\n",
    "                 f.substring_index('track_uri', ':', 1))\n",
    "    .select(['track_uri_prefix', 'track_uri'])\n",
    "    .dropDuplicates(['track_uri_prefix'])\n",
    ")\n",
    "\n",
    "n_uri_prefix = df_track_uri_prefix.count()\n",
    "print(f'The number of distinct track uri types is: {n_uri_prefix}')\n",
    "\n",
    "# Display the table.\n",
    "if display_middle_results:\n",
    "    df_track_uri_prefix.limit(100).toPandas().head(5)"
   ]
  },
  {
   "cell_type": "code",
   "execution_count": null,
   "metadata": {
    "ExecuteTime": {
     "end_time": "2021-07-11T13:31:10.779483Z",
     "start_time": "2021-07-11T13:31:08.777Z"
    }
   },
   "outputs": [],
   "source": [
    "dfp_track_uri_prefix = df_track_uri_prefix.limit(10).toPandas()"
   ]
  },
  {
   "cell_type": "markdown",
   "metadata": {},
   "source": [
    "## Types of `track_spotify_uri`"
   ]
  },
  {
   "cell_type": "code",
   "execution_count": null,
   "metadata": {
    "ExecuteTime": {
     "end_time": "2021-07-11T13:31:10.780318Z",
     "start_time": "2021-07-11T13:31:08.784Z"
    }
   },
   "outputs": [],
   "source": [
    "df_types_of_track_id = (\n",
    "    df\n",
    "    .withColumn('track_id_type',\n",
    "                f.when(f.length('track_id') >= 7, \n",
    "                       f.substring('track_id', 1, 7))\n",
    "                .otherwise(f.col('track_id')))\n",
    "    .select(['track_id_type', 'track_id'])\n",
    "    .dropDuplicates(['track_id_type'])\n",
    ")\n",
    "\n",
    "# Count the number of track id's\n",
    "n_types_of_track_id = df_types_of_track_id.count()\n",
    "print(f'The number of distinct track uri types is: {n_types_of_track_id}')"
   ]
  },
  {
   "cell_type": "code",
   "execution_count": null,
   "metadata": {
    "ExecuteTime": {
     "end_time": "2021-07-11T13:31:10.781120Z",
     "start_time": "2021-07-11T13:31:08.788Z"
    }
   },
   "outputs": [],
   "source": [
    "# Display the dataframe.\n",
    "if display_middle_results:\n",
    "    df_types_of_track_id.limit(100).toPandas().head(5)"
   ]
  },
  {
   "cell_type": "markdown",
   "metadata": {},
   "source": [
    "## Coappearence of  `track_id` and  `track_uri`"
   ]
  },
  {
   "cell_type": "code",
   "execution_count": null,
   "metadata": {
    "ExecuteTime": {
     "end_time": "2021-07-11T13:31:10.781871Z",
     "start_time": "2021-07-11T13:31:08.793Z"
    }
   },
   "outputs": [],
   "source": [
    "n_track_id_and_uri_nonempty = (\n",
    "    df\n",
    "    .where((f.col('track_uri').isNotNull())\n",
    "           & (f.col('track_id').isNotNull()))\n",
    "    .count()\n",
    ")\n",
    "\n",
    "print(f'Number of rows where both \"tracks_id\" and '\n",
    "      f'\"tracks_uri\" are full: {n_track_id_and_uri_nonempty}.')"
   ]
  },
  {
   "cell_type": "markdown",
   "metadata": {},
   "source": [
    "## Rows where `track_uri` is a local path and the platform is not Walkman"
   ]
  },
  {
   "cell_type": "code",
   "execution_count": null,
   "metadata": {
    "ExecuteTime": {
     "end_time": "2021-07-11T13:31:10.782742Z",
     "start_time": "2021-07-11T13:31:08.798Z"
    }
   },
   "outputs": [],
   "source": [
    "df_a = (\n",
    "    df\n",
    "    .where(f.substring('track_uri', 1, 37) == 'content://media/external/audio/media/')\n",
    "    .where(f.col('track_player') != 'Walkman')\n",
    ")\n",
    "\n",
    "# Display the table.\n",
    "if display_middle_results:\n",
    "    df_a.limit(100).toPandas().head(5)\n"
   ]
  },
  {
   "cell_type": "code",
   "execution_count": null,
   "metadata": {
    "ExecuteTime": {
     "end_time": "2021-07-11T13:31:10.783474Z",
     "start_time": "2021-07-11T13:31:08.803Z"
    }
   },
   "outputs": [],
   "source": [
    "df_b = (\n",
    "    df\n",
    "    .where(f.substring('track_uri', 1, 37) == 'content://media/external/audio/media/')\n",
    "    .where(f.col('track_player') != 'Walkman')\n",
    ")\n",
    "\n",
    "# Display the table.\n",
    "if display_middle_results:\n",
    "    df_a.limit(100).toPandas().head(5)"
   ]
  },
  {
   "cell_type": "code",
   "execution_count": null,
   "metadata": {
    "ExecuteTime": {
     "end_time": "2021-07-11T13:31:10.784211Z",
     "start_time": "2021-07-11T13:31:08.807Z"
    }
   },
   "outputs": [],
   "source": [
    "df_b = (\n",
    "    df.withColumn('track_id_prefix', \n",
    "                 f.when(f.col('track_uri').isNull()))\n",
    "    \n",
    "    .where(f.substring('track_uri', 1, 37) == 'content://media/external/audio/media/')\n",
    "    .where(f.col('track_player') != 'Walkman')\n",
    ")\n",
    "\n",
    "# Display the table.\n",
    "if display_middle_results:\n",
    "    df_a.limit(100).toPandas().head(5)"
   ]
  },
  {
   "cell_type": "markdown",
   "metadata": {},
   "source": [
    "# Statistics\n",
    "<hr style=\"border:2px solid black\"></hr>\n"
   ]
  },
  {
   "cell_type": "markdown",
   "metadata": {},
   "source": [
    "## Visualize the amount of undefined cells in each column"
   ]
  },
  {
   "cell_type": "markdown",
   "metadata": {},
   "source": [
    "### As table"
   ]
  },
  {
   "cell_type": "markdown",
   "metadata": {},
   "source": [
    "Count the undefined cells in each column:"
   ]
  },
  {
   "cell_type": "code",
   "execution_count": null,
   "metadata": {
    "ExecuteTime": {
     "end_time": "2021-07-11T13:31:10.786310Z",
     "start_time": "2021-07-11T13:31:08.824Z"
    },
    "pycharm": {
     "name": "#%%\n"
    }
   },
   "outputs": [],
   "source": [
    "## COUNT THE UNDEFINED CELLS\n",
    "\n",
    "# Initialize the dict where the numbers will be stored.\n",
    "n_undefined = dict()\n",
    "pct_undefined = dict()\n",
    "\n",
    "# Count the undefined cells in each column.\n",
    "for column_name in tqdm(df.columns):\n",
    "    n_undefined[column_name] = df.where(f.col(column_name).isNull()).count()\n",
    "    pct_undefined[column_name] = n_undefined[column_name] / n_rows_total * 100\n",
    "\n",
    "    \n",
    "## DISPLAY RESULTS AS PANADAS TABLE\n",
    "\n",
    "# Define the column names.\n",
    "property_names = ['Number of cells', 'Percent of total'] \n",
    "\n",
    "# Create a dict representing the data.\n",
    "data = {column_name: [f'{n_undefined[column_name]:,.0f}',\n",
    "                      f'{pct_undefined[column_name]:.2f}']\n",
    "        for column_name in n_undefined.keys()}\n",
    "\n",
    "# Create the pandas dataframe for displaying.\n",
    "dfp_undefined = pd.DataFrame.from_dict(data,\n",
    "                                       orient='index',\n",
    "                                       columns=property_names)\n",
    "\n",
    "# Display the dataframe\n",
    "display(dfp_undefined)"
   ]
  },
  {
   "cell_type": "code",
   "execution_count": null,
   "metadata": {
    "ExecuteTime": {
     "end_time": "2021-07-11T13:31:10.787052Z",
     "start_time": "2021-07-11T13:31:08.829Z"
    },
    "pycharm": {
     "name": "#%%\n"
    }
   },
   "outputs": [],
   "source": [
    "t.save_table(dfp_undefined, 'undefined_cells_in_full_database')"
   ]
  },
  {
   "cell_type": "markdown",
   "metadata": {},
   "source": [
    "### As bargraph"
   ]
  },
  {
   "cell_type": "markdown",
   "metadata": {},
   "source": [
    "Create a bargraph represening the percentage of undefined cells in each column:"
   ]
  },
  {
   "cell_type": "code",
   "execution_count": null,
   "metadata": {
    "ExecuteTime": {
     "end_time": "2021-07-11T13:31:10.787742Z",
     "start_time": "2021-07-11T13:31:08.837Z"
    },
    "pycharm": {
     "name": "#%%\n"
    }
   },
   "outputs": [],
   "source": [
    "# Create a barplot showing the percentage of undefined values in each column.\n",
    "axes = sns.barplot(x=list(pct_undefined.keys()),\n",
    "                   y=list(pct_undefined.values()))\n",
    "\n",
    "# Rotate the tick labels for the x-axes.\n",
    "labels = axes.set_xticklabels(axes.get_xticklabels(),\n",
    "                              rotation=45,\n",
    "                              ha='right',\n",
    "                              va='top',\n",
    "                              fontsize=14\n",
    "                             )\n",
    "\n",
    "# Annotate the graph.\n",
    "title = axes.set_title('Percentage of undefined values by column')\n",
    "# x_label = axes.set_xlabel('Column name')\n",
    "y_label = axes.set_ylabel('Percentage of undefined values')\n",
    "\n",
    "# Apply general formatting.\n",
    "w.format_figure(axes.figure)\n",
    "\n",
    "# Save the figure\n",
    "# t.save_plot('percentage_of_undefined_cells_in_full_database')\n",
    "plt.savefig(Config.Path.report_images_root / 'percentage_of_undefined_cells_in_full_database.eps')"
   ]
  },
  {
   "cell_type": "markdown",
   "metadata": {},
   "source": [
    "## Visualize activities over time"
   ]
  },
  {
   "cell_type": "code",
   "execution_count": null,
   "metadata": {
    "ExecuteTime": {
     "end_time": "2021-07-11T13:31:10.788503Z",
     "start_time": "2021-07-11T13:31:08.841Z"
    },
    "pycharm": {
     "name": "#%%\n"
    },
    "scrolled": true
   },
   "outputs": [],
   "source": [
    "# Compute dataframe showing the number of activities and the total duration\n",
    "# of these activities per day. Order by activity date.\n",
    "df_activity_stats = (\n",
    "    df\n",
    "    .withColumn('activity_date', f.to_date('activity_start_time'))\n",
    "    .groupBy('activity_date')\n",
    "    .agg(f.count('activity_id').alias('n_activities'),\n",
    "         f.sum('activity_duration').alias('activity_duration_sum'))\n",
    "    .orderBy(f.asc('activity_date'))\n",
    ")\n",
    "\n",
    "# Show the top rows\n",
    "df_activity_stats.limit(100).toPandas().head(10)"
   ]
  },
  {
   "cell_type": "code",
   "execution_count": null,
   "metadata": {
    "ExecuteTime": {
     "end_time": "2021-07-11T13:31:10.789246Z",
     "start_time": "2021-07-11T13:31:08.847Z"
    },
    "pycharm": {
     "name": "#%%\n"
    }
   },
   "outputs": [],
   "source": [
    "# # Histogram\n",
    "# buckets = [int(10*1.2**i) for i in range(0,30)]\n",
    "# price_histogram = df_listings_rome.select('price').rdd.flatMap(lambda x: x).histogram(buckets)\n",
    "\n",
    "def get_column(df, column_name):\n",
    "    return df.select(column_name).rdd.flatMap(lambda x: x).collect()\n",
    "\n",
    "date = get_column(df_activity_stats, 'activity_date')\n",
    "n_activities = get_column(df_activity_stats, 'n_activities')\n",
    "duration_sum = get_column(df_activity_stats, 'activity_duration_sum')"
   ]
  },
  {
   "cell_type": "code",
   "execution_count": null,
   "metadata": {
    "ExecuteTime": {
     "end_time": "2021-07-11T13:31:10.789976Z",
     "start_time": "2021-07-11T13:31:08.851Z"
    }
   },
   "outputs": [],
   "source": [
    "# Create a figure and axes for the plot.\n",
    "figure, axes_left = w.empty_figure()\n",
    "\n",
    "# Create a twin axes for two different y-axes on the same plot.\n",
    "axes_right = axes_left.twinx()\n",
    "\n",
    "# Plot the data\n",
    "plot_left = axes_left.plot(date, np.array(n_activities) / 1e6,\n",
    "                      color='red',\n",
    "                      label='Number of daily activities')\n",
    "\n",
    "plot_right = axes_right.plot(date, np.array(duration_sum) / (3600 * 1e6),\n",
    "                         color='blue',\n",
    "                         label='Sum of duration of daily activites')\n",
    "\n",
    "# Set titles and labels.\n",
    "title = axes_left.set_title('Daily actvity')\n",
    "xlabel = axes_left.set_xlabel('')\n",
    "ylabel_left = axes_left.set_ylabel('Number of activities [millions]')\n",
    "ylabel_right = axes_right.set_ylabel('Time spent on activities [millions of hours]')\n",
    "\n",
    "# Set tickmarks.\n",
    "axes_left.xaxis.set_major_locator(mdates.YearLocator(1, month=1, day=1))\n",
    "x_lim = axes_left.set_xlim((datetime.datetime(2014, 1, 1), datetime.datetime(2020, 1, 1)))\n",
    "plot = plt.setp(axes_left.get_xticklabels(),\n",
    "                rotation=45,\n",
    "                ha=\"right\",\n",
    "                va='top',\n",
    "                rotation_mode=\"anchor\",\n",
    "                fontsize=14)\n",
    "\n",
    "# Set limits\n",
    "y_lim_left = axes_left.set_ylim((0, 5))\n",
    "y_lim_right = axes_right.set_ylim((0, 5))\n",
    "\n",
    "# Set layout\n",
    "axes = figure.axes\n",
    "for ax in axes:\n",
    "    ax.spines['top'].set_color('white')\n",
    "    ax.set_facecolor(\"white\")\n",
    "    ax.xaxis.label.set_fontsize(18)\n",
    "    ax.yaxis.label.set_fontsize(18)\n",
    "    ax.title.set_fontsize(20)\n",
    "    \n",
    "axes_left.yaxis.label.set_color('red')\n",
    "axes_right.yaxis.label.set_color('blue')\n",
    "\n",
    "# Set grid\n",
    "axes_left.xaxis.grid(which=\"both\", linewidth=0.5)\n",
    "axes_left.yaxis.grid(which=\"both\", linewidth=0.5)\n",
    "axes_right.grid(None)\n",
    "\n",
    "# Add a legend\n",
    "all_plots = plot_left + plot_right\n",
    "all_labels = [plot.get_label() for plot in all_plots]\n",
    "legend = axes_left.legend(all_plots, all_labels, loc=0)\n",
    "\n",
    "# Save the figure\n",
    "# t.save_plot('daily_activity_vs_time')\n",
    "figure.savefig(Config.Path.report_images_root / 'daily_activity_vs_time.eps')"
   ]
  },
  {
   "cell_type": "markdown",
   "metadata": {},
   "source": [
    "# Save the dataframe\n",
    "<hr style=\"border:2px solid black\"></hr>"
   ]
  },
  {
   "cell_type": "code",
   "execution_count": null,
   "metadata": {
    "ExecuteTime": {
     "end_time": "2021-07-11T13:31:10.790670Z",
     "start_time": "2021-07-11T13:31:08.855Z"
    },
    "pycharm": {
     "name": "#%%\n"
    }
   },
   "outputs": [],
   "source": [
    "# Save the start time for timing.\n",
    "start_time = time.time()\n",
    "\n",
    "# Save the dataframe with partitions defined by the first\n",
    "# two letters of the user ID.\n",
    "(df\n",
    " .withColumn('user_id_prefix', f.col('user_id').substr(0,2))\n",
    " .write.mode('overwrite')\n",
    " .partitionBy('user_id_prefix')\n",
    " .parquet(str(Config.Path.project_data_root / 'df_clean_new'))\n",
    ")\n",
    "\n",
    "# Print the execution time.\n",
    "print(f'Execution time: {time.time() - start_time:.5f} s.')"
   ]
  }
 ],
 "metadata": {
  "hide_input": false,
  "kernelspec": {
   "display_name": "Python 3",
   "language": "python",
   "name": "python3"
  },
  "language_info": {
   "codemirror_mode": {
    "name": "ipython",
    "version": 3
   },
   "file_extension": ".py",
   "mimetype": "text/x-python",
   "name": "python",
   "nbconvert_exporter": "python",
   "pygments_lexer": "ipython3",
   "version": "3.8.5"
  },
  "toc": {
   "base_numbering": 1,
   "nav_menu": {},
   "number_sections": true,
   "sideBar": true,
   "skip_h1_title": false,
   "title_cell": "Table of Contents",
   "title_sidebar": "Contents",
   "toc_cell": false,
   "toc_position": {
    "height": "calc(100% - 180px)",
    "left": "10px",
    "top": "150px",
    "width": "384px"
   },
   "toc_section_display": true,
   "toc_window_display": true
  },
  "varInspector": {
   "cols": {
    "lenName": 16,
    "lenType": 16,
    "lenVar": 40
   },
   "kernels_config": {
    "python": {
     "delete_cmd_postfix": "",
     "delete_cmd_prefix": "del ",
     "library": "var_list.py",
     "varRefreshCmd": "print(var_dic_list())"
    },
    "r": {
     "delete_cmd_postfix": ") ",
     "delete_cmd_prefix": "rm(",
     "library": "var_list.r",
     "varRefreshCmd": "cat(var_dic_list()) "
    }
   },
   "position": {
    "height": "344.85px",
    "left": "1553px",
    "right": "20px",
    "top": "120px",
    "width": "347px"
   },
   "types_to_exclude": [
    "module",
    "function",
    "builtin_function_or_method",
    "instance",
    "_Feature"
   ],
   "window_display": false
  }
 },
 "nbformat": 4,
 "nbformat_minor": 1
}
