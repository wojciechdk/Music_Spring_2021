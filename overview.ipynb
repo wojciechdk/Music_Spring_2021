{
 "cells": [
  {
   "cell_type": "markdown",
   "metadata": {
    "hide_input": true
   },
   "source": [
    "\n",
    "<p style=\"border:2px solid black\"> </p>\n",
    "<span style=\"font-family:Lucida Bright;\">\n",
    "<p style=\"margin-bottom:0.8cm\"></p>\n",
    "<center>\n",
    "<font size=\"6\"><b>Understanding Music Listening Habits</b></font>\n",
    "<p style=\"margin-bottom:-0.1cm\"></p>\n",
    "<font size=\"6\"><b>Using Large-scale Smartphone Data</b>  </font>\n",
    "\n",
    "<p style=\"margin-bottom:0.5cm\"></p>\n",
    "<font size=\"3\"><b>Wojciech Mazurkiewicz, DTU, 14 May 2021</b></font>\n",
    "<p style=\"margin-bottom:1cm\"></p>\n",
    "<font size=\"5\"><b>Overview</b></font>\n",
    "<br>\n",
    "<font size=\"3\"><b></b></font>\n",
    "</center>\n",
    "<p style=\"margin-bottom:0.4cm\"></p>\n",
    "<p style=\"border:2px solid black\"> </p>\n",
    "\n",
    "    "
   ]
  },
  {
   "cell_type": "markdown",
   "metadata": {},
   "source": [
    "# Initialization\n",
    "<p style=\"border:2px solid black\"> </p>\n"
   ]
  },
  {
   "cell_type": "markdown",
   "metadata": {},
   "source": [
    "The initializaiton procedure is defined in the notebook [Initialization](initialization.ipynb)."
   ]
  },
  {
   "cell_type": "code",
   "execution_count": 1,
   "metadata": {
    "ExecuteTime": {
     "end_time": "2021-07-11T17:52:24.373013Z",
     "start_time": "2021-07-11T17:52:22.661599Z"
    }
   },
   "outputs": [],
   "source": [
    "%run initialization.ipynb"
   ]
  },
  {
   "cell_type": "markdown",
   "metadata": {},
   "source": [
    "# The first look at the data\n",
    "<p style=\"border:2px solid black\"> </p>\n"
   ]
  },
  {
   "cell_type": "markdown",
   "metadata": {},
   "source": [
    "The analysis described in this section is performed in the notebook [Preliminary data analysis](preliminary_data_analysis.ipynb). Main findings:\n",
    "\n",
    "1. The raw data has multilevel column index, which we convert to a flat index, resulting in following 18 columns and corresponding descriptions (as stated in the provided avro files): \n",
    "    1. `id`: Activity UUID\n",
    "    1. `deleted_time`: If this activity has been deleted, this is the timestamp when it occurred\n",
    "    1. `useruuid`: User UUID\n",
    "    1. `start_time`: Start time\n",
    "    1. `end_time:` End time\n",
    "    1. `devices`: Devices used during this activity\n",
    "    1. `devices_name`: Name of the device\n",
    "    1. `devices_type`: Device type (PHONE, SMARTBAND, SMARTCAMERA, UNKNOWN, ...)\n",
    "    1. `devices_id`: Unique identifier of the device\n",
    "    1. `tracks`: -\n",
    "    1. `tracks_start_time`: -\n",
    "    1. `tracks_end_time`: -\n",
    "    1. `tracks_artist`: -\n",
    "    1. `tracks_album`: -\n",
    "    1. `tracks_title`: -\n",
    "    1. `tracks_uri`: -\n",
    "    1. `tracks_player`: -\n",
    "    1. `vtracks_id`: -\n",
    "\n",
    "\n",
    "2. The raw data has **627,101,296** rows, each corresponding to an \"activity\". \n",
    "\n",
    "\n",
    "3. The data two columns where data contains lists: `devices` and `tracks`. We unpack these columns so that each row corresponds to a playback of one song on one device. This increases the number of rows in the database to **3,571,278,161** \n",
    "\n",
    "\n",
    "4. Activity UUID (column `id`):\n",
    "    1. No empty cells\n",
    "    1. **46,360,934** id's have at least one duplicate (this amounts to at least 7.4% all rows in the raw database, i.e. where each row represents an activivty).\n",
    "    1. It might be reasonable to remove the duplicates.\n",
    " \n",
    " \n",
    "5. Activity deleted (column `deleted_time`):\n",
    "    1. 8.4% of all the rows (activities) in the raw database have the \"Deleted time\" property set. What to do with them:\n",
    "        1. Nothing\n",
    "        1. Delete the property (column).\n",
    "        1. Delete the rows where the property is set.\n",
    "\n",
    "\n",
    "6. Device types (column `devices_type`):\n",
    "    1. All the defined devices are of type: \"PHONE\".\n",
    "    1. 0.275 % of the devices in the unpacked database (where each row represents a playback of one song on one device) are undefined (null or UNKNOWN)\n",
    "    1. Therefore, it could be reasonable to remove the column.\n",
    "  \n",
    "  \n",
    "7. Track players (column `tracks_player`):\n",
    "    1. Following track players are represented in the database (percentages are expressed relative to the number of entries in the unpacked database, , i.e. where each row represents a playback of one song on one device):\n",
    "        1. Walkman: 68%\n",
    "        1. Spotify: 20%\n",
    "        1. Music: 8.42e-8%\n",
    "        1. Undefined: 12%\n",
    "\n",
    "\n",
    "8. Track ID and Track URI (columns `tracks_id` and  `tracks_uri`):\n",
    "    1. The Track ID and Track URI are never full at the same time. Therefore, the columns could be merged into one column.\n",
    "    \n",
    "   \n",
    "9. Activity and track start and stop times (columns `start_time`, `end_time`, `tracks_start_time` and  `tracks_end_time`):\n",
    "    1. The data should be converted to timestamps.\n",
    "    1. The data can be expressed in terms of start time and duration.\n",
    "\n",
    "\n",
    "\n",
    "\n",
    "    \n",
    "\n",
    "    \n",
    "    \n",
    "    \n",
    "    "
   ]
  },
  {
   "cell_type": "markdown",
   "metadata": {},
   "source": [
    "# Data cleaning\n",
    "<p style=\"border:2px solid black\"> </p>\n"
   ]
  },
  {
   "cell_type": "markdown",
   "metadata": {},
   "source": [
    "The analysis described in this section is performed in the notebook [Data Cleaning](data_cleaning.ipynb).\n",
    "\n",
    "The cleaning procedure:\n",
    "\n",
    "1. Remove the rows where the activity has been deleted.\n",
    "1. Drop the duplicates of activity ID, keeping the most recent activities.\n",
    "1. Flatten the schema (make column index flat)\n",
    "1. Explode the columns `devices` and `tracks` so that each line rows represents a playback of one track on one device.\n",
    "1. Ensure that all the data representing timestamps are formatted as such.\n",
    "1. Replace the start and end time of each activity and and track playback with start time and duration.\n",
    "1. Drop following columns:\n",
    "    1. `deleted_time`, as we have removed the rows where this property is set.\n",
    "    1. `devices_type`, as all defined devices are phones.\n",
    "    1. `yearmonth`, as it doesn't contain any information that is not present in other columns.\n",
    "1. Rename columns as follows:\n",
    "    1. Column `id` is renamed to `activity_id`.\n",
    "    1. Column `useruuid` is renamed to `user_id`.\n",
    "    1. Column `start_time` is renamed to `activity_start_time`.\n",
    "    1. Column `devices_name` is renamed to `device_name`.\n",
    "    1. Column `devices_id` is renamed to `device_id`.\n",
    "    1. Column `tracks_start_time` is renamed to `track_start_time`.\n",
    "    1. Column `tracks_artist` is renamed to `track_artist`.\n",
    "    1. Column `tracks_album` is renamed to `track_album`.\n",
    "    1. Column `tracks_title` is renamed to `track_title`.\n",
    "    1. Column `tracks_player` is renamed to `track_player`.\n",
    "    1. Column `tracks_id` is renamed to `track_spotify_uri`.\n",
    "    1. Column `tracks_uri` is renamed to `track_sony_uri`.\n",
    "1. Order the columns so that the ones belonging to the same group (e.g. devices) next to each other.\n",
    "1. Replace undefined cell values with null:\n",
    "    1. Empty cells.\n",
    "    1. Cells whose value is: \"\\<unknown\\>\"\n",
    "    1. Cells containing the character \"�\"\n",
    "1. Resulting database has 2,530,475,843 rows, each representing playback of one audio track on one playback device.\n",
    "1. Save the dataframe as in parquet format, where the files are sorted in folder by the first two letters of the column `user_id`."
   ]
  },
  {
   "cell_type": "markdown",
   "metadata": {},
   "source": [
    "# Initial statistics\n",
    "<p style=\"border:2px solid black\"> </p>\n"
   ]
  },
  {
   "cell_type": "markdown",
   "metadata": {},
   "source": [
    "The analysis described in this section is performed in the notebook [Initial Statistics](initial_statistics.ipynb).\n",
    "\n",
    "Main findings:"
   ]
  },
  {
   "cell_type": "code",
   "execution_count": 2,
   "metadata": {
    "ExecuteTime": {
     "end_time": "2021-07-11T17:52:24.390112Z",
     "start_time": "2021-07-11T17:52:24.374269Z"
    }
   },
   "outputs": [
    {
     "data": {
      "text/html": [
       "<div>\n",
       "<style scoped>\n",
       "    .dataframe tbody tr th:only-of-type {\n",
       "        vertical-align: middle;\n",
       "    }\n",
       "\n",
       "    .dataframe tbody tr th {\n",
       "        vertical-align: top;\n",
       "    }\n",
       "\n",
       "    .dataframe thead tr th {\n",
       "        text-align: left;\n",
       "    }\n",
       "</style>\n",
       "<table border=\"1\" class=\"dataframe\">\n",
       "  <thead>\n",
       "    <tr>\n",
       "      <th></th>\n",
       "      <th colspan=\"2\" halign=\"left\">Undefined</th>\n",
       "      <th>Number of distinct values</th>\n",
       "    </tr>\n",
       "    <tr>\n",
       "      <th></th>\n",
       "      <th>Number of cells</th>\n",
       "      <th>%</th>\n",
       "      <th></th>\n",
       "    </tr>\n",
       "  </thead>\n",
       "  <tbody>\n",
       "    <tr>\n",
       "      <th>activity_id</th>\n",
       "      <td>0</td>\n",
       "      <td>0.00</td>\n",
       "      <td>520,747,470</td>\n",
       "    </tr>\n",
       "    <tr>\n",
       "      <th>activity_start_time</th>\n",
       "      <td>0</td>\n",
       "      <td>0.00</td>\n",
       "      <td>519,487,179</td>\n",
       "    </tr>\n",
       "    <tr>\n",
       "      <th>activity_duration</th>\n",
       "      <td>0</td>\n",
       "      <td>0.00</td>\n",
       "      <td>235,387</td>\n",
       "    </tr>\n",
       "    <tr>\n",
       "      <th>device_id</th>\n",
       "      <td>7253534</td>\n",
       "      <td>0.29</td>\n",
       "      <td>4,742,108</td>\n",
       "    </tr>\n",
       "    <tr>\n",
       "      <th>device_name</th>\n",
       "      <td>7,258,178</td>\n",
       "      <td>0.29</td>\n",
       "      <td>4,188</td>\n",
       "    </tr>\n",
       "    <tr>\n",
       "      <th>track_artist</th>\n",
       "      <td>710,429,434</td>\n",
       "      <td>28.07</td>\n",
       "      <td>9,931,077</td>\n",
       "    </tr>\n",
       "    <tr>\n",
       "      <th>track_title</th>\n",
       "      <td>180,364,595</td>\n",
       "      <td>7.13</td>\n",
       "      <td>73,003,873</td>\n",
       "    </tr>\n",
       "    <tr>\n",
       "      <th>track_player</th>\n",
       "      <td>338,135,480</td>\n",
       "      <td>13.36</td>\n",
       "      <td>4</td>\n",
       "    </tr>\n",
       "    <tr>\n",
       "      <th>track_start_time</th>\n",
       "      <td>0</td>\n",
       "      <td>0.00</td>\n",
       "      <td>2,498,319,684</td>\n",
       "    </tr>\n",
       "    <tr>\n",
       "      <th>track_playback_duration</th>\n",
       "      <td>0</td>\n",
       "      <td>0.00</td>\n",
       "      <td>226,103</td>\n",
       "    </tr>\n",
       "    <tr>\n",
       "      <th>track_spotify_uri</th>\n",
       "      <td>2,033,877,221</td>\n",
       "      <td>80.38</td>\n",
       "      <td>10,870,457</td>\n",
       "    </tr>\n",
       "    <tr>\n",
       "      <th>track_sony_uri</th>\n",
       "      <td>496,936,211</td>\n",
       "      <td>19.64</td>\n",
       "      <td>3,344,649</td>\n",
       "    </tr>\n",
       "    <tr>\n",
       "      <th>user_id</th>\n",
       "      <td>0</td>\n",
       "      <td>0.00</td>\n",
       "      <td>4,228,782</td>\n",
       "    </tr>\n",
       "  </tbody>\n",
       "</table>\n",
       "</div>"
      ],
      "text/plain": [
       "                              Undefined       Number of distinct values\n",
       "                        Number of cells     %                          \n",
       "activity_id                           0  0.00               520,747,470\n",
       "activity_start_time                   0  0.00               519,487,179\n",
       "activity_duration                     0  0.00                   235,387\n",
       "device_id                       7253534  0.29                 4,742,108\n",
       "device_name                   7,258,178  0.29                     4,188\n",
       "track_artist                710,429,434 28.07                 9,931,077\n",
       "track_title                 180,364,595  7.13                73,003,873\n",
       "track_player                338,135,480 13.36                         4\n",
       "track_start_time                      0  0.00             2,498,319,684\n",
       "track_playback_duration               0  0.00                   226,103\n",
       "track_spotify_uri         2,033,877,221 80.38                10,870,457\n",
       "track_sony_uri              496,936,211 19.64                 3,344,649\n",
       "user_id                               0  0.00                 4,228,782"
      ]
     },
     "metadata": {},
     "output_type": "display_data"
    }
   ],
   "source": [
    "display(pd.read_pickle(Config.Path.initial_stats_df_combined_stats))"
   ]
  },
  {
   "cell_type": "markdown",
   "metadata": {},
   "source": [
    "## Number of undefined"
   ]
  },
  {
   "cell_type": "code",
   "execution_count": 3,
   "metadata": {
    "ExecuteTime": {
     "end_time": "2021-07-11T17:52:24.401879Z",
     "start_time": "2021-07-11T17:52:24.391459Z"
    }
   },
   "outputs": [
    {
     "data": {
      "text/html": [
       "<div>\n",
       "<style scoped>\n",
       "    .dataframe tbody tr th:only-of-type {\n",
       "        vertical-align: middle;\n",
       "    }\n",
       "\n",
       "    .dataframe tbody tr th {\n",
       "        vertical-align: top;\n",
       "    }\n",
       "\n",
       "    .dataframe thead tr th {\n",
       "        text-align: left;\n",
       "    }\n",
       "</style>\n",
       "<table border=\"1\" class=\"dataframe\">\n",
       "  <thead>\n",
       "    <tr>\n",
       "      <th></th>\n",
       "      <th colspan=\"2\" halign=\"left\">Undefined</th>\n",
       "    </tr>\n",
       "    <tr>\n",
       "      <th></th>\n",
       "      <th>Number of cells</th>\n",
       "      <th>%</th>\n",
       "    </tr>\n",
       "  </thead>\n",
       "  <tbody>\n",
       "    <tr>\n",
       "      <th>activity_id</th>\n",
       "      <td>0</td>\n",
       "      <td>0.00</td>\n",
       "    </tr>\n",
       "    <tr>\n",
       "      <th>activity_start_time</th>\n",
       "      <td>0</td>\n",
       "      <td>0.00</td>\n",
       "    </tr>\n",
       "    <tr>\n",
       "      <th>activity_duration</th>\n",
       "      <td>0</td>\n",
       "      <td>0.00</td>\n",
       "    </tr>\n",
       "    <tr>\n",
       "      <th>device_id</th>\n",
       "      <td>7253534</td>\n",
       "      <td>0.29</td>\n",
       "    </tr>\n",
       "    <tr>\n",
       "      <th>device_name</th>\n",
       "      <td>7,258,178</td>\n",
       "      <td>0.29</td>\n",
       "    </tr>\n",
       "    <tr>\n",
       "      <th>track_artist</th>\n",
       "      <td>710,429,434</td>\n",
       "      <td>28.07</td>\n",
       "    </tr>\n",
       "    <tr>\n",
       "      <th>track_title</th>\n",
       "      <td>180,364,595</td>\n",
       "      <td>7.13</td>\n",
       "    </tr>\n",
       "    <tr>\n",
       "      <th>track_player</th>\n",
       "      <td>338,135,480</td>\n",
       "      <td>13.36</td>\n",
       "    </tr>\n",
       "    <tr>\n",
       "      <th>track_start_time</th>\n",
       "      <td>0</td>\n",
       "      <td>0.00</td>\n",
       "    </tr>\n",
       "    <tr>\n",
       "      <th>track_playback_duration</th>\n",
       "      <td>0</td>\n",
       "      <td>0.00</td>\n",
       "    </tr>\n",
       "    <tr>\n",
       "      <th>track_spotify_uri</th>\n",
       "      <td>2,033,877,221</td>\n",
       "      <td>80.38</td>\n",
       "    </tr>\n",
       "    <tr>\n",
       "      <th>track_sony_uri</th>\n",
       "      <td>496,936,211</td>\n",
       "      <td>19.64</td>\n",
       "    </tr>\n",
       "    <tr>\n",
       "      <th>user_id</th>\n",
       "      <td>0</td>\n",
       "      <td>0.00</td>\n",
       "    </tr>\n",
       "  </tbody>\n",
       "</table>\n",
       "</div>"
      ],
      "text/plain": [
       "                              Undefined      \n",
       "                        Number of cells     %\n",
       "activity_id                           0  0.00\n",
       "activity_start_time                   0  0.00\n",
       "activity_duration                     0  0.00\n",
       "device_id                       7253534  0.29\n",
       "device_name                   7,258,178  0.29\n",
       "track_artist                710,429,434 28.07\n",
       "track_title                 180,364,595  7.13\n",
       "track_player                338,135,480 13.36\n",
       "track_start_time                      0  0.00\n",
       "track_playback_duration               0  0.00\n",
       "track_spotify_uri         2,033,877,221 80.38\n",
       "track_sony_uri              496,936,211 19.64\n",
       "user_id                               0  0.00"
      ]
     },
     "metadata": {},
     "output_type": "display_data"
    }
   ],
   "source": [
    "# If saved before, it is also possible to load the\n",
    "# dataframe from pickle.\n",
    "dfp_undefined_entries = pd.read_pickle(\n",
    "    Config.Path.initial_stats_df_n_undefined)\n",
    "\n",
    "# Show the result\n",
    "display(dfp_undefined_entries)"
   ]
  }
 ],
 "metadata": {
  "hide_input": false,
  "kernelspec": {
   "display_name": "Python 3",
   "language": "python",
   "name": "python3"
  },
  "language_info": {
   "codemirror_mode": {
    "name": "ipython",
    "version": 3
   },
   "file_extension": ".py",
   "mimetype": "text/x-python",
   "name": "python",
   "nbconvert_exporter": "python",
   "pygments_lexer": "ipython3",
   "version": "3.8.5"
  },
  "toc": {
   "base_numbering": 1,
   "nav_menu": {},
   "number_sections": true,
   "sideBar": true,
   "skip_h1_title": false,
   "title_cell": "Table of Contents",
   "title_sidebar": "Contents",
   "toc_cell": false,
   "toc_position": {
    "height": "calc(100% - 180px)",
    "left": "10px",
    "top": "150px",
    "width": "269px"
   },
   "toc_section_display": true,
   "toc_window_display": true
  },
  "varInspector": {
   "cols": {
    "lenName": 16,
    "lenType": 16,
    "lenVar": 40
   },
   "kernels_config": {
    "python": {
     "delete_cmd_postfix": "",
     "delete_cmd_prefix": "del ",
     "library": "var_list.py",
     "varRefreshCmd": "print(var_dic_list())"
    },
    "r": {
     "delete_cmd_postfix": ") ",
     "delete_cmd_prefix": "rm(",
     "library": "var_list.r",
     "varRefreshCmd": "cat(var_dic_list()) "
    }
   },
   "types_to_exclude": [
    "module",
    "function",
    "builtin_function_or_method",
    "instance",
    "_Feature"
   ],
   "window_display": false
  },
  "widgets": {
   "application/vnd.jupyter.widget-state+json": {
    "state": {
     "093e89bffde74c5a8863a1d8ffe0bb66": {
      "model_module": "@jupyter-widgets/controls",
      "model_module_version": "1.5.0",
      "model_name": "DescriptionStyleModel",
      "state": {
       "description_width": ""
      }
     },
     "1a5365fd770e464891fe02b94cb34b95": {
      "model_module": "@jupyter-widgets/base",
      "model_module_version": "1.2.0",
      "model_name": "LayoutModel",
      "state": {}
     },
     "1c7a498865af41a1bd4af63eca07bd28": {
      "model_module": "@jupyter-widgets/controls",
      "model_module_version": "1.5.0",
      "model_name": "FloatTextModel",
      "state": {
       "layout": "IPY_MODEL_68759d18977d4757ba3eb3cf81aa1129",
       "step": null,
       "style": "IPY_MODEL_feea9000784940f3b601fd1ba613dd31"
      }
     },
     "1ee2806f2e314951b8b42666540f6aee": {
      "model_module": "@jupyter-widgets/base",
      "model_module_version": "1.2.0",
      "model_name": "LayoutModel",
      "state": {}
     },
     "371339a327cc48d8a56358f512674975": {
      "model_module": "@jupyter-widgets/base",
      "model_module_version": "1.2.0",
      "model_name": "LayoutModel",
      "state": {}
     },
     "65604f719f9e41f3b6d495d3aa907529": {
      "model_module": "@jupyter-widgets/controls",
      "model_module_version": "1.5.0",
      "model_name": "SliderStyleModel",
      "state": {
       "description_width": ""
      }
     },
     "68759d18977d4757ba3eb3cf81aa1129": {
      "model_module": "@jupyter-widgets/base",
      "model_module_version": "1.2.0",
      "model_name": "LayoutModel",
      "state": {}
     },
     "68dd48c190fe4b8c92790dc65803d785": {
      "model_module": "@jupyter-widgets/controls",
      "model_module_version": "1.5.0",
      "model_name": "DropdownModel",
      "state": {
       "_options_labels": [
        "One",
        "Two",
        "Three"
       ],
       "description": "Number:",
       "index": 1,
       "layout": "IPY_MODEL_371339a327cc48d8a56358f512674975",
       "style": "IPY_MODEL_89e645fe88da40b2890bc1c08b50be78"
      }
     },
     "839595af423541ef946ce08e437e5b7e": {
      "model_module": "@jupyter-widgets/controls",
      "model_module_version": "1.5.0",
      "model_name": "DescriptionStyleModel",
      "state": {
       "description_width": ""
      }
     },
     "89e645fe88da40b2890bc1c08b50be78": {
      "model_module": "@jupyter-widgets/controls",
      "model_module_version": "1.5.0",
      "model_name": "DescriptionStyleModel",
      "state": {
       "description_width": ""
      }
     },
     "9091258d01434bf8ac0f41c12363e6a8": {
      "model_module": "@jupyter-widgets/controls",
      "model_module_version": "1.5.0",
      "model_name": "FloatTextModel",
      "state": {
       "layout": "IPY_MODEL_c22c18c67fe24f06ada7d28e3cb6ff90",
       "step": null,
       "style": "IPY_MODEL_839595af423541ef946ce08e437e5b7e"
      }
     },
     "afadc0b9a4f3458685319c1818955895": {
      "model_module": "@jupyter-widgets/controls",
      "model_module_version": "1.5.0",
      "model_name": "DropdownModel",
      "state": {
       "_options_labels": [
        "One",
        "Two",
        "Three"
       ],
       "description": "Number:",
       "index": 1,
       "layout": "IPY_MODEL_1ee2806f2e314951b8b42666540f6aee",
       "style": "IPY_MODEL_093e89bffde74c5a8863a1d8ffe0bb66"
      }
     },
     "c22c18c67fe24f06ada7d28e3cb6ff90": {
      "model_module": "@jupyter-widgets/base",
      "model_module_version": "1.2.0",
      "model_name": "LayoutModel",
      "state": {}
     },
     "c64dd728486c4d4396b6b2b4a02ca054": {
      "model_module": "@jupyter-widgets/controls",
      "model_module_version": "1.5.0",
      "model_name": "FloatSliderModel",
      "state": {
       "layout": "IPY_MODEL_1a5365fd770e464891fe02b94cb34b95",
       "step": 0.1,
       "style": "IPY_MODEL_ff2f617f26294276834c51733d0f253c"
      }
     },
     "d7c60be1aeb643fe9d80a622e61b4cc2": {
      "model_module": "@jupyter-widgets/base",
      "model_module_version": "1.2.0",
      "model_name": "LayoutModel",
      "state": {}
     },
     "fe21ecb1be5e431c9745cf04421dc9a0": {
      "model_module": "@jupyter-widgets/controls",
      "model_module_version": "1.5.0",
      "model_name": "FloatSliderModel",
      "state": {
       "layout": "IPY_MODEL_d7c60be1aeb643fe9d80a622e61b4cc2",
       "step": 0.1,
       "style": "IPY_MODEL_65604f719f9e41f3b6d495d3aa907529",
       "value": 55.4
      }
     },
     "feea9000784940f3b601fd1ba613dd31": {
      "model_module": "@jupyter-widgets/controls",
      "model_module_version": "1.5.0",
      "model_name": "DescriptionStyleModel",
      "state": {
       "description_width": ""
      }
     },
     "ff2f617f26294276834c51733d0f253c": {
      "model_module": "@jupyter-widgets/controls",
      "model_module_version": "1.5.0",
      "model_name": "SliderStyleModel",
      "state": {
       "description_width": ""
      }
     }
    },
    "version_major": 2,
    "version_minor": 0
   }
  }
 },
 "nbformat": 4,
 "nbformat_minor": 1
}
